{
 "cells": [
  {
   "cell_type": "code",
   "execution_count": 1,
   "metadata": {},
   "outputs": [],
   "source": [
    "import pandas as pd\n",
    "import matplotlib.pyplot as plt\n",
    "import numpy as np"
   ]
  },
  {
   "cell_type": "code",
   "execution_count": 2,
   "metadata": {},
   "outputs": [],
   "source": [
    "# collections data\n",
    "csv_file = \"resources/Mia_objects_raw.csv\""
   ]
  },
  {
   "cell_type": "code",
   "execution_count": 3,
   "metadata": {},
   "outputs": [
    {
     "data": {
      "text/html": [
       "<div>\n",
       "<style scoped>\n",
       "    .dataframe tbody tr th:only-of-type {\n",
       "        vertical-align: middle;\n",
       "    }\n",
       "\n",
       "    .dataframe tbody tr th {\n",
       "        vertical-align: top;\n",
       "    }\n",
       "\n",
       "    .dataframe thead th {\n",
       "        text-align: right;\n",
       "    }\n",
       "</style>\n",
       "<table border=\"1\" class=\"dataframe\">\n",
       "  <thead>\n",
       "    <tr style=\"text-align: right;\">\n",
       "      <th></th>\n",
       "      <th>accession_number</th>\n",
       "      <th>artist</th>\n",
       "      <th>classification</th>\n",
       "      <th>continent</th>\n",
       "      <th>country</th>\n",
       "      <th>creditline</th>\n",
       "      <th>culture</th>\n",
       "      <th>dated</th>\n",
       "      <th>department</th>\n",
       "      <th>id</th>\n",
       "      <th>life_date</th>\n",
       "      <th>medium</th>\n",
       "      <th>nationality</th>\n",
       "      <th>object_name</th>\n",
       "      <th>provenance</th>\n",
       "      <th>room</th>\n",
       "      <th>style</th>\n",
       "      <th>title</th>\n",
       "    </tr>\n",
       "  </thead>\n",
       "  <tbody>\n",
       "    <tr>\n",
       "      <th>0</th>\n",
       "      <td>10.1</td>\n",
       "      <td>Frederick G. Smith; Artist: Formerly attribute...</td>\n",
       "      <td>Drawings</td>\n",
       "      <td>Europe</td>\n",
       "      <td>England</td>\n",
       "      <td>Gift of Mrs. C. J. Martin, in memory of Charle...</td>\n",
       "      <td>NaN</td>\n",
       "      <td>c.1888-89</td>\n",
       "      <td>Prints and Drawings</td>\n",
       "      <td>0</td>\n",
       "      <td>English, 1833 - 1911</td>\n",
       "      <td>Pen and ink, brush and wash over graphite</td>\n",
       "      <td>English</td>\n",
       "      <td>Drawing</td>\n",
       "      <td>[Art dealer, London, acquired from \"an old hou...</td>\n",
       "      <td>Not on View</td>\n",
       "      <td>19th century</td>\n",
       "      <td>Air, from the series The Four Elements</td>\n",
       "    </tr>\n",
       "    <tr>\n",
       "      <th>1</th>\n",
       "      <td>10.2</td>\n",
       "      <td>Frederick G. Smith; Artist: Formerly attribute...</td>\n",
       "      <td>Drawings</td>\n",
       "      <td>Europe</td>\n",
       "      <td>England</td>\n",
       "      <td>Gift of Mrs. C. J. Martin, in memory of Charle...</td>\n",
       "      <td>NaN</td>\n",
       "      <td>c. 1888-89</td>\n",
       "      <td>Prints and Drawings</td>\n",
       "      <td>1</td>\n",
       "      <td>English, 1833 - 1911</td>\n",
       "      <td>Pen and ink, brush and wash over graphite</td>\n",
       "      <td>English</td>\n",
       "      <td>Drawing</td>\n",
       "      <td>[Art dealer, London, acquired from \"an old hou...</td>\n",
       "      <td>Not on View</td>\n",
       "      <td>19th century</td>\n",
       "      <td>Earth, from the series The Four Elements</td>\n",
       "    </tr>\n",
       "    <tr>\n",
       "      <th>2</th>\n",
       "      <td>10.3</td>\n",
       "      <td>Frederick G. Smith; Artist: Formerly attribute...</td>\n",
       "      <td>Drawings</td>\n",
       "      <td>Europe</td>\n",
       "      <td>England</td>\n",
       "      <td>Gift of Mrs. C. J. Martin, in memory of Charle...</td>\n",
       "      <td>NaN</td>\n",
       "      <td>c. 1888-89</td>\n",
       "      <td>Prints and Drawings</td>\n",
       "      <td>2</td>\n",
       "      <td>English, 1833 - 1911</td>\n",
       "      <td>Pen and ink, brush and wash over graphite</td>\n",
       "      <td>English</td>\n",
       "      <td>Drawing</td>\n",
       "      <td>[Art dealer, London, acquired from \"an old hou...</td>\n",
       "      <td>G352</td>\n",
       "      <td>19th century</td>\n",
       "      <td>Fire, from the series The Four Elements</td>\n",
       "    </tr>\n",
       "    <tr>\n",
       "      <th>3</th>\n",
       "      <td>10.4</td>\n",
       "      <td>Frederick G. Smith; Artist: Formerly attribute...</td>\n",
       "      <td>Drawings</td>\n",
       "      <td>Europe</td>\n",
       "      <td>England</td>\n",
       "      <td>Gift of Mrs. C. J. Martin, in memory of Charle...</td>\n",
       "      <td>NaN</td>\n",
       "      <td>c. 1888-89</td>\n",
       "      <td>Prints and Drawings</td>\n",
       "      <td>3</td>\n",
       "      <td>English, 1833 - 1911</td>\n",
       "      <td>Pen and ink, brush and wash over graphite</td>\n",
       "      <td>English</td>\n",
       "      <td>Drawing</td>\n",
       "      <td>[Art dealer, London, acquired from \"an old hou...</td>\n",
       "      <td>Not on View</td>\n",
       "      <td>19th century</td>\n",
       "      <td>Water, from the series The Four Elements</td>\n",
       "    </tr>\n",
       "    <tr>\n",
       "      <th>4</th>\n",
       "      <td>13.29</td>\n",
       "      <td>Walter Shirlaw</td>\n",
       "      <td>Drawings</td>\n",
       "      <td>North America</td>\n",
       "      <td>United States</td>\n",
       "      <td>Gift of Mrs. Florence M. Shirlaw</td>\n",
       "      <td>NaN</td>\n",
       "      <td>19th century</td>\n",
       "      <td>Prints and Drawings</td>\n",
       "      <td>4</td>\n",
       "      <td>American, 1838 - 1909</td>\n",
       "      <td>Watercolor</td>\n",
       "      <td>American</td>\n",
       "      <td>Drawing</td>\n",
       "      <td>NaN</td>\n",
       "      <td>Not on View</td>\n",
       "      <td>19th century</td>\n",
       "      <td>Montana Indian Reservation I</td>\n",
       "    </tr>\n",
       "  </tbody>\n",
       "</table>\n",
       "</div>"
      ],
      "text/plain": [
       "  accession_number                                             artist  \\\n",
       "0             10.1  Frederick G. Smith; Artist: Formerly attribute...   \n",
       "1             10.2  Frederick G. Smith; Artist: Formerly attribute...   \n",
       "2             10.3  Frederick G. Smith; Artist: Formerly attribute...   \n",
       "3             10.4  Frederick G. Smith; Artist: Formerly attribute...   \n",
       "4            13.29                                     Walter Shirlaw   \n",
       "\n",
       "  classification      continent        country  \\\n",
       "0       Drawings         Europe        England   \n",
       "1       Drawings         Europe        England   \n",
       "2       Drawings         Europe        England   \n",
       "3       Drawings         Europe        England   \n",
       "4       Drawings  North America  United States   \n",
       "\n",
       "                                          creditline culture         dated  \\\n",
       "0  Gift of Mrs. C. J. Martin, in memory of Charle...     NaN     c.1888-89   \n",
       "1  Gift of Mrs. C. J. Martin, in memory of Charle...     NaN    c. 1888-89   \n",
       "2  Gift of Mrs. C. J. Martin, in memory of Charle...     NaN    c. 1888-89   \n",
       "3  Gift of Mrs. C. J. Martin, in memory of Charle...     NaN    c. 1888-89   \n",
       "4                   Gift of Mrs. Florence M. Shirlaw     NaN  19th century   \n",
       "\n",
       "            department  id              life_date  \\\n",
       "0  Prints and Drawings   0   English, 1833 - 1911   \n",
       "1  Prints and Drawings   1   English, 1833 - 1911   \n",
       "2  Prints and Drawings   2   English, 1833 - 1911   \n",
       "3  Prints and Drawings   3   English, 1833 - 1911   \n",
       "4  Prints and Drawings   4  American, 1838 - 1909   \n",
       "\n",
       "                                      medium nationality object_name  \\\n",
       "0  Pen and ink, brush and wash over graphite     English     Drawing   \n",
       "1  Pen and ink, brush and wash over graphite     English     Drawing   \n",
       "2  Pen and ink, brush and wash over graphite     English     Drawing   \n",
       "3  Pen and ink, brush and wash over graphite     English     Drawing   \n",
       "4                                 Watercolor    American     Drawing   \n",
       "\n",
       "                                          provenance         room  \\\n",
       "0  [Art dealer, London, acquired from \"an old hou...  Not on View   \n",
       "1  [Art dealer, London, acquired from \"an old hou...  Not on View   \n",
       "2  [Art dealer, London, acquired from \"an old hou...         G352   \n",
       "3  [Art dealer, London, acquired from \"an old hou...  Not on View   \n",
       "4                                                NaN  Not on View   \n",
       "\n",
       "          style                                     title  \n",
       "0  19th century    Air, from the series The Four Elements  \n",
       "1  19th century  Earth, from the series The Four Elements  \n",
       "2  19th century   Fire, from the series The Four Elements  \n",
       "3  19th century  Water, from the series The Four Elements  \n",
       "4  19th century              Montana Indian Reservation I  "
      ]
     },
     "execution_count": 3,
     "metadata": {},
     "output_type": "execute_result"
    }
   ],
   "source": [
    "df = pd.read_csv(csv_file, index_col='Unnamed: 0')\n",
    "df.head()"
   ]
  },
  {
   "cell_type": "code",
   "execution_count": 4,
   "metadata": {},
   "outputs": [],
   "source": [
    "# strip \"P\" & \"p\" from prints & drawings\n",
    "df['accession_number'] = df['accession_number'].str.lstrip('P.')\n",
    "df['accession_number'] = df['accession_number'].str.lstrip('p.')\n",
    "\n",
    "# split out first half of accession number\n",
    "df['accession_year'] = df['accession_number'].str.split('.', n=1, expand=True)[0]"
   ]
  },
  {
   "cell_type": "markdown",
   "metadata": {},
   "source": [
    "# Acession Number Cleaning\n",
    "\n",
    "### RBL/RB/X\n",
    "Adding columns for unknown accession letters"
   ]
  },
  {
   "cell_type": "code",
   "execution_count": 5,
   "metadata": {},
   "outputs": [],
   "source": [
    "# add 'RBL' column\n",
    "df['RBL'] = df['accession_year'].str.extract(r'(RBL)', expand=True)\n",
    "# add 'RB' column\n",
    "df['RB'] = df['accession_year'].str.extract(r'(RB)', expand=True)\n",
    "# add 'X' column\n",
    "df['X'] = df['accession_year'].str.extract(r'(^X)', expand=True)"
   ]
  },
  {
   "cell_type": "markdown",
   "metadata": {},
   "source": [
    "### L\n",
    "Adding column for loaned objects"
   ]
  },
  {
   "cell_type": "code",
   "execution_count": 6,
   "metadata": {},
   "outputs": [],
   "source": [
    "# add loan column\n",
    "df['loan'] = df['accession_year'].str.extract(r'(^L)', expand=True)"
   ]
  },
  {
   "cell_type": "markdown",
   "metadata": {},
   "source": [
    "Stripping letters from accession_year"
   ]
  },
  {
   "cell_type": "code",
   "execution_count": 7,
   "metadata": {},
   "outputs": [],
   "source": [
    "# strip 'RBL' from accession_year column (strips L, RB & RBL)\n",
    "df['accession_year'] = df['accession_year'].str.lstrip('RBL')\n",
    "\n",
    "# strip \"X\" from accession_year column\n",
    "df['accession_year'] = df['accession_year'].str.lstrip('X')"
   ]
  },
  {
   "cell_type": "markdown",
   "metadata": {},
   "source": [
    "### Filter out invalid years\n",
    "\n",
    "Filter dataframe three ways:\n",
    "- Filter out accession years longer than 4 digits (years go up to 4 digits e.g. 2019)\n",
    "- Filter out accession numbers shorter than 4 digits (standard accession numbers are in format YY.#)\n",
    "- Use groupby to filter out any accession years with less than two entries"
   ]
  },
  {
   "cell_type": "code",
   "execution_count": 8,
   "metadata": {},
   "outputs": [],
   "source": [
    "# replace all empty cells with None\n",
    "df = df.replace('', None)"
   ]
  },
  {
   "cell_type": "code",
   "execution_count": 9,
   "metadata": {},
   "outputs": [],
   "source": [
    "# filter dataframe for accession years longer than 4 digits\n",
    "df_1 = df[df['accession_year'].map(lambda x: len(x) < 5)]\n",
    "df_2 = df[df['accession_year'].map(lambda x: len(x) > 4)]"
   ]
  },
  {
   "cell_type": "code",
   "execution_count": 10,
   "metadata": {},
   "outputs": [],
   "source": [
    "# filter dataframe for accession numbers shorter than 4 digits\n",
    "df_3 = df_1[df_1['accession_number'].map(lambda x: len(x) > 3)]\n",
    "df_4 = df_1[df_1['accession_number'].map(lambda x: len(x) < 4)]"
   ]
  },
  {
   "cell_type": "code",
   "execution_count": 11,
   "metadata": {},
   "outputs": [],
   "source": [
    "# Use groupby to filter out any accession years with less than 30 entries\n",
    "df_grouped = df_3.groupby('accession_year').filter(lambda x: len(x) > 30)\n",
    "df_remainder = df_3.groupby('accession_year').filter(lambda x: len(x) <= 30)"
   ]
  },
  {
   "cell_type": "markdown",
   "metadata": {},
   "source": [
    "### Manually Updating Using Creditline info\n",
    "Using creditline info, update accession year when possible for objects filtered out of dataframe with invalid accession years\n",
    "\n",
    "- Pull top entries in remainder dataframes\n",
    "- Update accession year with information from creditline\n",
    "- Re-run data filtering code and start again"
   ]
  },
  {
   "cell_type": "code",
   "execution_count": 12,
   "metadata": {},
   "outputs": [
    {
     "data": {
      "text/plain": [
       "99      7717\n",
       "2013    4006\n",
       "2003    3731\n",
       "98      3550\n",
       "2007    3121\n",
       "2004    3066\n",
       "2002    2864\n",
       "96      2650\n",
       "2015    2625\n",
       "2001    2490\n",
       "2010    2356\n",
       "97      2306\n",
       "2005    2180\n",
       "74      2018\n",
       "95      1960\n",
       "2000    1957\n",
       "2017    1828\n",
       "2014    1771\n",
       "2018    1771\n",
       "2012    1771\n",
       "82      1680\n",
       "77      1676\n",
       "90      1671\n",
       "2016    1651\n",
       "2006    1625\n",
       "81      1580\n",
       "94      1468\n",
       "75      1360\n",
       "2008    1323\n",
       "47      1295\n",
       "        ... \n",
       "37       167\n",
       "28       139\n",
       "14       129\n",
       "56       127\n",
       "45       124\n",
       "44       122\n",
       "24       108\n",
       "09       105\n",
       "46       105\n",
       "26       105\n",
       "16       103\n",
       "20       103\n",
       "29       100\n",
       "32        98\n",
       "43        91\n",
       "13        77\n",
       "22        62\n",
       "55        61\n",
       "36        59\n",
       "33        56\n",
       "59        56\n",
       "39        54\n",
       "49        47\n",
       "60        46\n",
       "57        45\n",
       "38        44\n",
       "53        36\n",
       "48        36\n",
       "18        36\n",
       "52        33\n",
       "Name: accession_year, Length: 107, dtype: int64"
      ]
     },
     "execution_count": 12,
     "metadata": {},
     "output_type": "execute_result"
    }
   ],
   "source": [
    "# starting accession year data for reference\n",
    "df_grouped.accession_year.value_counts()"
   ]
  },
  {
   "cell_type": "code",
   "execution_count": 13,
   "metadata": {},
   "outputs": [
    {
     "data": {
      "text/plain": [
       "The Minnich Collection\\r\\nThe Ethel Morrison Van Derlip Fund, 1966       7573\n",
       "The William M. Ladd Collection\\r\\nGift of Herschel V. Jones, 1916        4962\n",
       "Gift of Mrs. Charles C. Bovey, 1924                                      3133\n",
       "Gift of George A. Goddard, 1919                                           614\n",
       "Gift of H. V. Jones                                                       518\n",
       "The William M. Ladd Collection\\r\\nGift of Herschel V. Jones, 1916\\r\\n     325\n",
       "Gift of Mrs. George P. Douglas, 1946                                      267\n",
       "Gift of Herschel V. Jones, 1926                                           231\n",
       "Gift of Mrs. George P. Douglas, 1929                                      212\n",
       "Gift of Mrs.C.C.Bovey, 1924                                               163\n",
       "Name: creditline, dtype: int64"
      ]
     },
     "execution_count": 13,
     "metadata": {},
     "output_type": "execute_result"
    }
   ],
   "source": [
    "# combine df_2, df_4, and df_remainder into one larger dataframe\n",
    "df_remainder = df_remainder.append([df_2,df_4])\n",
    "df_remainder.creditline.value_counts().head(10)"
   ]
  },
  {
   "cell_type": "code",
   "execution_count": 14,
   "metadata": {},
   "outputs": [],
   "source": [
    "# Update top 10 entries\n",
    "df.loc[(df['creditline'] == 'The Minnich Collection\\r\\nThe Ethel Morrison Van Derlip Fund, 1966'), \n",
    "            'accession_year'] = '66'\n",
    "df.loc[(df['creditline'] == 'The William M. Ladd Collection\\r\\nGift of Herschel V. Jones, 1916'), \n",
    "            'accession_year'] = '16'\n",
    "df.loc[(df['creditline'] == 'Gift of Mrs. Charles C. Bovey, 1924'), \n",
    "            'accession_year'] = '24'\n",
    "df.loc[(df['creditline'] == 'Gift of George A. Goddard, 1919'), \n",
    "            'accession_year'] = '19'\n",
    "df.loc[(df['creditline'] == 'The William M. Ladd Collection\\r\\nGift of Herschel V. Jones, 1916\\r\\n'), \n",
    "            'accession_year'] = '16'\n",
    "df.loc[(df['creditline'] == 'Gift of Mrs. George P. Douglas, 1946'), \n",
    "            'accession_year'] = '46'\n",
    "df.loc[(df['creditline'] == 'Gift of Herschel V. Jones, 1926'), \n",
    "            'accession_year'] = '26'\n",
    "df.loc[(df['creditline'] == 'Gift of Mrs. George P. Douglas, 1929'), \n",
    "            'accession_year'] = '29'\n",
    "df.loc[(df['creditline'] == 'Gift of Mrs.C.C.Bovey, 1924'), \n",
    "            'accession_year'] = '24'"
   ]
  },
  {
   "cell_type": "code",
   "execution_count": 15,
   "metadata": {},
   "outputs": [
    {
     "data": {
      "text/plain": [
       "The William M. Ladd Collection\\r\\nGift of Herschel V. Jones, 1916    872\n",
       "Gift of H. V. Jones                                                  518\n",
       "Gift of Mr. R. E. Lewis, 1965                                        153\n",
       "Gift of Herschel V. Jones, 1925                                      137\n",
       "The Minnich Collection\\r\\nThe Ethel Morrison Van Derlip Fund         114\n",
       "Gift of Miss A. G. Latham, 1943                                       99\n",
       "Bequest of Mrs. Charles S. Pillsbury, 1958                            91\n",
       "Gift of Philip Little in memory of Annie Jeannette Jackson, 1931      84\n",
       "Gift of Mrs. C.C. Bovey, 1941                                         79\n",
       "Gift of Mr. George A. Goddard, 1919                                   77\n",
       "Name: creditline, dtype: int64"
      ]
     },
     "execution_count": 15,
     "metadata": {},
     "output_type": "execute_result"
    }
   ],
   "source": [
    "# rerun filters on updated dataframe\n",
    "# filter dataframe for accession years longer than 4 digits\n",
    "df_1 = df[df['accession_year'].map(lambda x: len(x) < 5)]\n",
    "df_2 = df[df['accession_year'].map(lambda x: len(x) > 4)]\n",
    "# filter dataframe for accession numbers shorter than 4 digits\n",
    "df_3 = df_1[df_1['accession_number'].map(lambda x: len(x) > 3)]\n",
    "df_4 = df_1[df_1['accession_number'].map(lambda x: len(x) < 4)]\n",
    "# Use groupby to filter out any accession years with less than 30 entries\n",
    "df_grouped = df_3.groupby('accession_year').filter(lambda x: len(x) > 30)\n",
    "df_remainder = df_3.groupby('accession_year').filter(lambda x: len(x) <= 30)\n",
    "# combine df_2, df_4, and df_remainder into one larger dataframe\n",
    "df_remainder = df_remainder.append([df_2,df_4])\n",
    "df_remainder.creditline.value_counts().head(10)"
   ]
  },
  {
   "cell_type": "code",
   "execution_count": 16,
   "metadata": {},
   "outputs": [],
   "source": [
    "# Update top 10 entries\n",
    "df.loc[(df['creditline'] == 'Gift of Mr. R. E. Lewis, 1965'), \n",
    "            'accession_year'] = '65'\n",
    "df.loc[(df['creditline'] == 'Gift of Herschel V. Jones, 1925'), \n",
    "            'accession_year'] = '25'\n",
    "df.loc[(df['creditline'] == 'Gift of Miss A. G. Latham, 1943'), \n",
    "            'accession_year'] = '43'\n",
    "df.loc[(df['creditline'] == 'Bequest of Mrs. Charles S. Pillsbury, 1958'), \n",
    "            'accession_year'] = '58'\n",
    "df.loc[(df['creditline'] == 'Gift of Philip Little in memory of Annie Jeannette Jackson, 1931'), \n",
    "            'accession_year'] = '31'\n",
    "df.loc[(df['creditline'] == 'Gift of Mrs. C.C. Bovey, 1941'), \n",
    "            'accession_year'] = '41'\n",
    "df.loc[(df['creditline'] == 'Gift of Mr. George A. Goddard, 1919'), \n",
    "            'accession_year'] = '19'"
   ]
  },
  {
   "cell_type": "code",
   "execution_count": 17,
   "metadata": {},
   "outputs": [
    {
     "data": {
      "text/plain": [
       "The William M. Ladd Collection\\r\\nGift of Herschel V. Jones, 1916        872\n",
       "Gift of H. V. Jones                                                      518\n",
       "The Minnich Collection\\r\\nThe Ethel Morrison Van Derlip Fund             114\n",
       "Gift of Mrs. C.C. Bovey, 1924                                             74\n",
       "Gift of Mrs. Philip Little, Jr., 1963                                     69\n",
       "Gift of Mrs. Philip Little, Jr., 1962                                     65\n",
       "Gift of Miss Perrie Jones, 1961                                           65\n",
       "Gift of Mrs. B.J.O Nordfeldt, 1955                                        63\n",
       "Gift of Howard Mansfield, 1926                                            63\n",
       "Gift of Ruth Lathrop Sikes in memory of her brother Bruce Sikes, 1967     61\n",
       "Name: creditline, dtype: int64"
      ]
     },
     "execution_count": 17,
     "metadata": {},
     "output_type": "execute_result"
    }
   ],
   "source": [
    "# rerun filters on updated dataframe\n",
    "# filter dataframe for accession years longer than 4 digits\n",
    "df_1 = df[df['accession_year'].map(lambda x: len(x) < 5)]\n",
    "df_2 = df[df['accession_year'].map(lambda x: len(x) > 4)]\n",
    "# filter dataframe for accession numbers shorter than 4 digits\n",
    "df_3 = df_1[df_1['accession_number'].map(lambda x: len(x) > 3)]\n",
    "df_4 = df_1[df_1['accession_number'].map(lambda x: len(x) < 4)]\n",
    "# Use groupby to filter out any accession years with less than 30 entries\n",
    "df_grouped = df_3.groupby('accession_year').filter(lambda x: len(x) > 30)\n",
    "df_remainder = df_3.groupby('accession_year').filter(lambda x: len(x) <= 30)\n",
    "# combine df_2, df_4, and df_remainder into one larger dataframe\n",
    "df_remainder = df_remainder.append([df_2,df_4])\n",
    "df_remainder.creditline.value_counts().head(10)"
   ]
  },
  {
   "cell_type": "code",
   "execution_count": 18,
   "metadata": {},
   "outputs": [],
   "source": [
    "# Update top 10 entries\n",
    "df.loc[(df['creditline'] == 'Gift of Mrs. C.C. Bovey, 1924'), \n",
    "            'accession_year'] = '24'\n",
    "df.loc[(df['creditline'] == 'Gift of Mrs. Philip Little, Jr., 1963'), \n",
    "            'accession_year'] = '63'\n",
    "df.loc[(df['creditline'] == 'Gift of Mrs. Philip Little, Jr., 1962'), \n",
    "            'accession_year'] = '62'\n",
    "df.loc[(df['creditline'] == 'Gift of Miss Perrie Jones, 1961'), \n",
    "            'accession_year'] = '61'\n",
    "df.loc[(df['creditline'] == 'Gift of Mrs. B.J.O Nordfeldt, 1955'), \n",
    "            'accession_year'] = '55'\n",
    "df.loc[(df['creditline'] == 'Gift of Howard Mansfield, 1926'), \n",
    "            'accession_year'] = '26'\n",
    "df.loc[(df['creditline'] == 'Gift of Ruth Lathrop Sikes in memory of her brother Bruce Sikes, 1967'), \n",
    "            'accession_year'] = '67'"
   ]
  },
  {
   "cell_type": "code",
   "execution_count": 19,
   "metadata": {},
   "outputs": [
    {
     "data": {
      "text/plain": [
       "The William M. Ladd Collection\\r\\nGift of Herschel V. Jones, 1916                                            872\n",
       "Gift of H. V. Jones                                                                                          518\n",
       "The Minnich Collection\\r\\nThe Ethel Morrison Van Derlip Fund                                                 114\n",
       "Gift of Miss Eileen Bigelow and Mrs. O. H. Ingram, in memory of their mother, Mrs. Alice F. Bigelow, 1965     60\n",
       "Gift of the Artist, 1923                                                                                      58\n",
       "The Ethel Morrison Van Derlip Fund                                                                            55\n",
       "The Minnich Collection\\r\\nThe Ethel Morrison Van DerLip Fund, 1966                                            53\n",
       "Gift of F.N. Edmonds                                                                                          52\n",
       "Gift of Miss Katherine Bullard, 1918                                                                          48\n",
       "The Ethel Morrison Van Derlip Fund, 1967                                                                      41\n",
       "Gift of Mrs. C. C. Bovey, 1941                                                                                41\n",
       "Gift of Funds from Mrs. Franklin M. Crosby Jr. and the William Hood Dunwoody Fund, 1947                       41\n",
       "Name: creditline, dtype: int64"
      ]
     },
     "execution_count": 19,
     "metadata": {},
     "output_type": "execute_result"
    }
   ],
   "source": [
    "# rerun filters on updated dataframe\n",
    "# filter dataframe for accession years longer than 4 digits\n",
    "df_1 = df[df['accession_year'].map(lambda x: len(x) < 5)]\n",
    "df_2 = df[df['accession_year'].map(lambda x: len(x) > 4)]\n",
    "# filter dataframe for accession numbers shorter than 4 digits\n",
    "df_3 = df_1[df_1['accession_number'].map(lambda x: len(x) > 3)]\n",
    "df_4 = df_1[df_1['accession_number'].map(lambda x: len(x) < 4)]\n",
    "# Use groupby to filter out any accession years with less than 30 entries\n",
    "df_grouped = df_3.groupby('accession_year').filter(lambda x: len(x) > 30)\n",
    "df_remainder = df_3.groupby('accession_year').filter(lambda x: len(x) <= 30)\n",
    "# combine df_2, df_4, and df_remainder into one larger dataframe\n",
    "df_remainder = df_remainder.append([df_2,df_4])\n",
    "df_remainder.creditline.value_counts().head(12)"
   ]
  },
  {
   "cell_type": "code",
   "execution_count": 21,
   "metadata": {},
   "outputs": [],
   "source": [
    "# Update top 12 entries\n",
    "df.loc[(df['creditline'] == 'Gift of Miss Eileen Bigelow and Mrs. O. H. Ingram, in memory of their mother, Mrs. Alice F. Bigelow, 1965'), \n",
    "            'accession_year'] = '65'\n",
    "df.loc[(df['creditline'] == 'Gift of the Artist, 1923'), \n",
    "            'accession_year'] = '23'\n",
    "df.loc[(df['creditline'] == 'The Minnich Collection\\r\\nThe Ethel Morrison Van DerLip Fund, 1966'), \n",
    "            'accession_year'] = '66'\n",
    "df.loc[(df['creditline'] == 'Gift of Miss Katherine Bullard, 1918'), \n",
    "            'accession_year'] = '18'\n",
    "df.loc[(df['creditline'] == 'Gift of Funds from Mrs. Franklin M. Crosby Jr. and the William Hood Dunwoody Fund, 1947'), \n",
    "            'accession_year'] = '47'\n",
    "df.loc[(df['creditline'] == 'The Ethel Morrison Van Derlip Fund, 1967'), \n",
    "            'accession_year'] = '67'\n",
    "df.loc[(df['creditline'] == 'Gift of Mrs. C. C. Bovey, 1941'), \n",
    "            'accession_year'] = '41'"
   ]
  },
  {
   "cell_type": "code",
   "execution_count": 22,
   "metadata": {},
   "outputs": [
    {
     "data": {
      "text/plain": [
       "The William M. Ladd Collection\\r\\nGift of Herschel V. Jones, 1916    872\n",
       "Gift of H. V. Jones                                                  518\n",
       "The Minnich Collection\\r\\nThe Ethel Morrison Van Derlip Fund         114\n",
       "The Ethel Morrison Van Derlip Fund                                    55\n",
       "Gift of F.N. Edmonds                                                  52\n",
       "Pillsbury Bequest, 1958                                               40\n",
       "Gift of Mrs. Carl W. Jones in Memory of Her Husband                   38\n",
       "Gift of Frederick B. Wells                                            38\n",
       "Gift of Mrs. Darwin R. Martin                                         38\n",
       "The Ethel Morrison Van Derlip Fund, 1965                              36\n",
       "Gift of Mrs. George P. Douglas, 1955                                  35\n",
       "The Christina N. and Swan J. Turnblad Memorial Fund, 1964             35\n",
       "The William Hood Dunwoody Fund                                        31\n",
       "Gift of the Estate of Dorothy Millett Lindeke                         30\n",
       "Gift of Mrs. Hiram C. Truesdale, 1927                                 30\n",
       "Name: creditline, dtype: int64"
      ]
     },
     "execution_count": 22,
     "metadata": {},
     "output_type": "execute_result"
    }
   ],
   "source": [
    "# rerun filters on updated dataframe\n",
    "# filter dataframe for accession years longer than 4 digits\n",
    "df_1 = df[df['accession_year'].map(lambda x: len(x) < 5)]\n",
    "df_2 = df[df['accession_year'].map(lambda x: len(x) > 4)]\n",
    "# filter dataframe for accession numbers shorter than 4 digits\n",
    "df_3 = df_1[df_1['accession_number'].map(lambda x: len(x) > 3)]\n",
    "df_4 = df_1[df_1['accession_number'].map(lambda x: len(x) < 4)]\n",
    "# Use groupby to filter out any accession years with less than 30 entries\n",
    "df_grouped = df_3.groupby('accession_year').filter(lambda x: len(x) > 30)\n",
    "df_remainder = df_3.groupby('accession_year').filter(lambda x: len(x) <= 30)\n",
    "# combine df_2, df_4, and df_remainder into one larger dataframe\n",
    "df_remainder = df_remainder.append([df_2,df_4])\n",
    "df_remainder.creditline.value_counts().head(15)"
   ]
  },
  {
   "cell_type": "code",
   "execution_count": 23,
   "metadata": {},
   "outputs": [],
   "source": [
    "# Update top 15 entries\n",
    "df.loc[(df['creditline'] == 'Pillsbury Bequest, 1958'), \n",
    "            'accession_year'] = '58'\n",
    "df.loc[(df['creditline'] == 'The Ethel Morrison Van Derlip Fund, 1965'), \n",
    "            'accession_year'] = '65'\n",
    "df.loc[(df['creditline'] == 'Gift of Mrs. George P. Douglas, 1955'), \n",
    "            'accession_year'] = '55'\n",
    "df.loc[(df['creditline'] == 'The Christina N. and Swan J. Turnblad Memorial Fund, 1964'), \n",
    "            'accession_year'] = '64'\n",
    "df.loc[(df['creditline'] == 'Gift of Mrs. Hiram C. Truesdale, 1927'), \n",
    "            'accession_year'] = '27'"
   ]
  },
  {
   "cell_type": "code",
   "execution_count": 24,
   "metadata": {},
   "outputs": [
    {
     "data": {
      "text/plain": [
       "Gift of Mrs. Darwin R. Martin                                                               38\n",
       "Gift of Frederick B. Wells                                                                  38\n",
       "Gift of Mrs. Carl W. Jones in Memory of Her Husband                                         38\n",
       "The William Hood Dunwoody Fund                                                              31\n",
       "Gift of the Estate of Dorothy Millett Lindeke                                               30\n",
       "The William Hood Dunwoody Fund, 1915                                                        28\n",
       "Gift of Friends of Art in Minneapolis, 1917                                                 27\n",
       "Gift of Miss Tessie Jones in memory of her parents, Mr. and Mrs. Herschel V. Jones, 1966    27\n",
       "Gift of Mrs. George P. Douglas, 1929\\r\\n                                                    27\n",
       "Gift of Mrs. Childe Hassam, 1940                                                            24\n",
       "Gift of Bruce B. Dayton                                                                     24\n",
       "The Ethel Morrison Van Derlip Fund, 1966                                                    23\n",
       "The Miscellaneous Works of Art Purchase Fund, 1956                                          23\n",
       "Gift of Ethel Morrison Van DerLip, 1916                                                     22\n",
       "Name: creditline, dtype: int64"
      ]
     },
     "execution_count": 24,
     "metadata": {},
     "output_type": "execute_result"
    }
   ],
   "source": [
    "# rerun filters on updated dataframe\n",
    "# filter dataframe for accession years longer than 4 digits\n",
    "df_1 = df[df['accession_year'].map(lambda x: len(x) < 5)]\n",
    "df_2 = df[df['accession_year'].map(lambda x: len(x) > 4)]\n",
    "# filter dataframe for accession numbers shorter than 4 digits\n",
    "df_3 = df_1[df_1['accession_number'].map(lambda x: len(x) > 3)]\n",
    "df_4 = df_1[df_1['accession_number'].map(lambda x: len(x) < 4)]\n",
    "# Use groupby to filter out any accession years with less than 30 entries\n",
    "df_grouped = df_3.groupby('accession_year').filter(lambda x: len(x) > 30)\n",
    "df_remainder = df_3.groupby('accession_year').filter(lambda x: len(x) <= 30)\n",
    "# combine df_2, df_4, and df_remainder into one larger dataframe\n",
    "df_remainder = df_remainder.append([df_2,df_4])\n",
    "df_remainder.creditline.value_counts()[5:19]"
   ]
  },
  {
   "cell_type": "code",
   "execution_count": 25,
   "metadata": {},
   "outputs": [],
   "source": [
    "# Update next 15 entries\n",
    "df.loc[(df['creditline'] == 'The William Hood Dunwoody Fund, 1915'), \n",
    "            'accession_year'] = '15'\n",
    "df.loc[(df['creditline'] == 'Gift of Mrs. George P. Douglas, 1929\\r\\n'), \n",
    "            'accession_year'] = '29'\n",
    "df.loc[(df['creditline'] == 'Gift of Friends of Art in Minneapolis, 1917'), \n",
    "            'accession_year'] = '17'\n",
    "df.loc[(df['creditline'] == 'Gift of Miss Tessie Jones in memory of her parents, Mr. and Mrs. Herschel V. Jones, 1966'), \n",
    "            'accession_year'] = '66'\n",
    "df.loc[(df['creditline'] == 'Gift of Mrs. Childe Hassam, 1940'), \n",
    "            'accession_year'] = '40'\n",
    "df.loc[(df['creditline'] == 'The Miscellaneous Works of Art Purchase Fund, 1956'), \n",
    "            'accession_year'] = '56'\n",
    "df.loc[(df['creditline'] == 'The Ethel Morrison Van Derlip Fund, 1966'), \n",
    "            'accession_year'] = '66'\n",
    "df.loc[(df['creditline'] == 'Gift of Ethel Morrison Van DerLip, 1916'), \n",
    "            'accession_year'] = '16'"
   ]
  },
  {
   "cell_type": "code",
   "execution_count": 28,
   "metadata": {},
   "outputs": [
    {
     "data": {
      "text/plain": [
       "Gift of Frederick B. Wells                             38\n",
       "Gift of Mrs. Darwin R. Martin                          38\n",
       "Gift of Mrs. Carl W. Jones in Memory of Her Husband    38\n",
       "The William Hood Dunwoody Fund                         31\n",
       "Gift of the Estate of Dorothy Millett Lindeke          30\n",
       "The William Hood Dunwoody Fund, 1915                   28\n",
       "Gift of Bruce B. Dayton                                24\n",
       "Gift of Ethel Morrison Van DerLip, 1916                22\n",
       "Gift of Mr. and Mrs. Edward A. Foster, 1966            21\n",
       "Gift of Mr. and Mrs. Edward A. Foster, 1965            21\n",
       "Goddard, 1919                                          21\n",
       "Gift of the Estate of Wanda Gag, 1956                  19\n",
       "Gift of Mrs. George Resler, 1965                       19\n",
       "Gift of J. B. Neumann, 1962                            19\n",
       "Purchase: July, 1922                                   19\n",
       "Name: creditline, dtype: int64"
      ]
     },
     "execution_count": 28,
     "metadata": {},
     "output_type": "execute_result"
    }
   ],
   "source": [
    "# rerun filters on updated dataframe\n",
    "# filter dataframe for accession years longer than 4 digits\n",
    "df_1 = df[df['accession_year'].map(lambda x: len(x) < 5)]\n",
    "df_2 = df[df['accession_year'].map(lambda x: len(x) > 4)]\n",
    "# filter dataframe for accession numbers shorter than 4 digits\n",
    "df_3 = df_1[df_1['accession_number'].map(lambda x: len(x) > 3)]\n",
    "df_4 = df_1[df_1['accession_number'].map(lambda x: len(x) < 4)]\n",
    "# Use groupby to filter out any accession years with less than 30 entries\n",
    "df_grouped = df_3.groupby('accession_year').filter(lambda x: len(x) > 30)\n",
    "df_remainder = df_3.groupby('accession_year').filter(lambda x: len(x) <= 30)\n",
    "# combine df_2, df_4, and df_remainder into one larger dataframe\n",
    "df_remainder = df_remainder.append([df_2,df_4])\n",
    "df_remainder.creditline.value_counts()[5:20]"
   ]
  },
  {
   "cell_type": "code",
   "execution_count": 29,
   "metadata": {},
   "outputs": [],
   "source": [
    "# Update next 15 entries\n",
    "df.loc[(df['creditline'] == 'Gift of Mr. and Mrs. Edward A. Foster, 1965'), \n",
    "            'accession_year'] = '65'\n",
    "df.loc[(df['creditline'] == 'Gift of Mr. and Mrs. Edward A. Foster, 1966'), \n",
    "            'accession_year'] = '66'\n",
    "df.loc[(df['creditline'] == 'Goddard, 1919'), \n",
    "            'accession_year'] = '19'\n",
    "df.loc[(df['creditline'] == 'Gift of the Estate of Wanda Gag, 1956'), \n",
    "            'accession_year'] = '56'\n",
    "df.loc[(df['creditline'] == 'Gift of Mrs. George Resler, 1965'), \n",
    "            'accession_year'] = '65'\n",
    "df.loc[(df['creditline'] == 'Gift of J. B. Neumann, 1962'), \n",
    "            'accession_year'] = '62'\n",
    "df.loc[(df['creditline'] == 'Purchase: July, 1922'), \n",
    "            'accession_year'] = '22'"
   ]
  },
  {
   "cell_type": "code",
   "execution_count": 32,
   "metadata": {},
   "outputs": [
    {
     "data": {
      "text/plain": [
       "Gift of Frederick B. Wells                             38\n",
       "Gift of Mrs. Carl W. Jones in Memory of Her Husband    38\n",
       "Gift of Mrs. Darwin R. Martin                          38\n",
       "The William Hood Dunwoody Fund                         31\n",
       "Gift of the Estate of Dorothy Millett Lindeke          30\n",
       "The William Hood Dunwoody Fund, 1915                   28\n",
       "Gift of Bruce B. Dayton                                24\n",
       "Gift of Ethel Morrison Van DerLip, 1916                22\n",
       "Gift of The John L. Smith Fund, 1927                   17\n",
       "Gift of the Artist, 1930                               17\n",
       "The Martha T. Wallace Memorial Fund, 1930              16\n",
       "The William Hood Dunwoody Fund, 1946                   16\n",
       "The John R. Van Derlip Print Fund                      16\n",
       "Purchase: 1938                                         16\n",
       "Name: creditline, dtype: int64"
      ]
     },
     "execution_count": 32,
     "metadata": {},
     "output_type": "execute_result"
    }
   ],
   "source": [
    "# rerun filters on updated dataframe\n",
    "# filter dataframe for accession years longer than 4 digits\n",
    "df_1 = df[df['accession_year'].map(lambda x: len(x) < 5)]\n",
    "df_2 = df[df['accession_year'].map(lambda x: len(x) > 4)]\n",
    "# filter dataframe for accession numbers shorter than 4 digits\n",
    "df_3 = df_1[df_1['accession_number'].map(lambda x: len(x) > 3)]\n",
    "df_4 = df_1[df_1['accession_number'].map(lambda x: len(x) < 4)]\n",
    "# Use groupby to filter out any accession years with less than 30 entries\n",
    "df_grouped = df_3.groupby('accession_year').filter(lambda x: len(x) > 30)\n",
    "df_remainder = df_3.groupby('accession_year').filter(lambda x: len(x) <= 30)\n",
    "# combine df_2, df_4, and df_remainder into one larger dataframe\n",
    "df_remainder = df_remainder.append([df_2,df_4])\n",
    "df_remainder.creditline.value_counts()[5:19]"
   ]
  },
  {
   "cell_type": "code",
   "execution_count": 33,
   "metadata": {},
   "outputs": [],
   "source": [
    "# Update next 15 entries\n",
    "df.loc[(df['creditline'] == 'Gift of The John L. Smith Fund, 1927'), \n",
    "            'accession_year'] = '27'\n",
    "df.loc[(df['creditline'] == 'Gift of the Artist, 1930'), \n",
    "            'accession_year'] = '30'\n",
    "df.loc[(df['creditline'] == 'The Martha T. Wallace Memorial Fund, 1930'), \n",
    "            'accession_year'] = '30'\n",
    "df.loc[(df['creditline'] == 'The William Hood Dunwoody Fund, 1946'), \n",
    "            'accession_year'] = '46'\n",
    "df.loc[(df['creditline'] == 'Purchase: 1938'), \n",
    "            'accession_year'] = '38'"
   ]
  },
  {
   "cell_type": "code",
   "execution_count": 37,
   "metadata": {},
   "outputs": [
    {
     "data": {
      "text/plain": [
       "The William Hood Dunwoody Fund, 1915                         28\n",
       "Gift of Bruce B. Dayton                                      24\n",
       "Gift of Ethel Morrison Van DerLip, 1916                      22\n",
       "The John R. Van Derlip Print Fund                            16\n",
       "Gift of Mrs. C.C. Bovey, 1929                                15\n",
       "The William M. Ladd Collection, Gift of Herschel V. Jones    15\n",
       "Gift of the Artist, 1957                                     15\n",
       "Gift of Mrs. Leo B. Harris, 1965                             15\n",
       "Gift of J. B. Neumann                                        14\n",
       "Gift of Herschel V. Jones, 1927                              13\n",
       "Gift of George A. Goddard                                    13\n",
       "On Permanent Loan from the State Arts Society                13\n",
       "Gift of Mr. & Mrs. E. D. Brooks, 1919                        13\n",
       "The William Hood Dunwoody Fund, 1961                         12\n",
       "Name: creditline, dtype: int64"
      ]
     },
     "execution_count": 37,
     "metadata": {},
     "output_type": "execute_result"
    }
   ],
   "source": [
    "# rerun filters on updated dataframe\n",
    "# filter dataframe for accession years longer than 4 digits\n",
    "df_1 = df[df['accession_year'].map(lambda x: len(x) < 5)]\n",
    "df_2 = df[df['accession_year'].map(lambda x: len(x) > 4)]\n",
    "# filter dataframe for accession numbers shorter than 4 digits\n",
    "df_3 = df_1[df_1['accession_number'].map(lambda x: len(x) > 3)]\n",
    "df_4 = df_1[df_1['accession_number'].map(lambda x: len(x) < 4)]\n",
    "# Use groupby to filter out any accession years with less than 30 entries\n",
    "df_grouped = df_3.groupby('accession_year').filter(lambda x: len(x) > 30)\n",
    "df_remainder = df_3.groupby('accession_year').filter(lambda x: len(x) <= 30)\n",
    "# combine df_2, df_4, and df_remainder into one larger dataframe\n",
    "df_remainder = df_remainder.append([df_2,df_4])\n",
    "df_remainder.creditline.value_counts()[10:24]"
   ]
  },
  {
   "cell_type": "code",
   "execution_count": 38,
   "metadata": {},
   "outputs": [],
   "source": [
    "# Update next 15 entries\n",
    "df.loc[(df['creditline'] == 'Gift of Mrs. C.C. Bovey, 1929'), \n",
    "            'accession_year'] = '29'\n",
    "df.loc[(df['creditline'] == 'Gift of Mrs. Leo B. Harris, 1965'), \n",
    "            'accession_year'] = '65'\n",
    "df.loc[(df['creditline'] == 'Gift of the Artist, 1957'), \n",
    "            'accession_year'] = '57'\n",
    "df.loc[(df['creditline'] == 'Gift of Herschel V. Jones, 1927'), \n",
    "            'accession_year'] = '27'\n",
    "df.loc[(df['creditline'] == 'Gift of Mr. & Mrs. E. D. Brooks, 1919'), \n",
    "            'accession_year'] = '19'\n",
    "df.loc[(df['creditline'] == 'The William Hood Dunwoody Fund, 1961'), \n",
    "            'accession_year'] = '61'"
   ]
  },
  {
   "cell_type": "code",
   "execution_count": 41,
   "metadata": {},
   "outputs": [
    {
     "data": {
      "text/plain": [
       "The William Hood Dunwoody Fund, 1915                         28\n",
       "Gift of Bruce B. Dayton                                      24\n",
       "Gift of Ethel Morrison Van DerLip, 1916                      22\n",
       "The John R. Van Derlip Print Fund                            16\n",
       "The William M. Ladd Collection, Gift of Herschel V. Jones    15\n",
       "Gift of J. B. Neumann                                        14\n",
       "On Permanent Loan from the State Arts Society                13\n",
       "Gift of George A. Goddard                                    13\n",
       "The David Draper Dayton Fund, 1958                           11\n",
       "Bequest of Mrs. Charles S. PIllsbury, 1958                   11\n",
       "The Miscellaneous Works of Art Purchase Fund                 11\n",
       "Purchase: 1922                                               11\n",
       "Anonymous Gift                                               11\n",
       "Gift of Dr. Angus Morrison                                   11\n",
       "Gift of Mrs. Keith Merrill, 1940                             11\n",
       "Gift of Clement Haupers, 1965                                11\n",
       "The Miscellaneous Works of Art Purchase Fund, 1957           11\n",
       "Gift of Mr. and Mrs. E. D. Brooks, 1919                      11\n",
       "Name: creditline, dtype: int64"
      ]
     },
     "execution_count": 41,
     "metadata": {},
     "output_type": "execute_result"
    }
   ],
   "source": [
    "# rerun filters on updated dataframe\n",
    "# filter dataframe for accession years longer than 4 digits\n",
    "df_1 = df[df['accession_year'].map(lambda x: len(x) < 5)]\n",
    "df_2 = df[df['accession_year'].map(lambda x: len(x) > 4)]\n",
    "# filter dataframe for accession numbers shorter than 4 digits\n",
    "df_3 = df_1[df_1['accession_number'].map(lambda x: len(x) > 3)]\n",
    "df_4 = df_1[df_1['accession_number'].map(lambda x: len(x) < 4)]\n",
    "# Use groupby to filter out any accession years with less than 30 entries\n",
    "df_grouped = df_3.groupby('accession_year').filter(lambda x: len(x) > 30)\n",
    "df_remainder = df_3.groupby('accession_year').filter(lambda x: len(x) <= 30)\n",
    "# combine df_2, df_4, and df_remainder into one larger dataframe\n",
    "df_remainder = df_remainder.append([df_2,df_4])\n",
    "df_remainder.creditline.value_counts()[10:28]"
   ]
  },
  {
   "cell_type": "code",
   "execution_count": 42,
   "metadata": {},
   "outputs": [],
   "source": [
    "# Update next 15 entries\n",
    "df.loc[(df['creditline'] == 'The David Draper Dayton Fund, 1958'), \n",
    "            'accession_year'] = '58'\n",
    "df.loc[(df['creditline'] == 'Bequest of Mrs. Charles S. PIllsbury, 1958'), \n",
    "            'accession_year'] = '58'\n",
    "df.loc[(df['creditline'] == 'Purchase: 1922'), \n",
    "            'accession_year'] = '22'\n",
    "df.loc[(df['creditline'] == 'Gift of Mrs. Keith Merrill, 1940'), \n",
    "            'accession_year'] = '40'\n",
    "df.loc[(df['creditline'] == 'Gift of Clement Haupers, 1965'), \n",
    "            'accession_year'] = '65'\n",
    "df.loc[(df['creditline'] == 'The Miscellaneous Works of Art Purchase Fund, 1957'), \n",
    "            'accession_year'] = '57'\n",
    "df.loc[(df['creditline'] == 'Gift of Mr. and Mrs. E. D. Brooks, 1919'), \n",
    "            'accession_year'] = '19'"
   ]
  },
  {
   "cell_type": "code",
   "execution_count": 48,
   "metadata": {},
   "outputs": [
    {
     "data": {
      "text/plain": [
       "Gift of J. B. Neumann                              14\n",
       "Gift of George A. Goddard                          13\n",
       "On Permanent Loan from the State Arts Society      13\n",
       "The Miscellaneous Works of Art Purchase Fund       11\n",
       "Gift of Dr. Angus Morrison                         11\n",
       "Anonymous Gift                                     11\n",
       "Anonymous Gift, 1920                               10\n",
       "Gift of J.B. Neumann                               10\n",
       "Gift of Philip W. Pillsbury, 1959                  10\n",
       "Gift of Mr. and Mrs. Edmund D. Brooks, May 1919    10\n",
       "Gift of Ethel Morrison Van Derlip, 1916             9\n",
       "Gift of Mrs. Grace B. Wells, 1954                   9\n",
       "Gift of Herschel V. Jones                           9\n",
       "Ethel Morrison Van Derlip Fund, 1965                9\n",
       "The John R. Van Derlip Fund                         9\n",
       "Gift of Elmer E. Tafflinger, 1927                   9\n",
       "Gift of Mr. and Mrs. E.D. Brooks, May 1919          9\n",
       "Gift of Mrs. C.C. Bovey                             9\n",
       "Name: creditline, dtype: int64"
      ]
     },
     "execution_count": 48,
     "metadata": {},
     "output_type": "execute_result"
    }
   ],
   "source": [
    "# rerun filters on updated dataframe\n",
    "# filter dataframe for accession years longer than 4 digits\n",
    "df_1 = df[df['accession_year'].map(lambda x: len(x) < 5)]\n",
    "df_2 = df[df['accession_year'].map(lambda x: len(x) > 4)]\n",
    "# filter dataframe for accession numbers shorter than 4 digits\n",
    "df_3 = df_1[df_1['accession_number'].map(lambda x: len(x) > 3)]\n",
    "df_4 = df_1[df_1['accession_number'].map(lambda x: len(x) < 4)]\n",
    "# Use groupby to filter out any accession years with less than 30 entries\n",
    "df_grouped = df_3.groupby('accession_year').filter(lambda x: len(x) > 30)\n",
    "df_remainder = df_3.groupby('accession_year').filter(lambda x: len(x) <= 30)\n",
    "# combine df_2, df_4, and df_remainder into one larger dataframe\n",
    "df_remainder = df_remainder.append([df_2,df_4])\n",
    "df_remainder.creditline.value_counts()[15:33]"
   ]
  },
  {
   "cell_type": "code",
   "execution_count": 49,
   "metadata": {},
   "outputs": [],
   "source": [
    "# Update next 15 entries\n",
    "df.loc[(df['creditline'] == 'Anonymous Gift, 1920'), \n",
    "            'accession_year'] = '20'\n",
    "df.loc[(df['creditline'] == 'Gift of Philip W. Pillsbury, 1959'), \n",
    "            'accession_year'] = '59'\n",
    "df.loc[(df['creditline'] == 'Gift of Mr. and Mrs. Edmund D. Brooks, May 1919'), \n",
    "            'accession_year'] = '19'\n",
    "df.loc[(df['creditline'] == 'Gift of Ethel Morrison Van Derlip, 1916'), \n",
    "            'accession_year'] = '16'\n",
    "df.loc[(df['creditline'] == 'Gift of Mrs. Grace B. Wells, 1954'), \n",
    "            'accession_year'] = '54'\n",
    "df.loc[(df['creditline'] == 'Ethel Morrison Van Derlip Fund, 1965'), \n",
    "            'accession_year'] = '65'\n",
    "df.loc[(df['creditline'] == 'Gift of Elmer E. Tafflinger, 1927'), \n",
    "            'accession_year'] = '27'\n",
    "df.loc[(df['creditline'] == 'Gift of Mr. and Mrs. E.D. Brooks, May 1919'), \n",
    "            'accession_year'] = '19'"
   ]
  },
  {
   "cell_type": "code",
   "execution_count": 52,
   "metadata": {},
   "outputs": [
    {
     "data": {
      "text/plain": [
       "Gift of Dr. Angus Morrison                                   11\n",
       "Gift of J.B. Neumann                                         10\n",
       "The John R. Van Derlip Fund                                   9\n",
       "Gift of Ethel Morrison Van Derlip, 1916                       9\n",
       "Gift of Mrs. C.C. Bovey                                       9\n",
       "Gift of Herschel V. Jones                                     9\n",
       "Estate of Mrs. John Washburn, 1942                            8\n",
       "The Ethel Morrison Van Derlip Fund, 1961                      8\n",
       "Gift of Mrs. Ridgely Hunt, 1940                               8\n",
       "Gift of Mr. Marvin Small, 1961                                8\n",
       "The William Hood Dundwoody Fund, 1915                         8\n",
       "The Christina N. and Swan J. Turnblad Memorial Fund, 1966     8\n",
       "The Ethel Morrison Van Derlip Fund, 1964                      8\n",
       "Gift of Richard P. Gale, 1956                                 8\n",
       "Name: creditline, dtype: int64"
      ]
     },
     "execution_count": 52,
     "metadata": {},
     "output_type": "execute_result"
    }
   ],
   "source": [
    "# rerun filters on updated dataframe\n",
    "# filter dataframe for accession years longer than 4 digits\n",
    "df_1 = df[df['accession_year'].map(lambda x: len(x) < 5)]\n",
    "df_2 = df[df['accession_year'].map(lambda x: len(x) > 4)]\n",
    "# filter dataframe for accession numbers shorter than 4 digits\n",
    "df_3 = df_1[df_1['accession_number'].map(lambda x: len(x) > 3)]\n",
    "df_4 = df_1[df_1['accession_number'].map(lambda x: len(x) < 4)]\n",
    "# Use groupby to filter out any accession years with less than 30 entries\n",
    "df_grouped = df_3.groupby('accession_year').filter(lambda x: len(x) > 30)\n",
    "df_remainder = df_3.groupby('accession_year').filter(lambda x: len(x) <= 30)\n",
    "# combine df_2, df_4, and df_remainder into one larger dataframe\n",
    "df_remainder = df_remainder.append([df_2,df_4])\n",
    "df_remainder.creditline.value_counts()[20:34]"
   ]
  },
  {
   "cell_type": "code",
   "execution_count": 53,
   "metadata": {},
   "outputs": [],
   "source": [
    "# Update next 15 entries\n",
    "df.loc[(df['creditline'] == 'Estate of Mrs. John Washburn, 1942'), \n",
    "            'accession_year'] = '42'\n",
    "df.loc[(df['creditline'] == 'The Ethel Morrison Van Derlip Fund, 1961'), \n",
    "            'accession_year'] = '61'\n",
    "df.loc[(df['creditline'] == 'Gift of Mrs. Ridgely Hunt, 1940'), \n",
    "            'accession_year'] = '40'\n",
    "df.loc[(df['creditline'] == 'Gift of Mr. Marvin Small, 1961'), \n",
    "            'accession_year'] = '61'\n",
    "df.loc[(df['creditline'] == 'The William Hood Dundwoody Fund, 1915'), \n",
    "            'accession_year'] = '15'\n",
    "df.loc[(df['creditline'] == 'The Christina N. and Swan J. Turnblad Memorial Fund, 1966'), \n",
    "            'accession_year'] = '66'\n",
    "df.loc[(df['creditline'] == 'The Ethel Morrison Van Derlip Fund, 1964'), \n",
    "            'accession_year'] = '64'\n",
    "df.loc[(df['creditline'] == 'Gift of Richard P. Gale, 1956'), \n",
    "            'accession_year'] = '56'"
   ]
  },
  {
   "cell_type": "code",
   "execution_count": 58,
   "metadata": {},
   "outputs": [
    {
     "data": {
      "text/plain": [
       "The John R. Van Derlip Fund                                 9\n",
       "The William Hood Dundwoody Fund, 1915                       7\n",
       "Gift of M. H. Taylor, 1927                                  7\n",
       "Anonymous Gift, 1938                                        7\n",
       "The Ethel Morrison Van Derlip Fund, 1963                    7\n",
       "Gift of Mr. Richard P. Gale, 1956                           7\n",
       "The William Hood Dunwoody Fund, 1941                        7\n",
       "The John R. Van Derlip Fund, 1966                           6\n",
       "Gift of Alexander Masley, 1932                              6\n",
       "The Discretionary Purchase Fund, 1965                       6\n",
       "Gift of Mr. H. J. L. Wright, 1921                           6\n",
       "Gift of Mrs. Charles C. Bovey, 1941                         6\n",
       "Gift of Timothy Cole, August 1919\\r\\n                       6\n",
       "Gift of the Artist                                          6\n",
       "The William Hood Dunwoody Fund, 1947                        6\n",
       "Gift of the artist, 1966                                    6\n",
       "The Modernism Collection, gift of Norwest Bank Minnesota    6\n",
       "Gift of Mrs. C. C. Bovey, 1924                              6\n",
       "Purchase: Dunwoody Fund, 1915                               6\n",
       "Name: creditline, dtype: int64"
      ]
     },
     "execution_count": 58,
     "metadata": {},
     "output_type": "execute_result"
    }
   ],
   "source": [
    "# rerun filters on updated dataframe\n",
    "# filter dataframe for accession years longer than 4 digits\n",
    "df_1 = df[df['accession_year'].map(lambda x: len(x) < 5)]\n",
    "df_2 = df[df['accession_year'].map(lambda x: len(x) > 4)]\n",
    "# filter dataframe for accession numbers shorter than 4 digits\n",
    "df_3 = df_1[df_1['accession_number'].map(lambda x: len(x) > 3)]\n",
    "df_4 = df_1[df_1['accession_number'].map(lambda x: len(x) < 4)]\n",
    "# Use groupby to filter out any accession years with less than 30 entries\n",
    "df_grouped = df_3.groupby('accession_year').filter(lambda x: len(x) > 30)\n",
    "df_remainder = df_3.groupby('accession_year').filter(lambda x: len(x) <= 30)\n",
    "# combine df_2, df_4, and df_remainder into one larger dataframe\n",
    "df_remainder = df_remainder.append([df_2,df_4])\n",
    "df_remainder.creditline.value_counts()[25:44]"
   ]
  },
  {
   "cell_type": "code",
   "execution_count": 59,
   "metadata": {},
   "outputs": [],
   "source": [
    "# Update next 15 entries\n",
    "df.loc[(df['creditline'] == 'Gift of M. H. Taylor, 1927'), \n",
    "            'accession_year'] = '27'\n",
    "df.loc[(df['creditline'] == 'Anonymous Gift, 1938'), \n",
    "            'accession_year'] = '38'\n",
    "df.loc[(df['creditline'] == 'The Ethel Morrison Van Derlip Fund, 1963'), \n",
    "            'accession_year'] = '63'\n",
    "df.loc[(df['creditline'] == 'Gift of Mr. Richard P. Gale, 1956'), \n",
    "            'accession_year'] = '56'\n",
    "df.loc[(df['creditline'] == 'The William Hood Dunwoody Fund, 1941'), \n",
    "            'accession_year'] = '41'\n",
    "df.loc[(df['creditline'] == 'The John R. Van Derlip Fund, 1966'), \n",
    "            'accession_year'] = '66'\n",
    "df.loc[(df['creditline'] == 'Gift of Alexander Masley, 1932'), \n",
    "            'accession_year'] = '32'\n",
    "df.loc[(df['creditline'] == 'The Discretionary Purchase Fund, 1965'), \n",
    "            'accession_year'] = '65'\n",
    "df.loc[(df['creditline'] == 'Gift of Mr. H. J. L. Wright, 1921'), \n",
    "            'accession_year'] = '21'\n",
    "df.loc[(df['creditline'] == 'Gift of Mrs. Charles C. Bovey, 1941'), \n",
    "            'accession_year'] = '41'\n",
    "df.loc[(df['creditline'] == 'Gift of Timothy Cole, August 1919\\r\\n'), \n",
    "            'accession_year'] = '19'\n",
    "df.loc[(df['creditline'] == 'The William Hood Dunwoody Fund, 1947'), \n",
    "            'accession_year'] = '47'\n",
    "df.loc[(df['creditline'] == 'Gift of the artist, 1966'), \n",
    "            'accession_year'] = '66'\n",
    "df.loc[(df['creditline'] == 'Gift of Mrs. C. C. Bovey, 1924'), \n",
    "            'accession_year'] = '24'\n",
    "df.loc[(df['creditline'] == 'Purchase: Dunwoody Fund, 1915'), \n",
    "            'accession_year'] = '15'"
   ]
  },
  {
   "cell_type": "code",
   "execution_count": 62,
   "metadata": {},
   "outputs": [
    {
     "data": {
      "text/plain": [
       "Gift of Mrs. C.C. Bovey                                        9\n",
       "The William Hood Dundwoody Fund, 1915                          7\n",
       "The Modernism Collection, gift of Norwest Bank Minnesota       6\n",
       "Gift of the Artist                                             6\n",
       "Purchase: Dunwoody Fund, 1915                                  6\n",
       "Gift of Mrs. Edmund D. Brooks, May 1919                        5\n",
       "Gift of Mr. Gardner Teall, 1917                                5\n",
       "The William M. Ladd Collection\\r\\nGift of Herschel V. Jones    5\n",
       "Gift of Gardner Teall, 1917                                    5\n",
       "Gift of Mary C. Wheelwright                                    5\n",
       "Gift of Herschel V. Jones, 1916                                5\n",
       "Gift of Mr. and Mrs. E. D. Brooks, May 1919                    5\n",
       "Gift of Mr. & Mrs. E. D. Brooks, May 1919                      5\n",
       "Van Derlip Funds                                               5\n",
       "Gift of Mr. Edmund D. Brooks, 1915                             5\n",
       "Gift of General Mills, Inc., 1960                              5\n",
       "Gift of Margaret McMillan Webber, 1951                         5\n",
       "Gift of Benjamin Miller, 1929                                  5\n",
       "Name: creditline, dtype: int64"
      ]
     },
     "execution_count": 62,
     "metadata": {},
     "output_type": "execute_result"
    }
   ],
   "source": [
    "# rerun filters on updated dataframe\n",
    "# filter dataframe for accession years longer than 4 digits\n",
    "df_1 = df[df['accession_year'].map(lambda x: len(x) < 5)]\n",
    "df_2 = df[df['accession_year'].map(lambda x: len(x) > 4)]\n",
    "# filter dataframe for accession numbers shorter than 4 digits\n",
    "df_3 = df_1[df_1['accession_number'].map(lambda x: len(x) > 3)]\n",
    "df_4 = df_1[df_1['accession_number'].map(lambda x: len(x) < 4)]\n",
    "# Use groupby to filter out any accession years with less than 30 entries\n",
    "df_grouped = df_3.groupby('accession_year').filter(lambda x: len(x) > 30)\n",
    "df_remainder = df_3.groupby('accession_year').filter(lambda x: len(x) <= 30)\n",
    "# combine df_2, df_4, and df_remainder into one larger dataframe\n",
    "df_remainder = df_remainder.append([df_2,df_4])\n",
    "df_remainder.creditline.value_counts()[25:43]"
   ]
  },
  {
   "cell_type": "code",
   "execution_count": 63,
   "metadata": {},
   "outputs": [],
   "source": [
    "# Update next 15 entries\n",
    "df.loc[(df['creditline'] == 'Gift of Mrs. Edmund D. Brooks, May 1919'), \n",
    "            'accession_year'] = '19'\n",
    "df.loc[(df['creditline'] == 'Gift of Mr. Gardner Teall, 1917'), \n",
    "            'accession_year'] = '17'\n",
    "df.loc[(df['creditline'] == 'Gift of Gardner Teall, 1917'), \n",
    "            'accession_year'] = '17'\n",
    "df.loc[(df['creditline'] == 'Gift of Herschel V. Jones, 1916'), \n",
    "            'accession_year'] = '16'\n",
    "df.loc[(df['creditline'] == 'Gift of Mr. and Mrs. E. D. Brooks, May 1919'), \n",
    "            'accession_year'] = '19'\n",
    "df.loc[(df['creditline'] == 'Gift of Mr. & Mrs. E. D. Brooks, May 1919'), \n",
    "            'accession_year'] = '19'\n",
    "df.loc[(df['creditline'] == 'Gift of Mr. Edmund D. Brooks, 1915'), \n",
    "            'accession_year'] = '15'\n",
    "df.loc[(df['creditline'] == 'Gift of General Mills, Inc., 1960'), \n",
    "            'accession_year'] = '60'\n",
    "df.loc[(df['creditline'] == 'Gift of Margaret McMillan Webber, 1951'), \n",
    "            'accession_year'] = '51'\n",
    "df.loc[(df['creditline'] == 'Gift of Benjamin Miller, 1929'), \n",
    "            'accession_year'] = '29'"
   ]
  },
  {
   "cell_type": "code",
   "execution_count": 68,
   "metadata": {},
   "outputs": [
    {
     "data": {
      "text/plain": [
       "Gift of Mary C. Wheelwright                                      5\n",
       "Van Derlip Funds                                                 5\n",
       "The William M. Ladd Collection\\r\\nGift of Herschel V. Jones      5\n",
       "Gift of Mr. Edmund D. Brooks, 1915                               5\n",
       "Gift of Herschel V. Jones, 1916                                  5\n",
       "Gift of Mrs. C. C. Bovey, 1940                                   4\n",
       "Gift of Mrs. Teall                                               4\n",
       "Gift of Gardner C. Teall, 1916                                   4\n",
       "Bequest of Mrs. Charles S. Pillsbury                             4\n",
       "Gift of Mrs. B.J.O. Nordfeldt, 1955                              4\n",
       "Gift of Carl Jones, 1952                                         4\n",
       "Gift of Mr. George A. Goddard                                    4\n",
       "Gift of Mrs. C.C. Bovey, 1940                                    4\n",
       "Gift of the Estate of George W. Morgan, 1958                     4\n",
       "Gift of the Friends of the Institute, 1931                       4\n",
       "Purchase by Subscription                                         4\n",
       "Gift of funds from Mr. and Mrs. D. Thomas Bergen, 1967           4\n",
       "Gift of Miss Bergliot Hafstad                                    4\n",
       "Trufant and Wyman Fund, 1958                                     4\n",
       "Gift of Mrs.Charles C.Bovey, 1924                                4\n",
       "Gift of Mrs. C. J. Martin, in memory of Charles Jairus Martin    4\n",
       "Mr. S. C. Burton, June 5, 1925                                   4\n",
       "Gift of funds from Mr. and Mrs. Hall Peterson, 1966              4\n",
       "Name: creditline, dtype: int64"
      ]
     },
     "execution_count": 68,
     "metadata": {},
     "output_type": "execute_result"
    }
   ],
   "source": [
    "# rerun filters on updated dataframe\n",
    "# filter dataframe for accession years longer than 4 digits\n",
    "df_1 = df[df['accession_year'].map(lambda x: len(x) < 5)]\n",
    "df_2 = df[df['accession_year'].map(lambda x: len(x) > 4)]\n",
    "# filter dataframe for accession numbers shorter than 4 digits\n",
    "df_3 = df_1[df_1['accession_number'].map(lambda x: len(x) > 3)]\n",
    "df_4 = df_1[df_1['accession_number'].map(lambda x: len(x) < 4)]\n",
    "# Use groupby to filter out any accession years with less than 30 entries\n",
    "df_grouped = df_3.groupby('accession_year').filter(lambda x: len(x) > 30)\n",
    "df_remainder = df_3.groupby('accession_year').filter(lambda x: len(x) <= 30)\n",
    "# combine df_2, df_4, and df_remainder into one larger dataframe\n",
    "df_remainder = df_remainder.append([df_2,df_4])\n",
    "df_remainder.creditline.value_counts()[30:53]"
   ]
  },
  {
   "cell_type": "code",
   "execution_count": 70,
   "metadata": {},
   "outputs": [],
   "source": [
    "# Update next 15 entries\n",
    "df.loc[(df['creditline'] == 'Gift of Mrs. C. C. Bovey, 1940'), \n",
    "            'accession_year'] = '40'\n",
    "df.loc[(df['creditline'] == 'Gift of Gardner C. Teall, 1916'), \n",
    "            'accession_year'] = '16'\n",
    "df.loc[(df['creditline'] == 'Gift of Mrs. B.J.O. Nordfeldt, 1955'), \n",
    "            'accession_year'] = '55'\n",
    "df.loc[(df['creditline'] == 'Gift of Carl Jones, 1952'), \n",
    "            'accession_year'] = '52'\n",
    "df.loc[(df['creditline'] == 'Gift of Mrs. C.C. Bovey, 1940'), \n",
    "            'accession_year'] = '40'\n",
    "df.loc[(df['creditline'] == 'Gift of the Estate of George W. Morgan, 1958'), \n",
    "            'accession_year'] = '58'\n",
    "df.loc[(df['creditline'] == 'Gift of the Friends of the Institute, 1931'), \n",
    "            'accession_year'] = '31'\n",
    "df.loc[(df['creditline'] == 'Gift of funds from Mr. and Mrs. D. Thomas Bergen, 1967'), \n",
    "            'accession_year'] = '67'\n",
    "df.loc[(df['creditline'] == 'Trufant and Wyman Fund, 1958'), \n",
    "            'accession_year'] = '58'\n",
    "df.loc[(df['creditline'] == 'Gift of Mrs.Charles C.Bovey, 1924'), \n",
    "            'accession_year'] = '24'\n",
    "df.loc[(df['creditline'] == 'Mr. S. C. Burton, June 5, 1925'), \n",
    "            'accession_year'] = '25'\n",
    "df.loc[(df['creditline'] == 'Gift of funds from Mr. and Mrs. Hall Peterson, 1966'), \n",
    "            'accession_year'] = '66'"
   ]
  },
  {
   "cell_type": "code",
   "execution_count": 75,
   "metadata": {},
   "outputs": [
    {
     "data": {
      "text/plain": [
       "Gift of Mrs. C. J. Martin, in memory of Charles Jairus Martin        4\n",
       "The William Hood Dunwoody Fund, 1919                                 3\n",
       "Book Funds (?)                                                       3\n",
       "Gift of the Artist, 1933                                             3\n",
       "Gift of Mrs. Charles S. Pillsbury, 1938                              3\n",
       "Van Derlip: Funds                                                    3\n",
       "Gift of Mrs. Fred Wells, 1954                                        3\n",
       "Purchase: Discretionary Fund, 1964                                   3\n",
       "Gift of Mr. and Mrs. John E. Andrus III                              3\n",
       "Gift of Vera Andrus, 1938                                            3\n",
       "Gift of Wheelwright, 1937                                            3\n",
       "Gift of Mr. and Mrs. Arthur Weisenberger, 1961                       3\n",
       "Gift of Mrs. C. C. Bovey                                             3\n",
       "The Willaim M. Ladd Collection\\r\\nGift of Herschel V. Jones, 1916    3\n",
       "Gift of Truesdale, 1927                                              3\n",
       "Name: creditline, dtype: int64"
      ]
     },
     "execution_count": 75,
     "metadata": {},
     "output_type": "execute_result"
    }
   ],
   "source": [
    "# rerun filters on updated dataframe\n",
    "# filter dataframe for accession years longer than 4 digits\n",
    "df_1 = df[df['accession_year'].map(lambda x: len(x) < 5)]\n",
    "df_2 = df[df['accession_year'].map(lambda x: len(x) > 4)]\n",
    "# filter dataframe for accession numbers shorter than 4 digits\n",
    "df_3 = df_1[df_1['accession_number'].map(lambda x: len(x) > 3)]\n",
    "df_4 = df_1[df_1['accession_number'].map(lambda x: len(x) < 4)]\n",
    "# Use groupby to filter out any accession years with less than 30 entries\n",
    "df_grouped = df_3.groupby('accession_year').filter(lambda x: len(x) > 30)\n",
    "df_remainder = df_3.groupby('accession_year').filter(lambda x: len(x) <= 30)\n",
    "# combine df_2, df_4, and df_remainder into one larger dataframe\n",
    "df_remainder = df_remainder.append([df_2,df_4])\n",
    "df_remainder.creditline.value_counts()[40:55]"
   ]
  },
  {
   "cell_type": "code",
   "execution_count": 76,
   "metadata": {},
   "outputs": [],
   "source": [
    "# Update next 15 entries\n",
    "df.loc[(df['creditline'] == 'The William Hood Dunwoody Fund, 1919'), \n",
    "            'accession_year'] = '19'\n",
    "df.loc[(df['creditline'] == 'Gift of the Artist, 1933'), \n",
    "            'accession_year'] = '33'\n",
    "df.loc[(df['creditline'] == 'Gift of Mrs. Charles S. Pillsbury, 1938'), \n",
    "            'accession_year'] = '38'\n",
    "df.loc[(df['creditline'] == 'Gift of Mrs. Fred Wells, 1954'), \n",
    "            'accession_year'] = '54'\n",
    "df.loc[(df['creditline'] == 'Purchase: Discretionary Fund, 1964'), \n",
    "            'accession_year'] = '64'\n",
    "df.loc[(df['creditline'] == 'Gift of Vera Andrus, 1938'), \n",
    "            'accession_year'] = '38'\n",
    "df.loc[(df['creditline'] == 'Gift of Wheelwright, 1937'), \n",
    "            'accession_year'] = '37'\n",
    "df.loc[(df['creditline'] == 'Gift of Mr. and Mrs. Arthur Weisenberger, 1961'), \n",
    "            'accession_year'] = '61'\n",
    "df.loc[(df['creditline'] == 'The Willaim M. Ladd Collection\\r\\nGift of Herschel V. Jones, 1916'), \n",
    "            'accession_year'] = '16'\n",
    "df.loc[(df['creditline'] == 'Gift of Truesdale, 1927'), \n",
    "            'accession_year'] = '27'"
   ]
  },
  {
   "cell_type": "code",
   "execution_count": 78,
   "metadata": {},
   "outputs": [
    {
     "data": {
      "text/plain": [
       "Gift of Mr. George A. Goddard              4\n",
       "Mrs. C.C. Bovey, 1941                      3\n",
       "Gift of Theodore W. Bennett, 1964          3\n",
       "The William M. Ladd Collection             3\n",
       "Gift of Mr. and Mrs. John E. Andrus III    3\n",
       "Gift of Mrs. B.J.O Nordfeldt               3\n",
       "Bequest of George W. Morgan, 1958          3\n",
       "Gift of Mrs. George Resler, 1925           3\n",
       "Book Funds (?)                             3\n",
       "Bequest of Dorothy Millett Lindeke         3\n",
       "Bequest of Putnam Dana McMillan, 1961      3\n",
       "Gift of Mrs. C.A. Reed, 1922               3\n",
       "Gift of Eugene Larkin, 1963                3\n",
       "Bequest of Herschel V. Jones               3\n",
       "Gift of Mrs. George P. Douglas             3\n",
       "Name: creditline, dtype: int64"
      ]
     },
     "execution_count": 78,
     "metadata": {},
     "output_type": "execute_result"
    }
   ],
   "source": [
    "# rerun filters on updated dataframe\n",
    "# filter dataframe for accession years longer than 4 digits\n",
    "df_1 = df[df['accession_year'].map(lambda x: len(x) < 5)]\n",
    "df_2 = df[df['accession_year'].map(lambda x: len(x) > 4)]\n",
    "# filter dataframe for accession numbers shorter than 4 digits\n",
    "df_3 = df_1[df_1['accession_number'].map(lambda x: len(x) > 3)]\n",
    "df_4 = df_1[df_1['accession_number'].map(lambda x: len(x) < 4)]\n",
    "# Use groupby to filter out any accession years with less than 30 entries\n",
    "df_grouped = df_3.groupby('accession_year').filter(lambda x: len(x) > 30)\n",
    "df_remainder = df_3.groupby('accession_year').filter(lambda x: len(x) <= 30)\n",
    "# combine df_2, df_4, and df_remainder into one larger dataframe\n",
    "df_remainder = df_remainder.append([df_2,df_4])\n",
    "df_remainder.creditline.value_counts()[40:55]"
   ]
  },
  {
   "cell_type": "code",
   "execution_count": 79,
   "metadata": {},
   "outputs": [],
   "source": [
    "# Update next 15 entries\n",
    "df.loc[(df['creditline'] == 'Mrs. C.C. Bovey, 1941'), \n",
    "            'accession_year'] = '41'\n",
    "df.loc[(df['creditline'] == 'Gift of Theodore W. Bennett, 1964'), \n",
    "            'accession_year'] = '64'\n",
    "df.loc[(df['creditline'] == 'Bequest of George W. Morgan, 1958'), \n",
    "            'accession_year'] = '58'\n",
    "df.loc[(df['creditline'] == 'Gift of Mrs. George Resler, 1925'), \n",
    "            'accession_year'] = '25'\n",
    "df.loc[(df['creditline'] == 'Bequest of Putnam Dana McMillan, 1961'), \n",
    "            'accession_year'] = '61'\n",
    "df.loc[(df['creditline'] == 'Gift of Mrs. C.A. Reed, 1922'), \n",
    "            'accession_year'] = '22'\n",
    "df.loc[(df['creditline'] == 'Gift of Eugene Larkin, 1963'), \n",
    "            'accession_year'] = '63'"
   ]
  },
  {
   "cell_type": "code",
   "execution_count": 85,
   "metadata": {},
   "outputs": [
    {
     "data": {
      "text/plain": [
       "Gift of Mrs. Teall                                    4\n",
       "Gift of Mrs. B.J.O Nordfeldt                          3\n",
       "Bequest of Herschel V. Jones                          3\n",
       "Gift of Mr. and Mrs. John E. Andrus III               3\n",
       "Book Funds (?)                                        3\n",
       "The William M. Ladd Collection                        3\n",
       "Van Derlip: Funds                                     3\n",
       "Bequest of Dorothy Millett Lindeke                    3\n",
       "Gift of Mrs. George P. Douglas                        3\n",
       "Gift of Mrs. C. C. Bovey                              3\n",
       "Gift of the artist, 1941                              2\n",
       "Gift of Mr. and Mrs. George Halpin, 1958              2\n",
       "Gift of Mrs. George W. P. Heffelfinger, 1965          2\n",
       "Research collection, Minneapolis Institute of Arts    2\n",
       "The John R. Van Derlip Library Fund                   2\n",
       "Name: creditline, dtype: int64"
      ]
     },
     "execution_count": 85,
     "metadata": {},
     "output_type": "execute_result"
    }
   ],
   "source": [
    "# rerun filters on updated dataframe\n",
    "# filter dataframe for accession years longer than 4 digits\n",
    "df_1 = df[df['accession_year'].map(lambda x: len(x) < 5)]\n",
    "df_2 = df[df['accession_year'].map(lambda x: len(x) > 4)]\n",
    "# filter dataframe for accession numbers shorter than 4 digits\n",
    "df_3 = df_1[df_1['accession_number'].map(lambda x: len(x) > 3)]\n",
    "df_4 = df_1[df_1['accession_number'].map(lambda x: len(x) < 4)]\n",
    "# Use groupby to filter out any accession years with less than 30 entries\n",
    "df_grouped = df_3.groupby('accession_year').filter(lambda x: len(x) > 30)\n",
    "df_remainder = df_3.groupby('accession_year').filter(lambda x: len(x) <= 30)\n",
    "# combine df_2, df_4, and df_remainder into one larger dataframe\n",
    "df_remainder = df_remainder.append([df_2,df_4])\n",
    "df_remainder.creditline.value_counts()[40:55]"
   ]
  },
  {
   "cell_type": "code",
   "execution_count": 81,
   "metadata": {},
   "outputs": [],
   "source": [
    "# Update next 15 entries\n",
    "df.loc[(df['creditline'] == 'The William Hood Dunwoody Fund, 1950'), \n",
    "            'accession_year'] = '50'\n",
    "df.loc[(df['creditline'] == 'Mr. S. C. Burton, March 31, 1924'), \n",
    "            'accession_year'] = '24'\n",
    "df.loc[(df['creditline'] == 'Anonymous gift\\r\\nThe William M. Ladd Collection\\r\\nGift of Herschel V. Jones, 1916'), \n",
    "            'accession_year'] = '16'\n",
    "df.loc[(df['creditline'] == 'Purchase: July 1922'), \n",
    "            'accession_year'] = '22'"
   ]
  },
  {
   "cell_type": "code",
   "execution_count": 89,
   "metadata": {},
   "outputs": [
    {
     "data": {
      "text/plain": [
       "The William M. Ladd Collection                              3\n",
       "Van Derlip: Funds                                           3\n",
       "Bequest of Dorothy Millett Lindeke                          3\n",
       "Gift of Mrs. George P. Douglas                              3\n",
       "Gift of Mrs. C. C. Bovey                                    3\n",
       "Gift of the artist, 1941                                    2\n",
       "Gift of Mr. and Mrs. George Halpin, 1958                    2\n",
       "Gift of Mrs. George W. P. Heffelfinger, 1965                2\n",
       "Research collection, Minneapolis Institute of Arts          2\n",
       "The John R. Van Derlip Library Fund                         2\n",
       "The Mrs. Charles S. Pillsbury Memorial Fund, 1962           2\n",
       "Gift of Frank P. Leslie                                     2\n",
       "The David M. Daniels Fund, 1967                             2\n",
       "Gift of Mrs. J.A. Vaughn                                    2\n",
       "Gift of Nesto Jacometti, 1957                               2\n",
       "Gift of Mr. Carl O. Schniewind, 1957                        2\n",
       "Gift of Charles Bell                                        2\n",
       "Gift of Miss Leona Prasse, 1957                             2\n",
       "Gift of William Channing Whitney                            2\n",
       "Gift of Mr. W. L. Tenney and Alice Tenney Mitchell, 1962    2\n",
       "Name: creditline, dtype: int64"
      ]
     },
     "execution_count": 89,
     "metadata": {},
     "output_type": "execute_result"
    }
   ],
   "source": [
    "# rerun filters on updated dataframe\n",
    "# filter dataframe for accession years longer than 4 digits\n",
    "df_1 = df[df['accession_year'].map(lambda x: len(x) < 5)]\n",
    "df_2 = df[df['accession_year'].map(lambda x: len(x) > 4)]\n",
    "# filter dataframe for accession numbers shorter than 4 digits\n",
    "df_3 = df_1[df_1['accession_number'].map(lambda x: len(x) > 3)]\n",
    "df_4 = df_1[df_1['accession_number'].map(lambda x: len(x) < 4)]\n",
    "# Use groupby to filter out any accession years with less than 30 entries\n",
    "df_grouped = df_3.groupby('accession_year').filter(lambda x: len(x) > 30)\n",
    "df_remainder = df_3.groupby('accession_year').filter(lambda x: len(x) <= 30)\n",
    "# combine df_2, df_4, and df_remainder into one larger dataframe\n",
    "df_remainder = df_remainder.append([df_2,df_4])\n",
    "df_remainder.creditline.value_counts()[45:65]"
   ]
  },
  {
   "cell_type": "code",
   "execution_count": 90,
   "metadata": {},
   "outputs": [],
   "source": [
    "# Update next 15 entries\n",
    "df.loc[(df['creditline'] == 'Gift of the artist, 1941'), \n",
    "            'accession_year'] = '41'\n",
    "df.loc[(df['creditline'] == 'Gift of Mr. and Mrs. George Halpin, 1958'), \n",
    "            'accession_year'] = '58'\n",
    "df.loc[(df['creditline'] == 'Gift of Mrs. George W. P. Heffelfinger, 1965'), \n",
    "            'accession_year'] = '65'\n",
    "df.loc[(df['creditline'] == 'The Mrs. Charles S. Pillsbury Memorial Fund, 1962'), \n",
    "            'accession_year'] = '62'\n",
    "df.loc[(df['creditline'] == 'The David M. Daniels Fund, 1967'), \n",
    "            'accession_year'] = '67'\n",
    "df.loc[(df['creditline'] == 'Gift of Nesto Jacometti, 1957'), \n",
    "            'accession_year'] = '57'\n",
    "df.loc[(df['creditline'] == 'Gift of Mr. Carl O. Schniewind, 1957'), \n",
    "            'accession_year'] = '57'\n",
    "df.loc[(df['creditline'] == 'Gift of Miss Leona Prasse, 1957'), \n",
    "            'accession_year'] = '57'\n",
    "df.loc[(df['creditline'] == 'Gift of Mr. W. L. Tenney and Alice Tenney Mitchell, 1962'), \n",
    "            'accession_year'] = '62'"
   ]
  },
  {
   "cell_type": "code",
   "execution_count": 91,
   "metadata": {},
   "outputs": [
    {
     "data": {
      "text/plain": [
       "Bequest of Herschel V. Jones                                       3\n",
       "Gift of Mrs. George P. Douglas                                     3\n",
       "Gift of Mrs. C. C. Bovey                                           3\n",
       "Gift of Mr. and Mrs. John E. Andrus III                            3\n",
       "Van Derlip: Funds                                                  3\n",
       "Gift of Charles Bell                                               2\n",
       "Research collection, Minneapolis Institute of Arts                 2\n",
       "The John Russell Van Derlip Library Fund                           2\n",
       "The F.S. Winston Fund, 1957                                        2\n",
       "GIft of Mr. George A. Goddard, 1919                                2\n",
       "William Hood Dunwoody Fund Purchase, 1947                          2\n",
       "The William M. Ladd Collection, Gift of Herschel V. Jones, 1916    2\n",
       "Gift of Russell A. Plimpton                                        2\n",
       "Gift of Mr. and Mrs. Winton Jones, 1967                            2\n",
       "Gift of Herschel V. Jones, 1919                                    2\n",
       "Gift of Richard S. and Phyllis Davis, 1957                         2\n",
       "Gift of Mrs. Ridgely Hunt                                          2\n",
       "Gift of Mrs. Ridgley Hunt, 1940                                    2\n",
       "Gift of Dr. and Mrs. Markle Karlen, 1966                           2\n",
       "Gift of Herschel V. Jones, 1920                                    2\n",
       "Name: creditline, dtype: int64"
      ]
     },
     "execution_count": 91,
     "metadata": {},
     "output_type": "execute_result"
    }
   ],
   "source": [
    "# rerun filters on updated dataframe\n",
    "# filter dataframe for accession years longer than 4 digits\n",
    "df_1 = df[df['accession_year'].map(lambda x: len(x) < 5)]\n",
    "df_2 = df[df['accession_year'].map(lambda x: len(x) > 4)]\n",
    "# filter dataframe for accession numbers shorter than 4 digits\n",
    "df_3 = df_1[df_1['accession_number'].map(lambda x: len(x) > 3)]\n",
    "df_4 = df_1[df_1['accession_number'].map(lambda x: len(x) < 4)]\n",
    "# Use groupby to filter out any accession years with less than 30 entries\n",
    "df_grouped = df_3.groupby('accession_year').filter(lambda x: len(x) > 30)\n",
    "df_remainder = df_3.groupby('accession_year').filter(lambda x: len(x) <= 30)\n",
    "# combine df_2, df_4, and df_remainder into one larger dataframe\n",
    "df_remainder = df_remainder.append([df_2,df_4])\n",
    "df_remainder.creditline.value_counts()[45:65]"
   ]
  },
  {
   "cell_type": "code",
   "execution_count": 92,
   "metadata": {},
   "outputs": [],
   "source": [
    "# Update next 15 entries\n",
    "df.loc[(df['creditline'] == 'The F.S. Winston Fund, 1957'), \n",
    "            'accession_year'] = '57'\n",
    "df.loc[(df['creditline'] == 'GIft of Mr. George A. Goddard, 1919'), \n",
    "            'accession_year'] = '19'\n",
    "df.loc[(df['creditline'] == 'William Hood Dunwoody Fund Purchase, 1947'), \n",
    "            'accession_year'] = '47'\n",
    "df.loc[(df['creditline'] == 'The William M. Ladd Collection, Gift of Herschel V. Jones, 1916'), \n",
    "            'accession_year'] = '16'\n",
    "df.loc[(df['creditline'] == 'Gift of Mr. and Mrs. Winton Jones, 1967'), \n",
    "            'accession_year'] = '67'\n",
    "df.loc[(df['creditline'] == 'Gift of Herschel V. Jones, 1919'), \n",
    "            'accession_year'] = '19'\n",
    "df.loc[(df['creditline'] == 'Gift of Richard S. and Phyllis Davis, 1957'), \n",
    "            'accession_year'] = '57'\n",
    "df.loc[(df['creditline'] == 'Gift of Mrs. Ridgley Hunt, 1940'), \n",
    "            'accession_year'] = '40'\n",
    "df.loc[(df['creditline'] == 'Gift of Dr. and Mrs. Markle Karlen, 1966'), \n",
    "            'accession_year'] = '66'\n",
    "df.loc[(df['creditline'] == 'Gift of Herschel V. Jones, 1920'), \n",
    "            'accession_year'] = '20'"
   ]
  },
  {
   "cell_type": "code",
   "execution_count": 95,
   "metadata": {},
   "outputs": [
    {
     "data": {
      "text/plain": [
       "Gift of Mrs. B.J.O Nordfeldt                          3\n",
       "Bequest of Herschel V. Jones                          3\n",
       "Book Funds (?)                                        3\n",
       "Bequest of Dorothy Millett Lindeke                    3\n",
       "The William M. Ladd Collection                        3\n",
       "Gift of Frank P. Leslie                               2\n",
       "Gift of Mary H. Taylor, 1925                          2\n",
       "Gift of John L. Smith Fund, 1927                      2\n",
       "Gift of Russell A. Plimpton                           2\n",
       "The Miscellaneous Works of Art Purchase Fund, 1952    2\n",
       "Purchase: July 1919                                   2\n",
       "Gift of Howard Mansfield                              2\n",
       "Museum Purchase, 1922                                 2\n",
       "Gift of Dr. and Mrs. Markle Karlen, 1967              2\n",
       "Gift of the artist, 1961                              2\n",
       "The Miscellaneous Works of Art Purchase Fund, 1929    2\n",
       "Gift of Trinity Parish, New York                      2\n",
       "The John Russell Van Derlip Library Fund              2\n",
       "Gift of Mrs. Ridgely Hunt                             2\n",
       "Gift of Charles Bell                                  2\n",
       "Name: creditline, dtype: int64"
      ]
     },
     "execution_count": 95,
     "metadata": {},
     "output_type": "execute_result"
    }
   ],
   "source": [
    "# rerun filters on updated dataframe\n",
    "# filter dataframe for accession years longer than 4 digits\n",
    "df_1 = df[df['accession_year'].map(lambda x: len(x) < 5)]\n",
    "df_2 = df[df['accession_year'].map(lambda x: len(x) > 4)]\n",
    "# filter dataframe for accession numbers shorter than 4 digits\n",
    "df_3 = df_1[df_1['accession_number'].map(lambda x: len(x) > 3)]\n",
    "df_4 = df_1[df_1['accession_number'].map(lambda x: len(x) < 4)]\n",
    "# Use groupby to filter out any accession years with less than 30 entries\n",
    "df_grouped = df_3.groupby('accession_year').filter(lambda x: len(x) > 30)\n",
    "df_remainder = df_3.groupby('accession_year').filter(lambda x: len(x) <= 30)\n",
    "# combine df_2, df_4, and df_remainder into one larger dataframe\n",
    "df_remainder = df_remainder.append([df_2,df_4])\n",
    "df_remainder.creditline.value_counts()[45:65]"
   ]
  },
  {
   "cell_type": "code",
   "execution_count": 96,
   "metadata": {},
   "outputs": [],
   "source": [
    "# Update next 15 entries\n",
    "df.loc[(df['creditline'] == 'Gift of Mary H. Taylor, 1925'), \n",
    "            'accession_year'] = '25'\n",
    "df.loc[(df['creditline'] == 'Gift of John L. Smith Fund, 1927'), \n",
    "            'accession_year'] = '27'\n",
    "df.loc[(df['creditline'] == 'The Miscellaneous Works of Art Purchase Fund, 1952'), \n",
    "            'accession_year'] = '52'\n",
    "df.loc[(df['creditline'] == 'Purchase: July 1919'), \n",
    "            'accession_year'] = '19'\n",
    "df.loc[(df['creditline'] == 'Museum Purchase, 1922'), \n",
    "            'accession_year'] = '22'\n",
    "df.loc[(df['creditline'] == 'Gift of Dr. and Mrs. Markle Karlen, 1967'), \n",
    "            'accession_year'] = '67'\n",
    "df.loc[(df['creditline'] == 'Gift of the artist, 1961'), \n",
    "            'accession_year'] = '61'\n",
    "df.loc[(df['creditline'] == 'The Miscellaneous Works of Art Purchase Fund, 1929'), \n",
    "            'accession_year'] = '29'"
   ]
  },
  {
   "cell_type": "code",
   "execution_count": 97,
   "metadata": {},
   "outputs": [
    {
     "data": {
      "text/plain": [
       "Gift of Mrs. B.J.O Nordfeldt                                         3\n",
       "The William M. Ladd Collection                                       3\n",
       "Van Derlip: Funds                                                    3\n",
       "Bequest of Herschel V. Jones                                         3\n",
       "Gift of Mrs. George P. Douglas                                       3\n",
       "Gift of Mrs. Ridgely Hunt                                            2\n",
       "Gift of Mrs. Paul Morand, 1932                                       2\n",
       "The Christina N. and Swan J. Turnblad Memorial Fund, 1962            2\n",
       "Gift of Frank P. Leslie                                              2\n",
       "Library Duplicate Fund                                               2\n",
       "Bequest of Margaret McMillan Webber, 1951                            2\n",
       "Gift of William Channing Whitney                                     2\n",
       "Gift of Trinity Parish, New York                                     2\n",
       "Bequest of the Sawyer Estate                                         2\n",
       "Gift of Mrs. Charles S. Pillsbury, 1924                              2\n",
       "Gift of Arthur L. Jenks, August 1922                                 2\n",
       "The John Russell Van Derlip Library Fund                             2\n",
       "Gift of Gardner Teall, 1920                                          2\n",
       "The Miscellaneous Works of Art Purchase Fund, 1952 (2nd Biennial)    2\n",
       "Gift of Charles Bell                                                 2\n",
       "Name: creditline, dtype: int64"
      ]
     },
     "execution_count": 97,
     "metadata": {},
     "output_type": "execute_result"
    }
   ],
   "source": [
    "# rerun filters on updated dataframe\n",
    "# filter dataframe for accession years longer than 4 digits\n",
    "df_1 = df[df['accession_year'].map(lambda x: len(x) < 5)]\n",
    "df_2 = df[df['accession_year'].map(lambda x: len(x) > 4)]\n",
    "# filter dataframe for accession numbers shorter than 4 digits\n",
    "df_3 = df_1[df_1['accession_number'].map(lambda x: len(x) > 3)]\n",
    "df_4 = df_1[df_1['accession_number'].map(lambda x: len(x) < 4)]\n",
    "# Use groupby to filter out any accession years with less than 30 entries\n",
    "df_grouped = df_3.groupby('accession_year').filter(lambda x: len(x) > 30)\n",
    "df_remainder = df_3.groupby('accession_year').filter(lambda x: len(x) <= 30)\n",
    "# combine df_2, df_4, and df_remainder into one larger dataframe\n",
    "df_remainder = df_remainder.append([df_2,df_4])\n",
    "df_remainder.creditline.value_counts()[45:65]"
   ]
  },
  {
   "cell_type": "code",
   "execution_count": 98,
   "metadata": {},
   "outputs": [],
   "source": [
    "# Update next 15 entries\n",
    "df.loc[(df['creditline'] == 'Gift of Mrs. Paul Morand, 1932'), \n",
    "            'accession_year'] = '32'\n",
    "df.loc[(df['creditline'] == 'The Christina N. and Swan J. Turnblad Memorial Fund, 1962'), \n",
    "            'accession_year'] = '62'\n",
    "df.loc[(df['creditline'] == 'Bequest of Margaret McMillan Webber, 1951'), \n",
    "            'accession_year'] = '51'\n",
    "df.loc[(df['creditline'] == 'Gift of Mrs. Charles S. Pillsbury, 1924'), \n",
    "            'accession_year'] = '24'\n",
    "df.loc[(df['creditline'] == 'Gift of Arthur L. Jenks, August 1922'), \n",
    "            'accession_year'] = '22'\n",
    "df.loc[(df['creditline'] == 'Gift of Gardner Teall, 1920'), \n",
    "            'accession_year'] = '20'\n",
    "df.loc[(df['creditline'] == 'The Miscellaneous Works of Art Purchase Fund, 1952 (2nd Biennial)'), \n",
    "            'accession_year'] = '52'"
   ]
  },
  {
   "cell_type": "code",
   "execution_count": 99,
   "metadata": {},
   "outputs": [
    {
     "data": {
      "text/plain": [
       "The William M. Ladd Collection\\r\\nGift of Herschel V. Jones, 1916               872\n",
       "Gift of H. V. Jones                                                             518\n",
       "The Minnich Collection\\r\\nThe Ethel Morrison Van Derlip Fund                    114\n",
       "The Ethel Morrison Van Derlip Fund                                               55\n",
       "Gift of F.N. Edmonds                                                             52\n",
       "Gift of Frederick B. Wells                                                       38\n",
       "Gift of Mrs. Carl W. Jones in Memory of Her Husband                              38\n",
       "Gift of Mrs. Darwin R. Martin                                                    38\n",
       "The William Hood Dunwoody Fund                                                   31\n",
       "Gift of the Estate of Dorothy Millett Lindeke                                    30\n",
       "The William Hood Dunwoody Fund, 1915                                             28\n",
       "Gift of Bruce B. Dayton                                                          24\n",
       "Gift of Ethel Morrison Van DerLip, 1916                                          22\n",
       "The John R. Van Derlip Print Fund                                                16\n",
       "The William M. Ladd Collection, Gift of Herschel V. Jones                        15\n",
       "Gift of J. B. Neumann                                                            14\n",
       "On Permanent Loan from the State Arts Society                                    13\n",
       "Gift of George A. Goddard                                                        13\n",
       "Anonymous Gift                                                                   11\n",
       "The Miscellaneous Works of Art Purchase Fund                                     11\n",
       "Gift of Dr. Angus Morrison                                                       11\n",
       "Gift of J.B. Neumann                                                             10\n",
       "Gift of Ethel Morrison Van Derlip, 1916                                           9\n",
       "Gift of Mrs. C.C. Bovey                                                           9\n",
       "Gift of Herschel V. Jones                                                         9\n",
       "The John R. Van Derlip Fund                                                       9\n",
       "The William Hood Dundwoody Fund, 1915                                             7\n",
       "The Modernism Collection, gift of Norwest Bank Minnesota                          6\n",
       "Purchase: Dunwoody Fund, 1915                                                     6\n",
       "Gift of the Artist                                                                6\n",
       "                                                                               ... \n",
       "Gift of Mrs. Charles C. Bovey, 1940                                               1\n",
       "Gift of J. B. Neuman                                                              1\n",
       "The William Drake Collection\\r\\nGift of Herschel V. Jones, 1916                   1\n",
       "Gift of Miss Wheelwright                                                          1\n",
       "Gift of Paul J. Sachs, 1915                                                       1\n",
       "Discretionary Fund                                                                1\n",
       "Gift of Herschel V. Jones, 1925\\r\\n                                               1\n",
       "Purchase Fund of T. B. Vallmer, 1922                                              1\n",
       "Gift of Mr. Joseph Breck, August 1919                                             1\n",
       "The William M. Ladd Collection, Anonymous Gift                                    1\n",
       "Gift of Mr. Herschel V. Jones, 1926                                               1\n",
       "F.S. Winston Fund or Gift of Donald Winston                                       1\n",
       "Gift of Mr. Anthony M. Clark, 1964                                                1\n",
       "Bequest of Alfred Pillsbury, 1958                                                 1\n",
       "Gift of Mrs. Carl W. Jones in memory of her husband                               1\n",
       "Gift of Mr. and Mrs. E. D. Brooks, March 1919                                     1\n",
       "Mr. Herschel V. Jones, 1920                                                       1\n",
       "Purchase (fund unknown), 1919                                                     1\n",
       "No source info., 1961                                                             1\n",
       "Bequest of Herschel V. Jones, 1968                                                1\n",
       "Gift of Mr. E. D. Brooks, 1919                                                    1\n",
       "Gift of the Freinds of the Institute in memory of Caroline Rankiellour, 1959      1\n",
       "Gift of Mr. Richard P. Gale                                                       1\n",
       "The William M. Ladd Collection\\r\\nAnoymous Gift, 1916                             1\n",
       "Gift of Mrs. Oliver C. Wyman, 1939                                                1\n",
       "Bequest of Mrs. C. S. Pillsbury, 1958                                             1\n",
       "Purchase: July,1922                                                               1\n",
       "N.W. NORTHRUP                                                                     1\n",
       "GIft of Philip W. Pillsbury, 1959                                                 1\n",
       "The William Hood Dunwoody Fund, 1954 (Biennial)                                   1\n",
       "Name: creditline, Length: 455, dtype: int64"
      ]
     },
     "execution_count": 99,
     "metadata": {},
     "output_type": "execute_result"
    }
   ],
   "source": [
    "df_remainder.creditline.value_counts()"
   ]
  },
  {
   "cell_type": "code",
   "execution_count": 100,
   "metadata": {},
   "outputs": [
    {
     "data": {
      "text/plain": [
       "66      8187\n",
       "99      7717\n",
       "16      4529\n",
       "2013    4006\n",
       "2003    3731\n",
       "98      3550\n",
       "24      3491\n",
       "2007    3121\n",
       "2004    3066\n",
       "2002    2864\n",
       "96      2650\n",
       "2015    2625\n",
       "2001    2490\n",
       "2010    2356\n",
       "97      2306\n",
       "2005    2180\n",
       "74      2018\n",
       "95      1960\n",
       "2000    1957\n",
       "2017    1828\n",
       "2018    1771\n",
       "2014    1771\n",
       "2012    1771\n",
       "82      1680\n",
       "77      1676\n",
       "90      1671\n",
       "2016    1651\n",
       "2006    1625\n",
       "81      1580\n",
       "94      1468\n",
       "        ... \n",
       "63       290\n",
       "62       272\n",
       "54       202\n",
       "43       190\n",
       "56       184\n",
       "15       172\n",
       "35       171\n",
       "37       170\n",
       "55       163\n",
       "28       139\n",
       "14       129\n",
       "45       124\n",
       "44       122\n",
       "20       115\n",
       "09       105\n",
       "32       104\n",
       "22       100\n",
       "18        84\n",
       "57        81\n",
       "13        77\n",
       "38        73\n",
       "59        66\n",
       "36        59\n",
       "33        59\n",
       "39        54\n",
       "60        51\n",
       "49        47\n",
       "52        39\n",
       "48        36\n",
       "53        36\n",
       "Name: accession_year, Length: 108, dtype: int64"
      ]
     },
     "execution_count": 100,
     "metadata": {},
     "output_type": "execute_result"
    }
   ],
   "source": [
    "df_grouped.accession_year.value_counts()"
   ]
  },
  {
   "cell_type": "code",
   "execution_count": null,
   "metadata": {},
   "outputs": [],
   "source": []
  }
 ],
 "metadata": {
  "kernelspec": {
   "display_name": "Python 3",
   "language": "python",
   "name": "python3"
  },
  "language_info": {
   "codemirror_mode": {
    "name": "ipython",
    "version": 3
   },
   "file_extension": ".py",
   "mimetype": "text/x-python",
   "name": "python",
   "nbconvert_exporter": "python",
   "pygments_lexer": "ipython3",
   "version": "3.6.8"
  }
 },
 "nbformat": 4,
 "nbformat_minor": 2
}
