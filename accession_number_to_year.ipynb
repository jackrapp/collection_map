{
 "cells": [
  {
   "cell_type": "code",
   "execution_count": 1,
   "metadata": {},
   "outputs": [],
   "source": [
    "import pandas as pd\n",
    "import matplotlib.pyplot as plt\n",
    "import numpy as np"
   ]
  },
  {
   "cell_type": "code",
   "execution_count": 2,
   "metadata": {},
   "outputs": [],
   "source": [
    "# collections data\n",
    "csv_file = \"resources/Mia_objects_raw.csv\""
   ]
  },
  {
   "cell_type": "code",
   "execution_count": 3,
   "metadata": {},
   "outputs": [
    {
     "data": {
      "text/html": [
       "<div>\n",
       "<style scoped>\n",
       "    .dataframe tbody tr th:only-of-type {\n",
       "        vertical-align: middle;\n",
       "    }\n",
       "\n",
       "    .dataframe tbody tr th {\n",
       "        vertical-align: top;\n",
       "    }\n",
       "\n",
       "    .dataframe thead th {\n",
       "        text-align: right;\n",
       "    }\n",
       "</style>\n",
       "<table border=\"1\" class=\"dataframe\">\n",
       "  <thead>\n",
       "    <tr style=\"text-align: right;\">\n",
       "      <th></th>\n",
       "      <th>accession_number</th>\n",
       "      <th>artist</th>\n",
       "      <th>classification</th>\n",
       "      <th>continent</th>\n",
       "      <th>country</th>\n",
       "      <th>creditline</th>\n",
       "      <th>culture</th>\n",
       "      <th>dated</th>\n",
       "      <th>department</th>\n",
       "      <th>id</th>\n",
       "      <th>life_date</th>\n",
       "      <th>medium</th>\n",
       "      <th>nationality</th>\n",
       "      <th>object_name</th>\n",
       "      <th>provenance</th>\n",
       "      <th>room</th>\n",
       "      <th>style</th>\n",
       "      <th>title</th>\n",
       "    </tr>\n",
       "  </thead>\n",
       "  <tbody>\n",
       "    <tr>\n",
       "      <th>0</th>\n",
       "      <td>10.1</td>\n",
       "      <td>Frederick G. Smith; Artist: Formerly attribute...</td>\n",
       "      <td>Drawings</td>\n",
       "      <td>Europe</td>\n",
       "      <td>England</td>\n",
       "      <td>Gift of Mrs. C. J. Martin, in memory of Charle...</td>\n",
       "      <td>NaN</td>\n",
       "      <td>c.1888-89</td>\n",
       "      <td>Prints and Drawings</td>\n",
       "      <td>0</td>\n",
       "      <td>English, 1833 - 1911</td>\n",
       "      <td>Pen and ink, brush and wash over graphite</td>\n",
       "      <td>English</td>\n",
       "      <td>Drawing</td>\n",
       "      <td>[Art dealer, London, acquired from \"an old hou...</td>\n",
       "      <td>Not on View</td>\n",
       "      <td>19th century</td>\n",
       "      <td>Air, from the series The Four Elements</td>\n",
       "    </tr>\n",
       "    <tr>\n",
       "      <th>1</th>\n",
       "      <td>10.2</td>\n",
       "      <td>Frederick G. Smith; Artist: Formerly attribute...</td>\n",
       "      <td>Drawings</td>\n",
       "      <td>Europe</td>\n",
       "      <td>England</td>\n",
       "      <td>Gift of Mrs. C. J. Martin, in memory of Charle...</td>\n",
       "      <td>NaN</td>\n",
       "      <td>c. 1888-89</td>\n",
       "      <td>Prints and Drawings</td>\n",
       "      <td>1</td>\n",
       "      <td>English, 1833 - 1911</td>\n",
       "      <td>Pen and ink, brush and wash over graphite</td>\n",
       "      <td>English</td>\n",
       "      <td>Drawing</td>\n",
       "      <td>[Art dealer, London, acquired from \"an old hou...</td>\n",
       "      <td>Not on View</td>\n",
       "      <td>19th century</td>\n",
       "      <td>Earth, from the series The Four Elements</td>\n",
       "    </tr>\n",
       "    <tr>\n",
       "      <th>2</th>\n",
       "      <td>10.3</td>\n",
       "      <td>Frederick G. Smith; Artist: Formerly attribute...</td>\n",
       "      <td>Drawings</td>\n",
       "      <td>Europe</td>\n",
       "      <td>England</td>\n",
       "      <td>Gift of Mrs. C. J. Martin, in memory of Charle...</td>\n",
       "      <td>NaN</td>\n",
       "      <td>c. 1888-89</td>\n",
       "      <td>Prints and Drawings</td>\n",
       "      <td>2</td>\n",
       "      <td>English, 1833 - 1911</td>\n",
       "      <td>Pen and ink, brush and wash over graphite</td>\n",
       "      <td>English</td>\n",
       "      <td>Drawing</td>\n",
       "      <td>[Art dealer, London, acquired from \"an old hou...</td>\n",
       "      <td>G352</td>\n",
       "      <td>19th century</td>\n",
       "      <td>Fire, from the series The Four Elements</td>\n",
       "    </tr>\n",
       "    <tr>\n",
       "      <th>3</th>\n",
       "      <td>10.4</td>\n",
       "      <td>Frederick G. Smith; Artist: Formerly attribute...</td>\n",
       "      <td>Drawings</td>\n",
       "      <td>Europe</td>\n",
       "      <td>England</td>\n",
       "      <td>Gift of Mrs. C. J. Martin, in memory of Charle...</td>\n",
       "      <td>NaN</td>\n",
       "      <td>c. 1888-89</td>\n",
       "      <td>Prints and Drawings</td>\n",
       "      <td>3</td>\n",
       "      <td>English, 1833 - 1911</td>\n",
       "      <td>Pen and ink, brush and wash over graphite</td>\n",
       "      <td>English</td>\n",
       "      <td>Drawing</td>\n",
       "      <td>[Art dealer, London, acquired from \"an old hou...</td>\n",
       "      <td>Not on View</td>\n",
       "      <td>19th century</td>\n",
       "      <td>Water, from the series The Four Elements</td>\n",
       "    </tr>\n",
       "    <tr>\n",
       "      <th>4</th>\n",
       "      <td>13.29</td>\n",
       "      <td>Walter Shirlaw</td>\n",
       "      <td>Drawings</td>\n",
       "      <td>North America</td>\n",
       "      <td>United States</td>\n",
       "      <td>Gift of Mrs. Florence M. Shirlaw</td>\n",
       "      <td>NaN</td>\n",
       "      <td>19th century</td>\n",
       "      <td>Prints and Drawings</td>\n",
       "      <td>4</td>\n",
       "      <td>American, 1838 - 1909</td>\n",
       "      <td>Watercolor</td>\n",
       "      <td>American</td>\n",
       "      <td>Drawing</td>\n",
       "      <td>NaN</td>\n",
       "      <td>Not on View</td>\n",
       "      <td>19th century</td>\n",
       "      <td>Montana Indian Reservation I</td>\n",
       "    </tr>\n",
       "  </tbody>\n",
       "</table>\n",
       "</div>"
      ],
      "text/plain": [
       "  accession_number                                             artist  \\\n",
       "0             10.1  Frederick G. Smith; Artist: Formerly attribute...   \n",
       "1             10.2  Frederick G. Smith; Artist: Formerly attribute...   \n",
       "2             10.3  Frederick G. Smith; Artist: Formerly attribute...   \n",
       "3             10.4  Frederick G. Smith; Artist: Formerly attribute...   \n",
       "4            13.29                                     Walter Shirlaw   \n",
       "\n",
       "  classification      continent        country  \\\n",
       "0       Drawings         Europe        England   \n",
       "1       Drawings         Europe        England   \n",
       "2       Drawings         Europe        England   \n",
       "3       Drawings         Europe        England   \n",
       "4       Drawings  North America  United States   \n",
       "\n",
       "                                          creditline culture         dated  \\\n",
       "0  Gift of Mrs. C. J. Martin, in memory of Charle...     NaN     c.1888-89   \n",
       "1  Gift of Mrs. C. J. Martin, in memory of Charle...     NaN    c. 1888-89   \n",
       "2  Gift of Mrs. C. J. Martin, in memory of Charle...     NaN    c. 1888-89   \n",
       "3  Gift of Mrs. C. J. Martin, in memory of Charle...     NaN    c. 1888-89   \n",
       "4                   Gift of Mrs. Florence M. Shirlaw     NaN  19th century   \n",
       "\n",
       "            department  id              life_date  \\\n",
       "0  Prints and Drawings   0   English, 1833 - 1911   \n",
       "1  Prints and Drawings   1   English, 1833 - 1911   \n",
       "2  Prints and Drawings   2   English, 1833 - 1911   \n",
       "3  Prints and Drawings   3   English, 1833 - 1911   \n",
       "4  Prints and Drawings   4  American, 1838 - 1909   \n",
       "\n",
       "                                      medium nationality object_name  \\\n",
       "0  Pen and ink, brush and wash over graphite     English     Drawing   \n",
       "1  Pen and ink, brush and wash over graphite     English     Drawing   \n",
       "2  Pen and ink, brush and wash over graphite     English     Drawing   \n",
       "3  Pen and ink, brush and wash over graphite     English     Drawing   \n",
       "4                                 Watercolor    American     Drawing   \n",
       "\n",
       "                                          provenance         room  \\\n",
       "0  [Art dealer, London, acquired from \"an old hou...  Not on View   \n",
       "1  [Art dealer, London, acquired from \"an old hou...  Not on View   \n",
       "2  [Art dealer, London, acquired from \"an old hou...         G352   \n",
       "3  [Art dealer, London, acquired from \"an old hou...  Not on View   \n",
       "4                                                NaN  Not on View   \n",
       "\n",
       "          style                                     title  \n",
       "0  19th century    Air, from the series The Four Elements  \n",
       "1  19th century  Earth, from the series The Four Elements  \n",
       "2  19th century   Fire, from the series The Four Elements  \n",
       "3  19th century  Water, from the series The Four Elements  \n",
       "4  19th century              Montana Indian Reservation I  "
      ]
     },
     "execution_count": 3,
     "metadata": {},
     "output_type": "execute_result"
    }
   ],
   "source": [
    "df = pd.read_csv(csv_file, index_col='Unnamed: 0')\n",
    "df.head()"
   ]
  },
  {
   "cell_type": "code",
   "execution_count": 4,
   "metadata": {},
   "outputs": [],
   "source": [
    "# strip \"P\" & \"p\" from prints & drawings\n",
    "df['accession_number'] = df['accession_number'].str.lstrip('P.')\n",
    "df['accession_number'] = df['accession_number'].str.lstrip('p.')\n",
    "\n",
    "# split out first half of accession number\n",
    "df['accession_year'] = df['accession_number'].str.split('.', n=1, expand=True)[0]"
   ]
  },
  {
   "cell_type": "markdown",
   "metadata": {},
   "source": [
    "# Acession Number Cleaning\n",
    "\n",
    "### RBL/RB/X\n",
    "Adding columns for unknown accession letters"
   ]
  },
  {
   "cell_type": "code",
   "execution_count": 5,
   "metadata": {},
   "outputs": [],
   "source": [
    "# add 'RBL' column\n",
    "df['RBL'] = df['accession_year'].str.extract(r'(RBL)', expand=True)\n",
    "# add 'RB' column\n",
    "df['RB'] = df['accession_year'].str.extract(r'(RB)', expand=True)\n",
    "# add 'X' column\n",
    "df['X'] = df['accession_year'].str.extract(r'(^X)', expand=True)"
   ]
  },
  {
   "cell_type": "markdown",
   "metadata": {},
   "source": [
    "### L\n",
    "Adding column for loaned objects"
   ]
  },
  {
   "cell_type": "code",
   "execution_count": 6,
   "metadata": {},
   "outputs": [],
   "source": [
    "# add loan column\n",
    "df['loan'] = df['accession_year'].str.extract(r'(^L)', expand=True)"
   ]
  },
  {
   "cell_type": "markdown",
   "metadata": {},
   "source": [
    "Stripping letters from accession_year"
   ]
  },
  {
   "cell_type": "code",
   "execution_count": 7,
   "metadata": {},
   "outputs": [],
   "source": [
    "# strip 'RBL' from accession_year column (strips L, RB & RBL)\n",
    "df['accession_year'] = df['accession_year'].str.lstrip('RBL')\n",
    "\n",
    "# strip \"X\" from accession_year column\n",
    "df['accession_year'] = df['accession_year'].str.lstrip('X')"
   ]
  },
  {
   "cell_type": "markdown",
   "metadata": {},
   "source": [
    "### Filter out invalid years\n",
    "\n",
    "Filter dataframe two ways:\n",
    "- Filter out accession years longer than 4 digits (years go up to 4 digits e.g. 2019)\n",
    "- Use groupby to filter out any accession years with less than two entries"
   ]
  },
  {
   "cell_type": "code",
   "execution_count": 8,
   "metadata": {},
   "outputs": [],
   "source": [
    "# replace all empty cells with None\n",
    "df = df.replace('', None)"
   ]
  },
  {
   "cell_type": "code",
   "execution_count": 9,
   "metadata": {},
   "outputs": [],
   "source": [
    "# filter dataframe for accession years longer than 4 digits\n",
    "df_1 = df[df['accession_year'].map(lambda x: len(x) < 5)]\n",
    "df_2 = df[df['accession_year'].map(lambda x: len(x) > 4)]"
   ]
  },
  {
   "cell_type": "code",
   "execution_count": 10,
   "metadata": {},
   "outputs": [],
   "source": [
    "# Use groupby to filter out any accession years with less than two entries\n",
    "df_grouped = df_1.groupby('accession_year').filter(lambda x: len(x) > 2)\n",
    "df_remainder = df_1.groupby('accession_year').filter(lambda x: len(x) <= 2)"
   ]
  },
  {
   "cell_type": "markdown",
   "metadata": {},
   "source": [
    "### Check filtered dataframe for invalid accession years\n",
    "\n",
    "- use df_grouped.accession_year.value_counts() to find non-year accession year values and see if there is information\n",
    "in creditline or provenance\n",
    "- update accession_year in original dataframe and re-filter, then recheck grouped dataframe"
   ]
  },
  {
   "cell_type": "code",
   "execution_count": 25,
   "metadata": {},
   "outputs": [
    {
     "data": {
      "text/plain": [
       "99      7717\n",
       "16      5066\n",
       "2013    4006\n",
       "2003    3731\n",
       "98      3550\n",
       "2007    3121\n",
       "2004    3066\n",
       "2002    2864\n",
       "96      2650\n",
       "2015    2625\n",
       "2001    2490\n",
       "2010    2356\n",
       "97      2306\n",
       "2005    2180\n",
       "74      2019\n",
       "95      1960\n",
       "2000    1957\n",
       "2017    1828\n",
       "2018    1771\n",
       "2014    1771\n",
       "2012    1771\n",
       "82      1682\n",
       "77      1677\n",
       "90      1672\n",
       "2016    1651\n",
       "2006    1625\n",
       "81      1581\n",
       "94      1468\n",
       "75      1361\n",
       "2008    1323\n",
       "        ... \n",
       "45       125\n",
       "44       123\n",
       "24       109\n",
       "46       106\n",
       "26       106\n",
       "09       105\n",
       "20       104\n",
       "29       101\n",
       "32        99\n",
       "43        92\n",
       "13        78\n",
       "22        63\n",
       "55        62\n",
       "36        60\n",
       "33        57\n",
       "59        57\n",
       "39        55\n",
       "49        48\n",
       "60        47\n",
       "57        46\n",
       "38        45\n",
       "18        37\n",
       "48        37\n",
       "53        37\n",
       "52        34\n",
       "19        30\n",
       "121       19\n",
       "10         6\n",
       "12         5\n",
       "11         3\n",
       "Name: accession_year, Length: 112, dtype: int64"
      ]
     },
     "execution_count": 25,
     "metadata": {},
     "output_type": "execute_result"
    }
   ],
   "source": [
    "# look for non-year accession_years in df_grouped (main dataframe)\n",
    "df_grouped.accession_year.value_counts()"
   ]
  },
  {
   "cell_type": "code",
   "execution_count": 11,
   "metadata": {},
   "outputs": [
    {
     "data": {
      "text/plain": [
       "'The William M. Ladd Collection\\r\\nGift of Herschel V. Jones, 1916'"
      ]
     },
     "execution_count": 11,
     "metadata": {},
     "output_type": "execute_result"
    }
   ],
   "source": [
    "# check number 234 & 121 - did not find any useful info in 121\n",
    "df_test = df[df['accession_year'] == \"234\"]\n",
    "df_test.creditline.all()"
   ]
  },
  {
   "cell_type": "code",
   "execution_count": 12,
   "metadata": {},
   "outputs": [],
   "source": [
    "# check larger dataframe for matching creditline entries\n",
    "df_test_2 = df[df['creditline'] == 'The William M. Ladd Collection\\r\\nGift of Herschel V. Jones, 1916']\n",
    "# using count and db_test_2.head() double checked data\n",
    "df_test_2.count()\n",
    "# replace accession_year with 16 for all matching accession numbers in db\n",
    "df.loc[(df['creditline'] == 'The William M. Ladd Collection\\r\\nGift of Herschel V. Jones, 1916'), \n",
    "            'accession_year'] = '16'"
   ]
  },
  {
   "cell_type": "code",
   "execution_count": 17,
   "metadata": {},
   "outputs": [],
   "source": [
    "# rerun filters on updated dataframe\n",
    "# filter dataframe for accession years longer than 4 digits\n",
    "df_1 = df[df['accession_year'].map(lambda x: len(x) < 5)]\n",
    "df_2 = df[df['accession_year'].map(lambda x: len(x) > 4)]\n",
    "# Use groupby to filter out any accession years with less than two entries\n",
    "df_grouped = df_1.groupby('accession_year').filter(lambda x: len(x) > 2)\n",
    "df_remainder = df_1.groupby('accession_year').filter(lambda x: len(x) <= 2)"
   ]
  },
  {
   "cell_type": "markdown",
   "metadata": {},
   "source": [
    "### Manually Updating Using Creditline info\n",
    "Using creditline info, update accession year when possible for objects filtered out of dataframe with invalid accession years"
   ]
  },
  {
   "cell_type": "code",
   "execution_count": 32,
   "metadata": {},
   "outputs": [
    {
     "data": {
      "text/plain": [
       "The Minnich Collection\\r\\nThe Ethel Morrison Van Derlip Fund, 1966       22719\n",
       "Gift of Mrs. Charles C. Bovey, 1924                                       9397\n",
       "Gift of George A. Goddard, 1919                                           1842\n",
       "Gift of H. V. Jones                                                       1554\n",
       "The William M. Ladd Collection\\r\\nGift of Herschel V. Jones, 1916\\r\\n      975\n",
       "Gift of Mrs. George P. Douglas, 1946                                       801\n",
       "Gift of Herschel V. Jones, 1926                                            693\n",
       "Gift of Mrs. George P. Douglas, 1929                                       636\n",
       "Gift of Mrs.C.C.Bovey, 1924                                                489\n",
       "Gift of Mr. R. E. Lewis, 1965                                              459\n",
       "Name: creditline, dtype: int64"
      ]
     },
     "execution_count": 32,
     "metadata": {},
     "output_type": "execute_result"
    }
   ],
   "source": [
    "# combine df_2 and df_remainder into one larger dataframe\n",
    "df_remainder = df_remainder.append(df_2)\n",
    "df_remainder.creditline.value_counts().head(10)"
   ]
  },
  {
   "cell_type": "code",
   "execution_count": 37,
   "metadata": {},
   "outputs": [],
   "source": [
    "# Update top 10 entries\n",
    "df.loc[(df['creditline'] == 'The Minnich Collection\\r\\nThe Ethel Morrison Van Derlip Fund, 1966'), \n",
    "            'accession_year'] = '66'\n",
    "df.loc[(df['creditline'] == 'Gift of Mrs. Charles C. Bovey, 1924'), \n",
    "            'accession_year'] = '24'\n",
    "df.loc[(df['creditline'] == 'Gift of George A. Goddard, 1919'), \n",
    "            'accession_year'] = '19'\n",
    "df.loc[(df['creditline'] == 'The William M. Ladd Collection\\r\\nGift of Herschel V. Jones, 1916\\r\\n'), \n",
    "            'accession_year'] = '16'\n",
    "df.loc[(df['creditline'] == 'Gift of Mrs. George P. Douglas, 1946'), \n",
    "            'accession_year'] = '46'\n",
    "df.loc[(df['creditline'] == 'Gift of Herschel V. Jones, 1926'), \n",
    "            'accession_year'] = '26'\n",
    "df.loc[(df['creditline'] == 'Gift of Mrs. George P. Douglas, 1929'), \n",
    "            'accession_year'] = '29'\n",
    "df.loc[(df['creditline'] == 'Gift of Mrs.C.C.Bovey, 1924'), \n",
    "            'accession_year'] = '24'\n",
    "df.loc[(df['creditline'] == 'Gift of Mr. R. E. Lewis, 1965'), \n",
    "            'accession_year'] = '65'"
   ]
  },
  {
   "cell_type": "code",
   "execution_count": 54,
   "metadata": {},
   "outputs": [
    {
     "data": {
      "text/plain": [
       "Gift of H. V. Jones                                                                         518\n",
       "The Minnich Collection\\r\\nThe Ethel Morrison Van Derlip Fund                                114\n",
       "The Ethel Morrison Van Derlip Fund                                                           55\n",
       "Gift of F.N. Edmonds                                                                         52\n",
       "Gift of Frederick B. Wells                                                                   38\n",
       "Gift of Mrs. Carl W. Jones in Memory of Her Husband                                          38\n",
       "Gift of Mrs. Darwin R. Martin                                                                38\n",
       "Gift of the Estate of Dorothy Millett Lindeke                                                30\n",
       "The William Hood Dunwoody Fund                                                               29\n",
       "Gift of Miss Tessie Jones in memory of her parents, Mr. and Mrs. Herschel V. Jones, 1966     27\n",
       "Gift of Bruce B. Dayton                                                                      24\n",
       "Name: creditline, dtype: int64"
      ]
     },
     "execution_count": 54,
     "metadata": {},
     "output_type": "execute_result"
    }
   ],
   "source": [
    "# rerun filters on updated dataframe\n",
    "# filter dataframe for accession years longer than 4 digits\n",
    "df_1 = df[df['accession_year'].map(lambda x: len(x) < 5)]\n",
    "df_2 = df[df['accession_year'].map(lambda x: len(x) > 4)]\n",
    "# Use groupby to filter out any accession years with less than two entries\n",
    "df_grouped = df_1.groupby('accession_year').filter(lambda x: len(x) > 2)\n",
    "df_remainder = df_1.groupby('accession_year').filter(lambda x: len(x) <= 2)\n",
    "# combine df_2 and df_remainder into one larger dataframe\n",
    "df_remainder = df_remainder.append(df_2)\n",
    "df_remainder.creditline.value_counts().head(11)"
   ]
  },
  {
   "cell_type": "code",
   "execution_count": 39,
   "metadata": {},
   "outputs": [],
   "source": [
    "# Update top 10 entries\n",
    "df.loc[(df['creditline'] == 'Gift of Herschel V. Jones, 1925'), \n",
    "            'accession_year'] = '25'\n",
    "df.loc[(df['creditline'] == 'Gift of Miss A. G. Latham, 1943'), \n",
    "            'accession_year'] = '43'\n",
    "df.loc[(df['creditline'] == 'Bequest of Mrs. Charles S. Pillsbury, 1958'), \n",
    "            'accession_year'] = '58'\n",
    "df.loc[(df['creditline'] == 'Gift of Philip Little in memory of Annie Jeannette Jackson, 1931'), \n",
    "            'accession_year'] = '31'\n",
    "df.loc[(df['creditline'] == 'Gift of Mrs. C.C. Bovey, 1941'), \n",
    "            'accession_year'] = '41'\n",
    "df.loc[(df['creditline'] == 'Gift of Mr. George A. Goddard, 1919'), \n",
    "            'accession_year'] = '19'\n",
    "df.loc[(df['creditline'] == 'Gift of Mrs. C.C. Bovey, 1924'), \n",
    "            'accession_year'] = '24'\n",
    "df.loc[(df['creditline'] == 'Gift of Mrs. Philip Little, Jr., 1963'), \n",
    "            'accession_year'] = '63'"
   ]
  },
  {
   "cell_type": "code",
   "execution_count": 40,
   "metadata": {},
   "outputs": [
    {
     "data": {
      "text/plain": [
       "Gift of H. V. Jones                                                                                          518\n",
       "The Minnich Collection\\r\\nThe Ethel Morrison Van Derlip Fund                                                 114\n",
       "Gift of Miss Perrie Jones, 1961                                                                               65\n",
       "Gift of Mrs. Philip Little, Jr., 1962                                                                         65\n",
       "Gift of Mrs. B.J.O Nordfeldt, 1955                                                                            63\n",
       "Gift of Howard Mansfield, 1926                                                                                63\n",
       "Gift of Ruth Lathrop Sikes in memory of her brother Bruce Sikes, 1967                                         61\n",
       "Gift of Miss Eileen Bigelow and Mrs. O. H. Ingram, in memory of their mother, Mrs. Alice F. Bigelow, 1965     60\n",
       "Gift of the Artist, 1923                                                                                      58\n",
       "The Ethel Morrison Van Derlip Fund                                                                            55\n",
       "Name: creditline, dtype: int64"
      ]
     },
     "execution_count": 40,
     "metadata": {},
     "output_type": "execute_result"
    }
   ],
   "source": [
    "# rerun filters on updated dataframe\n",
    "# filter dataframe for accession years longer than 4 digits\n",
    "df_1 = df[df['accession_year'].map(lambda x: len(x) < 5)]\n",
    "df_2 = df[df['accession_year'].map(lambda x: len(x) > 4)]\n",
    "# Use groupby to filter out any accession years with less than two entries\n",
    "df_grouped = df_1.groupby('accession_year').filter(lambda x: len(x) > 2)\n",
    "df_remainder = df_1.groupby('accession_year').filter(lambda x: len(x) <= 2)\n",
    "# combine df_2 and df_remainder into one larger dataframe\n",
    "df_remainder = df_remainder.append(df_2)\n",
    "df_remainder.creditline.value_counts().head(10)"
   ]
  },
  {
   "cell_type": "code",
   "execution_count": 43,
   "metadata": {},
   "outputs": [],
   "source": [
    "# Update top 10 entries\n",
    "df.loc[(df['creditline'] == 'Gift of Miss Perrie Jones, 1961'), \n",
    "            'accession_year'] = '61'\n",
    "df.loc[(df['creditline'] == 'Gift of Mrs. Philip Little, Jr., 1962'), \n",
    "            'accession_year'] = '62'\n",
    "df.loc[(df['creditline'] == 'Gift of Mrs. B.J.O Nordfeldt, 1955'), \n",
    "            'accession_year'] = '55'\n",
    "df.loc[(df['creditline'] == 'Gift of Howard Mansfield, 1926'), \n",
    "            'accession_year'] = '26'\n",
    "df.loc[(df['creditline'] == 'Gift of Ruth Lathrop Sikes in memory of her brother Bruce Sikes, 1967'), \n",
    "            'accession_year'] = '67'\n",
    "df.loc[(df['creditline'] == 'Gift of Miss Eileen Bigelow and Mrs. O. H. Ingram, in memory of their mother, Mrs. Alice F. Bigelow, 1965'), \n",
    "            'accession_year'] = '65'\n",
    "df.loc[(df['creditline'] == 'Gift of the Artist, 1923'), \n",
    "            'accession_year'] = '23'"
   ]
  },
  {
   "cell_type": "code",
   "execution_count": 44,
   "metadata": {},
   "outputs": [
    {
     "data": {
      "text/plain": [
       "Gift of H. V. Jones                                                                        518\n",
       "The Minnich Collection\\r\\nThe Ethel Morrison Van Derlip Fund                               114\n",
       "The Ethel Morrison Van Derlip Fund                                                          55\n",
       "The Minnich Collection\\r\\nThe Ethel Morrison Van DerLip Fund, 1966                          53\n",
       "Gift of F.N. Edmonds                                                                        52\n",
       "Gift of Miss Katherine Bullard, 1918                                                        48\n",
       "The Ethel Morrison Van Derlip Fund, 1967                                                    41\n",
       "Gift of Mrs. C. C. Bovey, 1941                                                              41\n",
       "Gift of Funds from Mrs. Franklin M. Crosby Jr. and the William Hood Dunwoody Fund, 1947     41\n",
       "Pillsbury Bequest, 1958                                                                     40\n",
       "Name: creditline, dtype: int64"
      ]
     },
     "execution_count": 44,
     "metadata": {},
     "output_type": "execute_result"
    }
   ],
   "source": [
    "# rerun filters on updated dataframe\n",
    "# filter dataframe for accession years longer than 4 digits\n",
    "df_1 = df[df['accession_year'].map(lambda x: len(x) < 5)]\n",
    "df_2 = df[df['accession_year'].map(lambda x: len(x) > 4)]\n",
    "# Use groupby to filter out any accession years with less than two entries\n",
    "df_grouped = df_1.groupby('accession_year').filter(lambda x: len(x) > 2)\n",
    "df_remainder = df_1.groupby('accession_year').filter(lambda x: len(x) <= 2)\n",
    "# combine df_2 and df_remainder into one larger dataframe\n",
    "df_remainder = df_remainder.append(df_2)\n",
    "df_remainder.creditline.value_counts().head(10)"
   ]
  },
  {
   "cell_type": "code",
   "execution_count": 45,
   "metadata": {},
   "outputs": [],
   "source": [
    "# Update top 10 entries\n",
    "df.loc[(df['creditline'] == 'The Minnich Collection\\r\\nThe Ethel Morrison Van DerLip Fund, 1966'), \n",
    "            'accession_year'] = '66'\n",
    "df.loc[(df['creditline'] == 'Gift of Miss Katherine Bullard, 1918'), \n",
    "            'accession_year'] = '18'\n",
    "df.loc[(df['creditline'] == 'The Ethel Morrison Van Derlip Fund, 1967'), \n",
    "            'accession_year'] = '67'\n",
    "df.loc[(df['creditline'] == 'Gift of Mrs. C. C. Bovey, 1941'), \n",
    "            'accession_year'] = '41'\n",
    "df.loc[(df['creditline'] == 'Gift of Funds from Mrs. Franklin M. Crosby Jr. and the William Hood Dunwoody Fund, 1947'), \n",
    "            'accession_year'] = '47'\n",
    "df.loc[(df['creditline'] == 'Pillsbury Bequest, 1958'), \n",
    "            'accession_year'] = '58'"
   ]
  },
  {
   "cell_type": "code",
   "execution_count": 47,
   "metadata": {},
   "outputs": [
    {
     "data": {
      "text/plain": [
       "Gift of H. V. Jones                                             518\n",
       "The Minnich Collection\\r\\nThe Ethel Morrison Van Derlip Fund    114\n",
       "The Ethel Morrison Van Derlip Fund                               55\n",
       "Gift of F.N. Edmonds                                             52\n",
       "Gift of Mrs. Carl W. Jones in Memory of Her Husband              38\n",
       "Gift of Mrs. Darwin R. Martin                                    38\n",
       "Gift of Frederick B. Wells                                       38\n",
       "The Ethel Morrison Van Derlip Fund, 1965                         36\n",
       "Gift of Mrs. George P. Douglas, 1955                             35\n",
       "The Christina N. and Swan J. Turnblad Memorial Fund, 1964        35\n",
       "Gift of the Estate of Dorothy Millett Lindeke                    30\n",
       "Gift of Mrs. Hiram C. Truesdale, 1927                            30\n",
       "The William Hood Dunwoody Fund                                   29\n",
       "Gift of Mrs. George P. Douglas, 1929\\r\\n                         27\n",
       "Gift of Friends of Art in Minneapolis, 1917                      27\n",
       "Name: creditline, dtype: int64"
      ]
     },
     "execution_count": 47,
     "metadata": {},
     "output_type": "execute_result"
    }
   ],
   "source": [
    "# rerun filters on updated dataframe\n",
    "# filter dataframe for accession years longer than 4 digits\n",
    "df_1 = df[df['accession_year'].map(lambda x: len(x) < 5)]\n",
    "df_2 = df[df['accession_year'].map(lambda x: len(x) > 4)]\n",
    "# Use groupby to filter out any accession years with less than two entries\n",
    "df_grouped = df_1.groupby('accession_year').filter(lambda x: len(x) > 2)\n",
    "df_remainder = df_1.groupby('accession_year').filter(lambda x: len(x) <= 2)\n",
    "# combine df_2 and df_remainder into one larger dataframe\n",
    "df_remainder = df_remainder.append(df_2)\n",
    "df_remainder.creditline.value_counts().head(15)"
   ]
  },
  {
   "cell_type": "code",
   "execution_count": 48,
   "metadata": {},
   "outputs": [],
   "source": [
    "# Update top 15 entries\n",
    "df.loc[(df['creditline'] == 'The Ethel Morrison Van Derlip Fund, 1965'), \n",
    "            'accession_year'] = '65'\n",
    "df.loc[(df['creditline'] == 'Gift of Mrs. George P. Douglas, 1955'), \n",
    "            'accession_year'] = '55'\n",
    "df.loc[(df['creditline'] == 'The Christina N. and Swan J. Turnblad Memorial Fund, 1964'), \n",
    "            'accession_year'] = '64'\n",
    "df.loc[(df['creditline'] == 'Gift of Mrs. Hiram C. Truesdale, 1927'), \n",
    "            'accession_year'] = '27'\n",
    "df.loc[(df['creditline'] == 'Gift of Mrs. George P. Douglas, 1929\\r\\n'), \n",
    "            'accession_year'] = '29'\n",
    "df.loc[(df['creditline'] == 'Gift of Friends of Art in Minneapolis, 1917'), \n",
    "            'accession_year'] = '17'"
   ]
  },
  {
   "cell_type": "code",
   "execution_count": 49,
   "metadata": {},
   "outputs": [
    {
     "data": {
      "text/plain": [
       "Gift of H. V. Jones                                                                         518\n",
       "The Minnich Collection\\r\\nThe Ethel Morrison Van Derlip Fund                                114\n",
       "The Ethel Morrison Van Derlip Fund                                                           55\n",
       "Gift of F.N. Edmonds                                                                         52\n",
       "Gift of Frederick B. Wells                                                                   38\n",
       "Gift of Mrs. Carl W. Jones in Memory of Her Husband                                          38\n",
       "Gift of Mrs. Darwin R. Martin                                                                38\n",
       "Gift of the Estate of Dorothy Millett Lindeke                                                30\n",
       "The William Hood Dunwoody Fund                                                               29\n",
       "Gift of Miss Tessie Jones in memory of her parents, Mr. and Mrs. Herschel V. Jones, 1966     27\n",
       "Gift of Bruce B. Dayton                                                                      24\n",
       "Gift of Mrs. Childe Hassam, 1940                                                             24\n",
       "The Ethel Morrison Van Derlip Fund, 1966                                                     23\n",
       "The Miscellaneous Works of Art Purchase Fund, 1956                                           23\n",
       "Goddard, 1919                                                                                21\n",
       "Name: creditline, dtype: int64"
      ]
     },
     "execution_count": 49,
     "metadata": {},
     "output_type": "execute_result"
    }
   ],
   "source": [
    "# rerun filters on updated dataframe\n",
    "# filter dataframe for accession years longer than 4 digits\n",
    "df_1 = df[df['accession_year'].map(lambda x: len(x) < 5)]\n",
    "df_2 = df[df['accession_year'].map(lambda x: len(x) > 4)]\n",
    "# Use groupby to filter out any accession years with less than two entries\n",
    "df_grouped = df_1.groupby('accession_year').filter(lambda x: len(x) > 2)\n",
    "df_remainder = df_1.groupby('accession_year').filter(lambda x: len(x) <= 2)\n",
    "# combine df_2 and df_remainder into one larger dataframe\n",
    "df_remainder = df_remainder.append(df_2)\n",
    "df_remainder.creditline.value_counts().head(15)"
   ]
  },
  {
   "cell_type": "code",
   "execution_count": 53,
   "metadata": {},
   "outputs": [
    {
     "data": {
      "text/plain": [
       "Gift of H. V. Jones                                                                         518\n",
       "The Minnich Collection\\r\\nThe Ethel Morrison Van Derlip Fund                                114\n",
       "The Ethel Morrison Van Derlip Fund                                                           55\n",
       "Gift of F.N. Edmonds                                                                         52\n",
       "Gift of Frederick B. Wells                                                                   38\n",
       "Gift of Mrs. Carl W. Jones in Memory of Her Husband                                          38\n",
       "Gift of Mrs. Darwin R. Martin                                                                38\n",
       "Gift of the Estate of Dorothy Millett Lindeke                                                30\n",
       "The William Hood Dunwoody Fund                                                               29\n",
       "Gift of Miss Tessie Jones in memory of her parents, Mr. and Mrs. Herschel V. Jones, 1966     27\n",
       "Gift of Bruce B. Dayton                                                                      24\n",
       "Gift of Mrs. Childe Hassam, 1940                                                             24\n",
       "The Ethel Morrison Van Derlip Fund, 1966                                                     23\n",
       "The Miscellaneous Works of Art Purchase Fund, 1956                                           23\n",
       "Goddard, 1919                                                                                21\n",
       "Gift of Mr. and Mrs. Edward A. Foster, 1965                                                  21\n",
       "Gift of Mr. and Mrs. Edward A. Foster, 1966                                                  21\n",
       "Gift of Mrs. George Resler, 1965                                                             19\n",
       "Gift of the Estate of Wanda Gag, 1956                                                        19\n",
       "Gift of J. B. Neumann, 1962                                                                  19\n",
       "Purchase: July, 1922                                                                         19\n",
       "Gift of The John L. Smith Fund, 1927                                                         17\n",
       "Gift of the Artist, 1930                                                                     17\n",
       "Purchase: 1938                                                                               16\n",
       "The Martha T. Wallace Memorial Fund, 1930                                                    16\n",
       "The William Hood Dunwoody Fund, 1946                                                         16\n",
       "The John R. Van Derlip Print Fund                                                            16\n",
       "Gift of Mrs. Leo B. Harris, 1965                                                             15\n",
       "Gift of Mrs. C.C. Bovey, 1929                                                                15\n",
       "Gift of the Artist, 1957                                                                     15\n",
       "                                                                                           ... \n",
       "The Willam M. Ladd Collection\\r\\nGift of Herschel V. Jones, 1916                              1\n",
       "The Robert C. Winton Fund                                                                     1\n",
       "Gift of the Artist, 1917                                                                      1\n",
       "Gift of John W. Ittman                                                                        1\n",
       "Gift of Mr. H. W. Rubins                                                                      1\n",
       "Gift of Russell A. Plimpton, 1927                                                             1\n",
       "Gift of Goerge A. Goddard, 1919                                                               1\n",
       "Gift of Herschel V. Jones,1927                                                                1\n",
       "Pillsburn Bequest, 1958                                                                       1\n",
       "Festival, 1964                                                                                1\n",
       "Gift of The John L . Smith Fund, 1927                                                         1\n",
       "Gift of the artist, 1964                                                                      1\n",
       "The William M. Ladd Collection\\r\\nGift of Hershcel V. Jones, 1916                             1\n",
       "Gift of Miss Wheelwright                                                                      1\n",
       "The Richard E. Lewis Fund, 1963                                                               1\n",
       "Gift of Paul Hamilton for Technical material                                                  1\n",
       "Gift of Rob Rulon-Miller                                                                      1\n",
       "Anonymous Gift, 1919                                                                          1\n",
       "The Ethel M. Morrison Van Derlip Fund, 1965                                                   1\n",
       "Gift of Miss Katherine Bullard, 1918\\r\\n                                                      1\n",
       "Gift of Mrs. Walter H. Thorp, 1945                                                            1\n",
       "Gift of The John L .Smith Fund, 1927                                                          1\n",
       "Gift of Mrs. John Rood, 1961                                                                  1\n",
       "Gift of Mrs. Franklin M. Crosby, Jr., 1967                                                    1\n",
       "The Trufant and Wyman Fund, 1958                                                              1\n",
       "Gift of E. E. Tofflinger                                                                      1\n",
       "Anonymous Gift\\r\\nThe William M. Ladd Collection\\r\\nGift of Herschel V. Jones, 1916           1\n",
       "Gift of Mr. and Mrs. George Pillsbury                                                         1\n",
       "The Mrs. H.N. Strauss Fund                                                                    1\n",
       "The Willilam M. Ladd Collection, Anonymous gift                                               1\n",
       "Name: creditline, Length: 563, dtype: int64"
      ]
     },
     "execution_count": 53,
     "metadata": {},
     "output_type": "execute_result"
    }
   ],
   "source": [
    "df_remainder.creditline.value_counts()"
   ]
  },
  {
   "cell_type": "code",
   "execution_count": null,
   "metadata": {},
   "outputs": [],
   "source": []
  }
 ],
 "metadata": {
  "kernelspec": {
   "display_name": "Python 3",
   "language": "python",
   "name": "python3"
  },
  "language_info": {
   "codemirror_mode": {
    "name": "ipython",
    "version": 3
   },
   "file_extension": ".py",
   "mimetype": "text/x-python",
   "name": "python",
   "nbconvert_exporter": "python",
   "pygments_lexer": "ipython3",
   "version": "3.6.8"
  }
 },
 "nbformat": 4,
 "nbformat_minor": 2
}
