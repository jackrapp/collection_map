{
 "cells": [
  {
   "cell_type": "code",
   "execution_count": 1,
   "metadata": {},
   "outputs": [],
   "source": [
    "import pandas as pd\n",
    "import matplotlib.pyplot as plt\n",
    "import numpy as np"
   ]
  },
  {
   "cell_type": "code",
   "execution_count": 52,
   "metadata": {},
   "outputs": [],
   "source": [
    "# collections data\n",
    "csv_file = \"resources/Mia_objects_raw.csv\""
   ]
  },
  {
   "cell_type": "code",
   "execution_count": 215,
   "metadata": {},
   "outputs": [
    {
     "data": {
      "text/html": [
       "<div>\n",
       "<style scoped>\n",
       "    .dataframe tbody tr th:only-of-type {\n",
       "        vertical-align: middle;\n",
       "    }\n",
       "\n",
       "    .dataframe tbody tr th {\n",
       "        vertical-align: top;\n",
       "    }\n",
       "\n",
       "    .dataframe thead th {\n",
       "        text-align: right;\n",
       "    }\n",
       "</style>\n",
       "<table border=\"1\" class=\"dataframe\">\n",
       "  <thead>\n",
       "    <tr style=\"text-align: right;\">\n",
       "      <th></th>\n",
       "      <th>accession_number</th>\n",
       "      <th>artist</th>\n",
       "      <th>classification</th>\n",
       "      <th>continent</th>\n",
       "      <th>country</th>\n",
       "      <th>creditline</th>\n",
       "      <th>culture</th>\n",
       "      <th>dated</th>\n",
       "      <th>department</th>\n",
       "      <th>id</th>\n",
       "      <th>life_date</th>\n",
       "      <th>medium</th>\n",
       "      <th>nationality</th>\n",
       "      <th>object_name</th>\n",
       "      <th>provenance</th>\n",
       "      <th>room</th>\n",
       "      <th>style</th>\n",
       "      <th>title</th>\n",
       "    </tr>\n",
       "  </thead>\n",
       "  <tbody>\n",
       "    <tr>\n",
       "      <th>0</th>\n",
       "      <td>10.1</td>\n",
       "      <td>Frederick G. Smith; Artist: Formerly attribute...</td>\n",
       "      <td>Drawings</td>\n",
       "      <td>Europe</td>\n",
       "      <td>England</td>\n",
       "      <td>Gift of Mrs. C. J. Martin, in memory of Charle...</td>\n",
       "      <td>NaN</td>\n",
       "      <td>c.1888-89</td>\n",
       "      <td>Prints and Drawings</td>\n",
       "      <td>0</td>\n",
       "      <td>English, 1833 - 1911</td>\n",
       "      <td>Pen and ink, brush and wash over graphite</td>\n",
       "      <td>English</td>\n",
       "      <td>Drawing</td>\n",
       "      <td>[Art dealer, London, acquired from \"an old hou...</td>\n",
       "      <td>Not on View</td>\n",
       "      <td>19th century</td>\n",
       "      <td>Air, from the series The Four Elements</td>\n",
       "    </tr>\n",
       "    <tr>\n",
       "      <th>1</th>\n",
       "      <td>10.2</td>\n",
       "      <td>Frederick G. Smith; Artist: Formerly attribute...</td>\n",
       "      <td>Drawings</td>\n",
       "      <td>Europe</td>\n",
       "      <td>England</td>\n",
       "      <td>Gift of Mrs. C. J. Martin, in memory of Charle...</td>\n",
       "      <td>NaN</td>\n",
       "      <td>c. 1888-89</td>\n",
       "      <td>Prints and Drawings</td>\n",
       "      <td>1</td>\n",
       "      <td>English, 1833 - 1911</td>\n",
       "      <td>Pen and ink, brush and wash over graphite</td>\n",
       "      <td>English</td>\n",
       "      <td>Drawing</td>\n",
       "      <td>[Art dealer, London, acquired from \"an old hou...</td>\n",
       "      <td>Not on View</td>\n",
       "      <td>19th century</td>\n",
       "      <td>Earth, from the series The Four Elements</td>\n",
       "    </tr>\n",
       "    <tr>\n",
       "      <th>2</th>\n",
       "      <td>10.3</td>\n",
       "      <td>Frederick G. Smith; Artist: Formerly attribute...</td>\n",
       "      <td>Drawings</td>\n",
       "      <td>Europe</td>\n",
       "      <td>England</td>\n",
       "      <td>Gift of Mrs. C. J. Martin, in memory of Charle...</td>\n",
       "      <td>NaN</td>\n",
       "      <td>c. 1888-89</td>\n",
       "      <td>Prints and Drawings</td>\n",
       "      <td>2</td>\n",
       "      <td>English, 1833 - 1911</td>\n",
       "      <td>Pen and ink, brush and wash over graphite</td>\n",
       "      <td>English</td>\n",
       "      <td>Drawing</td>\n",
       "      <td>[Art dealer, London, acquired from \"an old hou...</td>\n",
       "      <td>G352</td>\n",
       "      <td>19th century</td>\n",
       "      <td>Fire, from the series The Four Elements</td>\n",
       "    </tr>\n",
       "    <tr>\n",
       "      <th>3</th>\n",
       "      <td>10.4</td>\n",
       "      <td>Frederick G. Smith; Artist: Formerly attribute...</td>\n",
       "      <td>Drawings</td>\n",
       "      <td>Europe</td>\n",
       "      <td>England</td>\n",
       "      <td>Gift of Mrs. C. J. Martin, in memory of Charle...</td>\n",
       "      <td>NaN</td>\n",
       "      <td>c. 1888-89</td>\n",
       "      <td>Prints and Drawings</td>\n",
       "      <td>3</td>\n",
       "      <td>English, 1833 - 1911</td>\n",
       "      <td>Pen and ink, brush and wash over graphite</td>\n",
       "      <td>English</td>\n",
       "      <td>Drawing</td>\n",
       "      <td>[Art dealer, London, acquired from \"an old hou...</td>\n",
       "      <td>Not on View</td>\n",
       "      <td>19th century</td>\n",
       "      <td>Water, from the series The Four Elements</td>\n",
       "    </tr>\n",
       "    <tr>\n",
       "      <th>4</th>\n",
       "      <td>13.29</td>\n",
       "      <td>Walter Shirlaw</td>\n",
       "      <td>Drawings</td>\n",
       "      <td>North America</td>\n",
       "      <td>United States</td>\n",
       "      <td>Gift of Mrs. Florence M. Shirlaw</td>\n",
       "      <td>NaN</td>\n",
       "      <td>19th century</td>\n",
       "      <td>Prints and Drawings</td>\n",
       "      <td>4</td>\n",
       "      <td>American, 1838 - 1909</td>\n",
       "      <td>Watercolor</td>\n",
       "      <td>American</td>\n",
       "      <td>Drawing</td>\n",
       "      <td>NaN</td>\n",
       "      <td>Not on View</td>\n",
       "      <td>19th century</td>\n",
       "      <td>Montana Indian Reservation I</td>\n",
       "    </tr>\n",
       "  </tbody>\n",
       "</table>\n",
       "</div>"
      ],
      "text/plain": [
       "  accession_number                                             artist  \\\n",
       "0             10.1  Frederick G. Smith; Artist: Formerly attribute...   \n",
       "1             10.2  Frederick G. Smith; Artist: Formerly attribute...   \n",
       "2             10.3  Frederick G. Smith; Artist: Formerly attribute...   \n",
       "3             10.4  Frederick G. Smith; Artist: Formerly attribute...   \n",
       "4            13.29                                     Walter Shirlaw   \n",
       "\n",
       "  classification      continent        country  \\\n",
       "0       Drawings         Europe        England   \n",
       "1       Drawings         Europe        England   \n",
       "2       Drawings         Europe        England   \n",
       "3       Drawings         Europe        England   \n",
       "4       Drawings  North America  United States   \n",
       "\n",
       "                                          creditline culture         dated  \\\n",
       "0  Gift of Mrs. C. J. Martin, in memory of Charle...     NaN     c.1888-89   \n",
       "1  Gift of Mrs. C. J. Martin, in memory of Charle...     NaN    c. 1888-89   \n",
       "2  Gift of Mrs. C. J. Martin, in memory of Charle...     NaN    c. 1888-89   \n",
       "3  Gift of Mrs. C. J. Martin, in memory of Charle...     NaN    c. 1888-89   \n",
       "4                   Gift of Mrs. Florence M. Shirlaw     NaN  19th century   \n",
       "\n",
       "            department  id              life_date  \\\n",
       "0  Prints and Drawings   0   English, 1833 - 1911   \n",
       "1  Prints and Drawings   1   English, 1833 - 1911   \n",
       "2  Prints and Drawings   2   English, 1833 - 1911   \n",
       "3  Prints and Drawings   3   English, 1833 - 1911   \n",
       "4  Prints and Drawings   4  American, 1838 - 1909   \n",
       "\n",
       "                                      medium nationality object_name  \\\n",
       "0  Pen and ink, brush and wash over graphite     English     Drawing   \n",
       "1  Pen and ink, brush and wash over graphite     English     Drawing   \n",
       "2  Pen and ink, brush and wash over graphite     English     Drawing   \n",
       "3  Pen and ink, brush and wash over graphite     English     Drawing   \n",
       "4                                 Watercolor    American     Drawing   \n",
       "\n",
       "                                          provenance         room  \\\n",
       "0  [Art dealer, London, acquired from \"an old hou...  Not on View   \n",
       "1  [Art dealer, London, acquired from \"an old hou...  Not on View   \n",
       "2  [Art dealer, London, acquired from \"an old hou...         G352   \n",
       "3  [Art dealer, London, acquired from \"an old hou...  Not on View   \n",
       "4                                                NaN  Not on View   \n",
       "\n",
       "          style                                     title  \n",
       "0  19th century    Air, from the series The Four Elements  \n",
       "1  19th century  Earth, from the series The Four Elements  \n",
       "2  19th century   Fire, from the series The Four Elements  \n",
       "3  19th century  Water, from the series The Four Elements  \n",
       "4  19th century              Montana Indian Reservation I  "
      ]
     },
     "execution_count": 215,
     "metadata": {},
     "output_type": "execute_result"
    }
   ],
   "source": [
    "db = pd.read_csv(csv_file, index_col='Unnamed: 0')\n",
    "db.head()"
   ]
  },
  {
   "cell_type": "code",
   "execution_count": 216,
   "metadata": {},
   "outputs": [],
   "source": [
    "# strip \"P\" from prints & drawings\n",
    "db['accession_number'] = db['accession_number'].str.lstrip('P.')\n",
    "\n",
    "# split out first half of accession number\n",
    "db['accession_year'] = db['accession_number'].str.split('.', n=1, expand=True)[0]"
   ]
  },
  {
   "cell_type": "markdown",
   "metadata": {},
   "source": [
    "# Acession Number Cleaning\n",
    "\n",
    "### RBL/RB/X\n",
    "Adding columns for unknown accession letters"
   ]
  },
  {
   "cell_type": "code",
   "execution_count": 217,
   "metadata": {},
   "outputs": [],
   "source": [
    "# add 'RBL' column\n",
    "db['RBL'] = db['accession_year'].str.extract(r'(RBL)', expand=True)\n",
    "# add 'RB' column\n",
    "db['RB'] = db['accession_year'].str.extract(r'(RB)', expand=True)\n",
    "# add 'X' column\n",
    "db['X'] = db['accession_year'].str.extract(r'(^X)', expand=True)"
   ]
  },
  {
   "cell_type": "markdown",
   "metadata": {},
   "source": [
    "### L\n",
    "Adding column for loaned objects"
   ]
  },
  {
   "cell_type": "code",
   "execution_count": 218,
   "metadata": {},
   "outputs": [],
   "source": [
    "# add loan column\n",
    "db['loan'] = db['accession_year'].str.extract(r'(^L)', expand=True)"
   ]
  },
  {
   "cell_type": "markdown",
   "metadata": {},
   "source": [
    "Stripping letters from accession_year"
   ]
  },
  {
   "cell_type": "code",
   "execution_count": 222,
   "metadata": {},
   "outputs": [],
   "source": [
    "# strip 'RBL' from accession_year column (strips L, RB & RBL)\n",
    "db['accession_year'] = db['accession_year'].str.lstrip('RBL')\n",
    "\n",
    "# strip \"X\" from accession_year column\n",
    "db['accession_year'] = db['accession_year'].str.lstrip('X')"
   ]
  },
  {
   "cell_type": "markdown",
   "metadata": {},
   "source": [
    "# Cleaned Output\n",
    "Filter dataframe so only accession numbers with valid years are output into cleaned data"
   ]
  },
  {
   "cell_type": "code",
   "execution_count": 241,
   "metadata": {},
   "outputs": [],
   "source": [
    "# replace all empty cells with None\n",
    "db = db.replace('', None)"
   ]
  },
  {
   "cell_type": "code",
   "execution_count": 256,
   "metadata": {},
   "outputs": [],
   "source": [
    "# filter dataframe for accession years longer than 4 digits\n",
    "db_1 = db[db['accession_year'].map(lambda x: len(x) < 5)]\n",
    "db_2 = db[db['accession_year'].map(lambda x: len(x) > 4)]"
   ]
  },
  {
   "cell_type": "code",
   "execution_count": 262,
   "metadata": {},
   "outputs": [],
   "source": [
    "# Use groupby to filter out any accession years with less than two entries\n",
    "db_grouped = db_1.groupby('accession_year').filter(lambda x: len(x) > 2)\n",
    "db_remainder = db_1.groupby('accession_year').filter(lambda x: len(x) <= 2)"
   ]
  },
  {
   "cell_type": "code",
   "execution_count": 263,
   "metadata": {},
   "outputs": [
    {
     "data": {
      "text/plain": [
       "99      7718\n",
       "2013    4006\n",
       "2003    3731\n",
       "98      3551\n",
       "2007    3121\n",
       "2004    3066\n",
       "2002    2864\n",
       "96      2651\n",
       "2015    2625\n",
       "2001    2490\n",
       "2010    2356\n",
       "97      2307\n",
       "2005    2180\n",
       "74      2019\n",
       "95      1961\n",
       "2000    1957\n",
       "2017    1828\n",
       "2018    1771\n",
       "2014    1771\n",
       "2012    1771\n",
       "82      1682\n",
       "77      1677\n",
       "90      1672\n",
       "2016    1651\n",
       "2006    1625\n",
       "81      1581\n",
       "94      1469\n",
       "75      1361\n",
       "2008    1323\n",
       "47      1291\n",
       "        ... \n",
       "09       105\n",
       "16       104\n",
       "20       104\n",
       "29       101\n",
       "32        99\n",
       "43        92\n",
       "13        78\n",
       "22        63\n",
       "55        62\n",
       "36        60\n",
       "33        57\n",
       "59        57\n",
       "39        55\n",
       "49        48\n",
       "60        47\n",
       "57        46\n",
       "38        45\n",
       "18        37\n",
       "48        37\n",
       "53        37\n",
       "52        34\n",
       "19        30\n",
       "121       19\n",
       "234       12\n",
       "448       11\n",
       "10         6\n",
       "12         5\n",
       "p          5\n",
       "535        4\n",
       "11         3\n",
       "Name: accession_year, Length: 116, dtype: int64"
      ]
     },
     "execution_count": 263,
     "metadata": {},
     "output_type": "execute_result"
    }
   ],
   "source": [
    "db_grouped.accession_year.value_counts()"
   ]
  },
  {
   "cell_type": "code",
   "execution_count": 255,
   "metadata": {},
   "outputs": [
    {
     "data": {
      "text/plain": [
       "accession_number    21623\n",
       "artist              21623\n",
       "classification      21623\n",
       "continent           21623\n",
       "country             21623\n",
       "creditline          21623\n",
       "culture             21623\n",
       "dated               21623\n",
       "department          21623\n",
       "id                  21623\n",
       "life_date           21623\n",
       "medium              21623\n",
       "nationality         21623\n",
       "object_name         21623\n",
       "provenance          21623\n",
       "room                21623\n",
       "style               21623\n",
       "title               21623\n",
       "accession_year      21623\n",
       "RBL                 21623\n",
       "RB                  21623\n",
       "X                   21623\n",
       "loan                21623\n",
       "dtype: int64"
      ]
     },
     "execution_count": 255,
     "metadata": {},
     "output_type": "execute_result"
    }
   ],
   "source": [
    "db_remainder.count()"
   ]
  },
  {
   "cell_type": "code",
   "execution_count": null,
   "metadata": {},
   "outputs": [],
   "source": []
  }
 ],
 "metadata": {
  "kernelspec": {
   "display_name": "Python 3",
   "language": "python",
   "name": "python3"
  },
  "language_info": {
   "codemirror_mode": {
    "name": "ipython",
    "version": 3
   },
   "file_extension": ".py",
   "mimetype": "text/x-python",
   "name": "python",
   "nbconvert_exporter": "python",
   "pygments_lexer": "ipython3",
   "version": "3.6.8"
  }
 },
 "nbformat": 4,
 "nbformat_minor": 2
}
