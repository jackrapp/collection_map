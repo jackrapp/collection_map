{
 "cells": [
  {
   "cell_type": "code",
   "execution_count": 1,
   "metadata": {},
   "outputs": [],
   "source": [
    "import pandas as pd\n",
    "import numpy as np"
   ]
  },
  {
   "cell_type": "code",
   "execution_count": 2,
   "metadata": {},
   "outputs": [],
   "source": [
    "# read in cleaned accession data\n",
    "csv_file = 'resources/Mia_objects_accession_year.csv'"
   ]
  },
  {
   "cell_type": "code",
   "execution_count": 4,
   "metadata": {},
   "outputs": [
    {
     "data": {
      "text/html": [
       "<div>\n",
       "<style scoped>\n",
       "    .dataframe tbody tr th:only-of-type {\n",
       "        vertical-align: middle;\n",
       "    }\n",
       "\n",
       "    .dataframe tbody tr th {\n",
       "        vertical-align: top;\n",
       "    }\n",
       "\n",
       "    .dataframe thead th {\n",
       "        text-align: right;\n",
       "    }\n",
       "</style>\n",
       "<table border=\"1\" class=\"dataframe\">\n",
       "  <thead>\n",
       "    <tr style=\"text-align: right;\">\n",
       "      <th></th>\n",
       "      <th>accession_number</th>\n",
       "      <th>artist</th>\n",
       "      <th>classification</th>\n",
       "      <th>continent</th>\n",
       "      <th>country</th>\n",
       "      <th>creditline</th>\n",
       "      <th>culture</th>\n",
       "      <th>dated</th>\n",
       "      <th>department</th>\n",
       "      <th>id</th>\n",
       "      <th>...</th>\n",
       "      <th>object_name</th>\n",
       "      <th>provenance</th>\n",
       "      <th>room</th>\n",
       "      <th>style</th>\n",
       "      <th>title</th>\n",
       "      <th>RBL</th>\n",
       "      <th>RB</th>\n",
       "      <th>X</th>\n",
       "      <th>loan</th>\n",
       "      <th>accession_year</th>\n",
       "    </tr>\n",
       "  </thead>\n",
       "  <tbody>\n",
       "    <tr>\n",
       "      <th>0</th>\n",
       "      <td>10.1</td>\n",
       "      <td>Frederick G. Smith; Artist: Formerly attribute...</td>\n",
       "      <td>Drawings</td>\n",
       "      <td>Europe</td>\n",
       "      <td>England</td>\n",
       "      <td>Gift of Mrs. C. J. Martin, in memory of Charle...</td>\n",
       "      <td>NaN</td>\n",
       "      <td>c.1888-89</td>\n",
       "      <td>Prints and Drawings</td>\n",
       "      <td>0</td>\n",
       "      <td>...</td>\n",
       "      <td>Drawing</td>\n",
       "      <td>[Art dealer, London, acquired from \"an old hou...</td>\n",
       "      <td>Not on View</td>\n",
       "      <td>19th century</td>\n",
       "      <td>Air, from the series The Four Elements</td>\n",
       "      <td>NaN</td>\n",
       "      <td>NaN</td>\n",
       "      <td>NaN</td>\n",
       "      <td>NaN</td>\n",
       "      <td>10</td>\n",
       "    </tr>\n",
       "    <tr>\n",
       "      <th>1</th>\n",
       "      <td>10.2</td>\n",
       "      <td>Frederick G. Smith; Artist: Formerly attribute...</td>\n",
       "      <td>Drawings</td>\n",
       "      <td>Europe</td>\n",
       "      <td>England</td>\n",
       "      <td>Gift of Mrs. C. J. Martin, in memory of Charle...</td>\n",
       "      <td>NaN</td>\n",
       "      <td>c. 1888-89</td>\n",
       "      <td>Prints and Drawings</td>\n",
       "      <td>1</td>\n",
       "      <td>...</td>\n",
       "      <td>Drawing</td>\n",
       "      <td>[Art dealer, London, acquired from \"an old hou...</td>\n",
       "      <td>Not on View</td>\n",
       "      <td>19th century</td>\n",
       "      <td>Earth, from the series The Four Elements</td>\n",
       "      <td>NaN</td>\n",
       "      <td>NaN</td>\n",
       "      <td>NaN</td>\n",
       "      <td>NaN</td>\n",
       "      <td>10</td>\n",
       "    </tr>\n",
       "    <tr>\n",
       "      <th>2</th>\n",
       "      <td>10.3</td>\n",
       "      <td>Frederick G. Smith; Artist: Formerly attribute...</td>\n",
       "      <td>Drawings</td>\n",
       "      <td>Europe</td>\n",
       "      <td>England</td>\n",
       "      <td>Gift of Mrs. C. J. Martin, in memory of Charle...</td>\n",
       "      <td>NaN</td>\n",
       "      <td>c. 1888-89</td>\n",
       "      <td>Prints and Drawings</td>\n",
       "      <td>2</td>\n",
       "      <td>...</td>\n",
       "      <td>Drawing</td>\n",
       "      <td>[Art dealer, London, acquired from \"an old hou...</td>\n",
       "      <td>G352</td>\n",
       "      <td>19th century</td>\n",
       "      <td>Fire, from the series The Four Elements</td>\n",
       "      <td>NaN</td>\n",
       "      <td>NaN</td>\n",
       "      <td>NaN</td>\n",
       "      <td>NaN</td>\n",
       "      <td>10</td>\n",
       "    </tr>\n",
       "  </tbody>\n",
       "</table>\n",
       "<p>3 rows × 23 columns</p>\n",
       "</div>"
      ],
      "text/plain": [
       "  accession_number                                             artist  \\\n",
       "0             10.1  Frederick G. Smith; Artist: Formerly attribute...   \n",
       "1             10.2  Frederick G. Smith; Artist: Formerly attribute...   \n",
       "2             10.3  Frederick G. Smith; Artist: Formerly attribute...   \n",
       "\n",
       "  classification continent  country  \\\n",
       "0       Drawings    Europe  England   \n",
       "1       Drawings    Europe  England   \n",
       "2       Drawings    Europe  England   \n",
       "\n",
       "                                          creditline culture       dated  \\\n",
       "0  Gift of Mrs. C. J. Martin, in memory of Charle...     NaN   c.1888-89   \n",
       "1  Gift of Mrs. C. J. Martin, in memory of Charle...     NaN  c. 1888-89   \n",
       "2  Gift of Mrs. C. J. Martin, in memory of Charle...     NaN  c. 1888-89   \n",
       "\n",
       "            department  id      ...       object_name  \\\n",
       "0  Prints and Drawings   0      ...           Drawing   \n",
       "1  Prints and Drawings   1      ...           Drawing   \n",
       "2  Prints and Drawings   2      ...           Drawing   \n",
       "\n",
       "                                          provenance         room  \\\n",
       "0  [Art dealer, London, acquired from \"an old hou...  Not on View   \n",
       "1  [Art dealer, London, acquired from \"an old hou...  Not on View   \n",
       "2  [Art dealer, London, acquired from \"an old hou...         G352   \n",
       "\n",
       "          style                                     title  RBL   RB    X loan  \\\n",
       "0  19th century    Air, from the series The Four Elements  NaN  NaN  NaN  NaN   \n",
       "1  19th century  Earth, from the series The Four Elements  NaN  NaN  NaN  NaN   \n",
       "2  19th century   Fire, from the series The Four Elements  NaN  NaN  NaN  NaN   \n",
       "\n",
       "  accession_year  \n",
       "0             10  \n",
       "1             10  \n",
       "2             10  \n",
       "\n",
       "[3 rows x 23 columns]"
      ]
     },
     "execution_count": 4,
     "metadata": {},
     "output_type": "execute_result"
    }
   ],
   "source": [
    "df = pd.read_csv(csv_file, index_col='Unnamed: 0', low_memory=False)\n",
    "df.head(3)"
   ]
  },
  {
   "cell_type": "markdown",
   "metadata": {},
   "source": [
    "## Fix Typos in Country Data\n",
    "There are 505 country entries, most of which are only 1-2 long.\n",
    "* Pull out list of unique country names, sort alphabetically\n",
    "* Fix typos and formatting differences\n",
    "* For cultures or countries that do not exist:\n",
    "    * Change to modern country if possible\n",
    "    * Add province or older country name to culture tab\n",
    "* Will pull data into Tableau and further edit if necessary"
   ]
  },
  {
   "cell_type": "code",
   "execution_count": 5,
   "metadata": {},
   "outputs": [],
   "source": [
    "# add column for cleaned country data\n",
    "    # strip any trailing commas and standardize punctuation in the process\n",
    "df['country_cleaned'] = df['country'].str.rstrip('')\n",
    "df['country_cleaned'] = df['country_cleaned'].str.title()\n",
    "\n",
    "# add column for country status, default value \"clear\"\n",
    "df['country_status'] = 'clear'\n",
    "\n",
    "# build dictionary to hold country status information (multiple, (?) values)\n",
    "status_dict = {}"
   ]
  },
  {
   "cell_type": "code",
   "execution_count": 6,
   "metadata": {},
   "outputs": [],
   "source": [
    "# Pull out countries\n",
    "countries = df.country_cleaned.unique().astype(str)\n",
    "country_list = countries.tolist()"
   ]
  },
  {
   "cell_type": "code",
   "execution_count": 7,
   "metadata": {},
   "outputs": [
    {
     "data": {
      "text/plain": [
       "['Admiralty Islands',\n",
       " 'Afghanistan',\n",
       " 'Afghanistan Or Pakistan',\n",
       " 'Afghanistan Or Uzbekistan',\n",
       " 'Africa',\n",
       " 'Albania',\n",
       " 'Algeria',\n",
       " 'Algeria, Mali, Or Niger',\n",
       " 'American',\n",
       " 'Anatolia',\n",
       " 'Angola',\n",
       " 'Angola / Drc',\n",
       " 'Angola Or Democratic Republic Of Congo',\n",
       " 'Angola Or Democratic Republic Of The Congo',\n",
       " 'Angola, Zambia Or Democratic Republic Of Congo']"
      ]
     },
     "execution_count": 7,
     "metadata": {},
     "output_type": "execute_result"
    }
   ],
   "source": [
    "# Alphabetize list to go through\n",
    "country_list.sort()\n",
    "country_list[0:15]"
   ]
  },
  {
   "cell_type": "code",
   "execution_count": 8,
   "metadata": {
    "scrolled": true
   },
   "outputs": [],
   "source": [
    "# Replaced country names for countries A-B\n",
    "df.replace({'country_cleaned' : ['Angola / Drc', 'Angola Or Democratic Republic Of Congo',\n",
    "                                 'Democratic Republic Of Congo Or Angola'\n",
    "                                ]}, 'Angola Or Democratic Republic Of The Congo', inplace=True)\n",
    "\n",
    "status_dict.update(dict.fromkeys(['Afghanistan Or Pakistan', 'Afghanistan Or Uzbekistan',\n",
    "            'Algeria, Mali, Or Niger', 'Angola Or Democratic Republic Of The Congo',\n",
    "            'Angola, Zambia Or Democratic Republic Of Congo', 'Armenia Or Syria',\n",
    "            'Austria Or Germany'], 'unclear_multiple'))\n",
    "status_dict['Austria (?)'] = 'unclear_possible'\n",
    "\n",
    "df.replace({'country_cleaned' : 'Balkan'}, 'Balkans', inplace=True)\n",
    "df.loc[(df['country'] == 'Belgium (Flanders)'), 'culture'] = \"Flanders\"\n",
    "df.replace({'country_cleaned' : 'Belgium (Flanders)'}, 'Belgium', inplace=True)\n",
    "df.loc[(df['country'] == 'Bokhara'), 'culture'] = \"Bukhara\"\n",
    "df.loc[(df['country'] == 'Bukhara'), 'culture'] = \"Bukhara\"\n",
    "df.replace({'country_cleaned' : 'East Bali'}, 'Bali', inplace=True)\n",
    "\n",
    "status_dict.update(dict.fromkeys(['Belgium Or France', 'Burkina Faso Or Côte D’Ivoire',\n",
    "                                 'Burkina Faso Or Mali'], 'unclear_multiple'))\n",
    "status_dict['Bohemia (?)'] = 'unclear_possible'\n"
   ]
  },
  {
   "cell_type": "code",
   "execution_count": 9,
   "metadata": {},
   "outputs": [],
   "source": [
    "# Replaced country names for countries C-D\n",
    "df.replace({'country_cleaned' : 'Chinese Export'}, 'China', inplace=True)\n",
    "df.replace({'country_cleaned' : 'Chinese Export (?)'}, 'China (?)', inplace=True)\n",
    "df.replace({'country_cleaned' : \"Côte D'Ivoire\"}, \"Cote D'Ivoire\", inplace=True)\n",
    "\n",
    "status_dict.update(dict.fromkeys(['Cambodia Or Thailand', 'China Or India', 'Costa Rica Or Panama',\n",
    "            \"Côte D'Ivoire Or Liberia\", \"Côte D'Ivoire Or Mali\"], 'unclear_multiple'))\n",
    "status_dict.update(dict.fromkeys(['Cameroon(?)', 'China (?)', 'Czech Republic (?)', \n",
    "            'Czechoslovakia (?)'], 'unclear_possible'))\n",
    "\n",
    "df.loc[(df['country'] == 'Dagestan'), 'culture'] = \"Dagestan\"\n",
    "df.replace({'country_cleaned' : 'Democratic Republic Of Congo'}, \n",
    "           'Democratic Republic Of The Congo', inplace=True)\n",
    "df.replace({'country_cleaned' : 'Democratic Republic Of Congo (?)'}, \n",
    "           'Democratic Republic Of The Congo (?)', inplace=True)\n",
    "\n",
    "status_dict.update(dict.fromkeys(['Democratic Republic Of The Congo Or Central African Republic',\n",
    "            'Denmark England', 'Denmark Or Belgium ?', 'Denmark Or Sweden'], 'unclear_multiple'))\n",
    "status_dict.update(dict.fromkeys(['Democratic Republic Of The Congo (?)', 'Denmark (?)',\n",
    "            'Dutch Republic(?)'], 'unclear_possible'))\n"
   ]
  },
  {
   "cell_type": "code",
   "execution_count": null,
   "metadata": {},
   "outputs": [],
   "source": [
    "# Replaced country names for countries E-F\n",
    "df.replace({'country_cleaned' : 'Egnland Or America'}, 'England Or American', inplace=True)\n",
    "df.replace({'country_cleaned' : 'Engalnd'}, 'England', inplace=True)\n",
    "df.replace({'country_cleaned' : ['England (Possibly)', 'England (Probably)']}, 'England (?)', inplace=True)\n",
    "df.replace({'country_cleaned' : 'England Or Netherlands'}, 'England Or The Netherlands', inplace=True)\n",
    "\n",
    "status_dict.update(dict.fromkeys(['East Germany-Austria-Hungary','Egypt Or Mesopotamia',\n",
    "            'Egypt Or Syria','England And Switzerland','England And United States',\n",
    "            'England Or American', 'England Or France', 'England Or Hungary (?)', \n",
    "            'England Or Ireland','England Or The Netherlands','England Or United States',\n",
    "            'Ethiopia Or Kenya'\n",
    "            ], 'unclear_multiple'))\n",
    "status_dict.update(dict.fromkeys(['Egypt (?)','England (?)'], 'unclear_possible'))\n",
    "\n",
    "df.replace({'country_cleaned' : 'Fiji Islands'}, 'Fiji', inplace=True)\n",
    "df.loc[(df['country'] == 'Flanders (And Italy)'), 'culture'] = \"Flanders\"\n",
    "df.loc[(df['country'] == 'Flanders (And Italy)'), 'culture'] = \"Flanders\"\n",
    "df.replace({'country_cleaned' : 'Flanders (And Italy)'}, 'Belgium', inplace=True)\n",
    "\n",
    "status_dict.update(dict.fromkeys(['Fiji, Tonga, Or Samoa Islands',\n",
    "            'Flanders Or France'\n",
    "            ], 'unclear_multiple'))\n",
    "status_dict.update(dict.fromkeys([], 'unclear_possible'))\n",
    "\n",
    "df.replace({'country_cleaned' : 'East Germany'}, 'Germany', inplace=True)\n",
    "\n",
    "df.replace({'country_cleaned' : 'Flanders (And Italy)'}, 'Italy', inplace=True)\n",
    "\n",
    "\n",
    " 'Fakara Lamedi',\n",
    " 'Fiji',\n",
    " 'Finland',\n",
    " 'Flanders',\n",
    " 'Flanders, Europe',\n",
    " 'Flanders/Belgium',\n",
    " 'Flemish',\n",
    " 'France',\n",
    " 'France & Germany',\n",
    " 'France (?)',\n",
    " 'France (And England)',\n",
    " 'France (Northern), Flanders Or Holland',\n",
    " 'France / Austria',\n",
    " 'France / Belgium',\n",
    " 'France And Belgium',\n",
    " 'France And Switzerland',\n",
    " 'France Or Belgium',\n",
    " 'France Or England',\n",
    " 'France Or Flanders',\n",
    " 'France Or Italy',\n",
    " 'France Or Switzerland',\n",
    " 'France Or United States',\n",
    " 'France Or United States Or England',\n",
    " 'France, Switzerland And London, England',\n",
    " 'France/Germany',\n",
    " 'France?',\n",
    " 'French Or Italian',"
   ]
  },
  {
   "cell_type": "code",
   "execution_count": null,
   "metadata": {},
   "outputs": [],
   "source": [
    "# Replaced country names for countries N-\n",
    "df.replace({'country_cleaned' : 'Aotearoa (New Zealand)'}, 'New Zeleand', inplace=True)\n",
    "\n",
    "# Replaced country names for countries R-S\n",
    "df.replace({'country_cleaned' : 'Dagestan'}, 'Russia', inplace=True)\n",
    "\n",
    "# Replaced country names for countries T-U\n",
    "df.replace({'country_cleaned' : 'Central Thailand'}, 'Thailand', inplace=True)\n",
    "df.replace({'country_cleaned' : ['Bokhara', 'Bukhara']}, 'Uzbekistan', inplace=True)"
   ]
  },
  {
   "cell_type": "code",
   "execution_count": 10,
   "metadata": {},
   "outputs": [
    {
     "data": {
      "text/plain": [
       "{'Afghanistan Or Pakistan': 'unclear_multiple',\n",
       " 'Afghanistan Or Uzbekistan': 'unclear_multiple',\n",
       " 'Algeria, Mali, Or Niger': 'unclear_multiple',\n",
       " 'Angola Or Democratic Republic Of The Congo': 'unclear_multiple',\n",
       " 'Angola, Zambia Or Democratic Republic Of Congo': 'unclear_multiple',\n",
       " 'Armenia Or Syria': 'unclear_multiple',\n",
       " 'Austria Or Germany': 'unclear_multiple',\n",
       " 'Austria (?)': 'unclear_possible',\n",
       " 'Belgium Or France': 'unclear_multiple',\n",
       " 'Burkina Faso Or Côte D’Ivoire': 'unclear_multiple',\n",
       " 'Burkina Faso Or Mali': 'unclear_multiple',\n",
       " 'Bohemia (?)': 'unclear_possible',\n",
       " 'Cambodia Or Thailand': 'unclear_multiple',\n",
       " 'China Or India': 'unclear_multiple',\n",
       " 'Costa Rica Or Panama': 'unclear_multiple',\n",
       " \"Côte D'Ivoire Or Liberia\": 'unclear_multiple',\n",
       " \"Côte D'Ivoire Or Mali\": 'unclear_multiple',\n",
       " 'Cameroon(?)': 'unclear_possible',\n",
       " 'China (?)': 'unclear_possible',\n",
       " 'Czech Republic (?)': 'unclear_possible',\n",
       " 'Czechoslovakia (?)': 'unclear_possible',\n",
       " 'Democratic Republic Of The Congo Or Central African Republic': 'unclear_multiple',\n",
       " 'Denmark England': 'unclear_multiple',\n",
       " 'Denmark Or Belgium ?': 'unclear_multiple',\n",
       " 'Denmark Or Sweden': 'unclear_multiple',\n",
       " 'Democratic Republic Of The Congo (?)': 'unclear_possible',\n",
       " 'Denmark (?)': 'unclear_possible',\n",
       " 'Dutch Republic(?)': 'unclear_possible'}"
      ]
     },
     "execution_count": 10,
     "metadata": {},
     "output_type": "execute_result"
    }
   ],
   "source": [
    "status_dict"
   ]
  },
  {
   "cell_type": "code",
   "execution_count": 17,
   "metadata": {},
   "outputs": [
    {
     "data": {
      "text/html": [
       "<div>\n",
       "<style scoped>\n",
       "    .dataframe tbody tr th:only-of-type {\n",
       "        vertical-align: middle;\n",
       "    }\n",
       "\n",
       "    .dataframe tbody tr th {\n",
       "        vertical-align: top;\n",
       "    }\n",
       "\n",
       "    .dataframe thead th {\n",
       "        text-align: right;\n",
       "    }\n",
       "</style>\n",
       "<table border=\"1\" class=\"dataframe\">\n",
       "  <thead>\n",
       "    <tr style=\"text-align: right;\">\n",
       "      <th></th>\n",
       "      <th>accession_number</th>\n",
       "      <th>artist</th>\n",
       "      <th>classification</th>\n",
       "      <th>continent</th>\n",
       "      <th>country</th>\n",
       "      <th>creditline</th>\n",
       "      <th>culture</th>\n",
       "      <th>dated</th>\n",
       "      <th>department</th>\n",
       "      <th>id</th>\n",
       "      <th>...</th>\n",
       "      <th>room</th>\n",
       "      <th>style</th>\n",
       "      <th>title</th>\n",
       "      <th>RBL</th>\n",
       "      <th>RB</th>\n",
       "      <th>X</th>\n",
       "      <th>loan</th>\n",
       "      <th>accession_year</th>\n",
       "      <th>country_cleaned</th>\n",
       "      <th>country_status</th>\n",
       "    </tr>\n",
       "  </thead>\n",
       "  <tbody>\n",
       "    <tr>\n",
       "      <th>99154</th>\n",
       "      <td>30.1</td>\n",
       "      <td>Author: Thomas a Kempis; Publisher: Henry Iaye</td>\n",
       "      <td>Books</td>\n",
       "      <td>NaN</td>\n",
       "      <td>Flanders, Europe</td>\n",
       "      <td>39.46\\r\\nGift of Mrs. John Washburn</td>\n",
       "      <td>NaN</td>\n",
       "      <td>1616</td>\n",
       "      <td>Prints and Drawings</td>\n",
       "      <td>103102</td>\n",
       "      <td>...</td>\n",
       "      <td>Not on View</td>\n",
       "      <td>17th century</td>\n",
       "      <td>The Following of Christ</td>\n",
       "      <td>NaN</td>\n",
       "      <td>NaN</td>\n",
       "      <td>NaN</td>\n",
       "      <td>NaN</td>\n",
       "      <td>30</td>\n",
       "      <td>Flanders, Europe</td>\n",
       "      <td>clear</td>\n",
       "    </tr>\n",
       "  </tbody>\n",
       "</table>\n",
       "<p>1 rows × 25 columns</p>\n",
       "</div>"
      ],
      "text/plain": [
       "      accession_number                                          artist  \\\n",
       "99154             30.1  Author: Thomas a Kempis; Publisher: Henry Iaye   \n",
       "\n",
       "      classification continent           country  \\\n",
       "99154          Books       NaN  Flanders, Europe   \n",
       "\n",
       "                                creditline culture dated           department  \\\n",
       "99154  39.46\\r\\nGift of Mrs. John Washburn     NaN  1616  Prints and Drawings   \n",
       "\n",
       "           id      ...               room         style  \\\n",
       "99154  103102      ...        Not on View  17th century   \n",
       "\n",
       "                         title  RBL   RB    X loan accession_year  \\\n",
       "99154  The Following of Christ  NaN  NaN  NaN  NaN             30   \n",
       "\n",
       "        country_cleaned country_status  \n",
       "99154  Flanders, Europe          clear  \n",
       "\n",
       "[1 rows x 25 columns]"
      ]
     },
     "execution_count": 17,
     "metadata": {},
     "output_type": "execute_result"
    }
   ],
   "source": [
    "test = df[df['country_cleaned']=='Flanders, Europe']\n",
    "test\n",
    "# df.loc[(df['creditline'] == 'The Miscellaneous Works of Art Purchase Fund, 1952 (2nd Biennial)'), \n",
    "#             'accession_year'] = '52'"
   ]
  },
  {
   "cell_type": "code",
   "execution_count": 138,
   "metadata": {},
   "outputs": [
    {
     "data": {
      "text/plain": [
       "array(['clear', 'unclear_multiple', 'unclear_possible'], dtype=object)"
      ]
     },
     "execution_count": 138,
     "metadata": {},
     "output_type": "execute_result"
    }
   ],
   "source": [
    "# Use dictionary to update and add \"country_status\" column to filter out data\n",
    "df['country_status'] = df['country_cleaned'].map(status_dict).fillna(df['country_status'])\n",
    "df.country_status.unique()"
   ]
  },
  {
   "cell_type": "markdown",
   "metadata": {},
   "source": [
    "## Tableau Country Names\n",
    "Pulled data frame into Tableau and found 311 non country identified data, using the following steps the countries Tableau didn't recognize were fixed (unclear data was not changed - e.g. 'India or China')\n",
    "* Make test output file and read into Tableau\n",
    "* Pull up unknown values from bottom corner of map, and update if possible\n",
    "    * Created a new column for just Tableau values\n",
    "    * Changed country name values to modern country if possible, updated culture with any extraneous values\n",
    "* Divide by alphabet to help keep track of changes"
   ]
  },
  {
   "cell_type": "code",
   "execution_count": null,
   "metadata": {},
   "outputs": [],
   "source": [
    "df['tableau_country'] = df['country_cleaned']"
   ]
  },
  {
   "cell_type": "code",
   "execution_count": 6,
   "metadata": {},
   "outputs": [],
   "source": [
    "# Replaced country values for countries A-C\n",
    "df.replace({'tableau_country' : ['Flanders/Belgium', 'Flemish', 'Flanders']},'Belgium', inplace=True)\n",
    "df.replace({'tableau_country' : 'Dahomey'}, 'Benin', inplace=True)\n",
    "df.replace({'tableau_country' : 'Rapa Nui (Easter Island)'}, 'Chile', inplace=True)\n",
    "df.replace({'tableau_country' : ['Jingdezhen, China', 'Southern China'\n",
    "                                ]}, 'China', inplace=True)\n",
    "df.replace({'tableau_country' : 'Bohemia'}, 'Czechia', inplace=True)\n"
   ]
  },
  {
   "cell_type": "code",
   "execution_count": 7,
   "metadata": {},
   "outputs": [],
   "source": [
    "# Replaced country values for countries F-G\n",
    "df.replace({'tableau_country' : ['Limoges','Lorraine']}, 'France', inplace=True)\n",
    "df.replace({'tableau_country' : ['Austral Islands', 'Marquesas Islands', 'Society Islands'\n",
    "                                ]}, 'French Polynesia', inplace=True)\n",
    "df.replace({'tableau_country' : ['Germany (Saxony)', 'West Germany', 'Bavaria',\n",
    "                                'Germany, Europe', 'Germany (Prussia)', 'Southern Germany'\n",
    "                                ]},'Germany', inplace=True)\n",
    "df.replace({'tableau_country' : ['Greek Islands', 'Greek']}, 'Greece', inplace=True)\n",
    "df.replace({'tableau_country' : 'Guatamala'}, 'Guatemala', inplace=True)\n"
   ]
  },
  {
   "cell_type": "code",
   "execution_count": 8,
   "metadata": {},
   "outputs": [],
   "source": [
    "# Replaced country values for countries I-K\n",
    "df.replace({'tableau_country' : 'Indian Export'}, 'India', inplace=True)\n",
    "df.replace({'tableau_country' : ['Bali', 'Java','Kalimanta','Lombok Island',\n",
    "                                'Papua']}, 'Indonesia', inplace=True)\n",
    "df.replace({'tableau_country' : ['Persia (Iran)', 'Luristan, Persia', 'Iran (Persia)',\n",
    "                                'Iran (Persia (Khourvin))']}, 'Iran', inplace=True)\n",
    "df.replace({'tableau_country' : ['Babylon','Mesopotamia (Iraq)', 'Sumeria (Iraq)'\n",
    "                                ]}, 'Iraq', inplace=True)\n",
    "df.replace({'tableau_country' : ['Italy Or Sicily', 'Sicily', 'Itlay', 'Etruria', 'Italy, Ancient Etruria',\n",
    "                                'Italy Or Sardinia', 'Italy Or Sardina', 'Italy or Sicily',\n",
    "                                'Italy (Siculo-Campanian)', 'Northern Italy', 'Sardinia',\n",
    "                                'Sardinia Or Italy', 'Sicily Or Italy', 'Venice Or Padua, Italy'\n",
    "                                ]}, 'Italy', inplace=True)"
   ]
  },
  {
   "cell_type": "code",
   "execution_count": 9,
   "metadata": {},
   "outputs": [],
   "source": [
    "# Replaced country values for countries L-P\n",
    "df.replace({'tableau_country' : 'Northwest Laos'}, 'Laos', inplace=True)\n",
    "df.replace({'tableau_country' : ['Southeastern Mexico', 'Tarascan']}, 'Mexico', inplace=True)\n",
    "df.replace({'tableau_country' : ['The Netherlands', 'Nehterlands','Netherlands/Flanders'\n",
    "                                ]}, 'Netherlands', inplace=True)\n",
    "df.replace({'tableau_country' : ['New Zeleand']}, 'New Zealand', inplace=True)\n",
    "df.replace({'tableau_country' : 'Fakara Lamedi'}, 'Niger', inplace=True)\n",
    "df.replace({'tableau_country' : 'North Nigeria'}, 'Nigeria', inplace=True)\n",
    "df.replace({'tableau_country' : ['Admiralty Islands', 'New Ireland']}, 'Papua New Guinea', inplace=True)\n",
    "df.replace({'tableau_country' : 'Philippine Islands'}, 'Philippines', inplace=True)\n"
   ]
  },
  {
   "cell_type": "code",
   "execution_count": 10,
   "metadata": {},
   "outputs": [],
   "source": [
    "# Replaced country values for countries Q-S\n",
    "df.replace({'tableau_country' : ['Syberia']}, 'Russia', inplace=True)\n",
    "df.replace({'tableau_country' : 'Korea'}, 'South Korea', inplace=True)\n",
    "df.replace({'tableau_country' : ['Canary Islands', 'Hispano-Moorish']}, 'Spain', inplace=True)\n",
    "df.replace({'tableau_country' : 'Dutch Guiana (Suriname)'}, 'Suriname', inplace=True)\n"
   ]
  },
  {
   "cell_type": "code",
   "execution_count": 11,
   "metadata": {},
   "outputs": [],
   "source": [
    "# Replaced country values for countries T-Z\n",
    "df.replace({'tableau_country' : ['Siam','Northern Thailand'\n",
    "                                ]}, 'Thailand', inplace=True)\n",
    "df.replace({'tableau_country' : 'Tonga Islands'}, 'Tonga', inplace=True)\n",
    "df.replace({'tableau_country' : 'Anatolia'}, 'Turkey', inplace=True)\n",
    "df.replace({'tableau_country' : ['England', 'Scotland', 'Engalnd', 'Great Britain',\n",
    "                                 'Northern Ireland', 'Scotland And England', 'Wales'\n",
    "                                ]}, 'United Kingdom', inplace=True)\n",
    "df.replace({'tableau_country' : ['New England, United States', 'Unted States'\n",
    "                                ]}, 'United States', inplace=True)\n",
    "df.replace({'tableau_country' : [\"Qoraqalpog'Iston / Uzbekistan\", \n",
    "                                 \"Qoraqalpog'Iston\", 'Uzbekestan']}, 'Uzbekistan', inplace=True)\n",
    "df.replace({'tableau_country' : 'Banks Islands'}, 'Vanuatu', inplace=True)\n",
    "df.replace({'tableau_country' : 'Northern Vietnam'}, 'Vietnam', inplace=True)\n"
   ]
  },
  {
   "cell_type": "code",
   "execution_count": 17,
   "metadata": {},
   "outputs": [],
   "source": [
    "# Historical countries with multiple current countries or cultures that span two countries:\n",
    "# Arabia, Austro_hungarian Empire, Balkans, Borneo, Czechoslovakia, Flanders (Europe)\n",
    "## Graeco-Roman, Khmer, Kurdistan, Mesopotamia, Micronesian Islands, New Guinea\n",
    "## Nubia, Ottoman Empire, Persia, Ptolemaic Egypt, Roman, Tibet, Yugoslavia"
   ]
  },
  {
   "cell_type": "code",
   "execution_count": 18,
   "metadata": {},
   "outputs": [],
   "source": [
    "# New file for visualizations from objects with updated country names\n",
    "output_datafile = 'resources/Mia_objects_country.csv'\n",
    "df.to_csv(output_datafile, encoding='utf-8')"
   ]
  },
  {
   "cell_type": "code",
   "execution_count": null,
   "metadata": {},
   "outputs": [],
   "source": []
  }
 ],
 "metadata": {
  "kernelspec": {
   "display_name": "Python 3",
   "language": "python",
   "name": "python3"
  },
  "language_info": {
   "codemirror_mode": {
    "name": "ipython",
    "version": 3
   },
   "file_extension": ".py",
   "mimetype": "text/x-python",
   "name": "python",
   "nbconvert_exporter": "python",
   "pygments_lexer": "ipython3",
   "version": "3.6.8"
  }
 },
 "nbformat": 4,
 "nbformat_minor": 2
}
