{
 "cells": [
  {
   "cell_type": "code",
   "execution_count": 1,
   "metadata": {},
   "outputs": [],
   "source": [
    "import pandas as pd\n",
    "import numpy as np\n",
    "import matplotlib.pyplot as plt"
   ]
  },
  {
   "cell_type": "code",
   "execution_count": 2,
   "metadata": {},
   "outputs": [
    {
     "name": "stderr",
     "output_type": "stream",
     "text": [
      "/anaconda3/envs/PythonData/lib/python3.6/site-packages/IPython/core/interactiveshell.py:2785: DtypeWarning: Columns (19,20,21) have mixed types. Specify dtype option on import or set low_memory=False.\n",
      "  interactivity=interactivity, compiler=compiler, result=result)\n"
     ]
    },
    {
     "data": {
      "text/html": [
       "<div>\n",
       "<style scoped>\n",
       "    .dataframe tbody tr th:only-of-type {\n",
       "        vertical-align: middle;\n",
       "    }\n",
       "\n",
       "    .dataframe tbody tr th {\n",
       "        vertical-align: top;\n",
       "    }\n",
       "\n",
       "    .dataframe thead th {\n",
       "        text-align: right;\n",
       "    }\n",
       "</style>\n",
       "<table border=\"1\" class=\"dataframe\">\n",
       "  <thead>\n",
       "    <tr style=\"text-align: right;\">\n",
       "      <th></th>\n",
       "      <th>accession_number</th>\n",
       "      <th>artist</th>\n",
       "      <th>classification</th>\n",
       "      <th>continent</th>\n",
       "      <th>country</th>\n",
       "      <th>creditline</th>\n",
       "      <th>culture</th>\n",
       "      <th>dated</th>\n",
       "      <th>department</th>\n",
       "      <th>id</th>\n",
       "      <th>...</th>\n",
       "      <th>provenance</th>\n",
       "      <th>room</th>\n",
       "      <th>style</th>\n",
       "      <th>title</th>\n",
       "      <th>RBL</th>\n",
       "      <th>RB</th>\n",
       "      <th>X</th>\n",
       "      <th>loan</th>\n",
       "      <th>accession_year</th>\n",
       "      <th>tableau_country</th>\n",
       "    </tr>\n",
       "  </thead>\n",
       "  <tbody>\n",
       "    <tr>\n",
       "      <th>0</th>\n",
       "      <td>10.1</td>\n",
       "      <td>Frederick G. Smith; Artist: Formerly attribute...</td>\n",
       "      <td>Drawings</td>\n",
       "      <td>Europe</td>\n",
       "      <td>England</td>\n",
       "      <td>Gift of Mrs. C. J. Martin, in memory of Charle...</td>\n",
       "      <td>NaN</td>\n",
       "      <td>c.1888-89</td>\n",
       "      <td>Prints and Drawings</td>\n",
       "      <td>0</td>\n",
       "      <td>...</td>\n",
       "      <td>[Art dealer, London, acquired from \"an old hou...</td>\n",
       "      <td>Not on View</td>\n",
       "      <td>19th century</td>\n",
       "      <td>Air, from the series The Four Elements</td>\n",
       "      <td>NaN</td>\n",
       "      <td>NaN</td>\n",
       "      <td>NaN</td>\n",
       "      <td>NaN</td>\n",
       "      <td>10</td>\n",
       "      <td>United Kingdom</td>\n",
       "    </tr>\n",
       "    <tr>\n",
       "      <th>1</th>\n",
       "      <td>10.2</td>\n",
       "      <td>Frederick G. Smith; Artist: Formerly attribute...</td>\n",
       "      <td>Drawings</td>\n",
       "      <td>Europe</td>\n",
       "      <td>England</td>\n",
       "      <td>Gift of Mrs. C. J. Martin, in memory of Charle...</td>\n",
       "      <td>NaN</td>\n",
       "      <td>c. 1888-89</td>\n",
       "      <td>Prints and Drawings</td>\n",
       "      <td>1</td>\n",
       "      <td>...</td>\n",
       "      <td>[Art dealer, London, acquired from \"an old hou...</td>\n",
       "      <td>Not on View</td>\n",
       "      <td>19th century</td>\n",
       "      <td>Earth, from the series The Four Elements</td>\n",
       "      <td>NaN</td>\n",
       "      <td>NaN</td>\n",
       "      <td>NaN</td>\n",
       "      <td>NaN</td>\n",
       "      <td>10</td>\n",
       "      <td>United Kingdom</td>\n",
       "    </tr>\n",
       "    <tr>\n",
       "      <th>2</th>\n",
       "      <td>10.3</td>\n",
       "      <td>Frederick G. Smith; Artist: Formerly attribute...</td>\n",
       "      <td>Drawings</td>\n",
       "      <td>Europe</td>\n",
       "      <td>England</td>\n",
       "      <td>Gift of Mrs. C. J. Martin, in memory of Charle...</td>\n",
       "      <td>NaN</td>\n",
       "      <td>c. 1888-89</td>\n",
       "      <td>Prints and Drawings</td>\n",
       "      <td>2</td>\n",
       "      <td>...</td>\n",
       "      <td>[Art dealer, London, acquired from \"an old hou...</td>\n",
       "      <td>G352</td>\n",
       "      <td>19th century</td>\n",
       "      <td>Fire, from the series The Four Elements</td>\n",
       "      <td>NaN</td>\n",
       "      <td>NaN</td>\n",
       "      <td>NaN</td>\n",
       "      <td>NaN</td>\n",
       "      <td>10</td>\n",
       "      <td>United Kingdom</td>\n",
       "    </tr>\n",
       "    <tr>\n",
       "      <th>3</th>\n",
       "      <td>10.4</td>\n",
       "      <td>Frederick G. Smith; Artist: Formerly attribute...</td>\n",
       "      <td>Drawings</td>\n",
       "      <td>Europe</td>\n",
       "      <td>England</td>\n",
       "      <td>Gift of Mrs. C. J. Martin, in memory of Charle...</td>\n",
       "      <td>NaN</td>\n",
       "      <td>c. 1888-89</td>\n",
       "      <td>Prints and Drawings</td>\n",
       "      <td>3</td>\n",
       "      <td>...</td>\n",
       "      <td>[Art dealer, London, acquired from \"an old hou...</td>\n",
       "      <td>Not on View</td>\n",
       "      <td>19th century</td>\n",
       "      <td>Water, from the series The Four Elements</td>\n",
       "      <td>NaN</td>\n",
       "      <td>NaN</td>\n",
       "      <td>NaN</td>\n",
       "      <td>NaN</td>\n",
       "      <td>10</td>\n",
       "      <td>United Kingdom</td>\n",
       "    </tr>\n",
       "    <tr>\n",
       "      <th>4</th>\n",
       "      <td>13.29</td>\n",
       "      <td>Walter Shirlaw</td>\n",
       "      <td>Drawings</td>\n",
       "      <td>North America</td>\n",
       "      <td>United States</td>\n",
       "      <td>Gift of Mrs. Florence M. Shirlaw</td>\n",
       "      <td>NaN</td>\n",
       "      <td>19th century</td>\n",
       "      <td>Prints and Drawings</td>\n",
       "      <td>4</td>\n",
       "      <td>...</td>\n",
       "      <td>NaN</td>\n",
       "      <td>Not on View</td>\n",
       "      <td>19th century</td>\n",
       "      <td>Montana Indian Reservation I</td>\n",
       "      <td>NaN</td>\n",
       "      <td>NaN</td>\n",
       "      <td>NaN</td>\n",
       "      <td>NaN</td>\n",
       "      <td>13</td>\n",
       "      <td>United States</td>\n",
       "    </tr>\n",
       "  </tbody>\n",
       "</table>\n",
       "<p>5 rows × 24 columns</p>\n",
       "</div>"
      ],
      "text/plain": [
       "  accession_number                                             artist  \\\n",
       "0             10.1  Frederick G. Smith; Artist: Formerly attribute...   \n",
       "1             10.2  Frederick G. Smith; Artist: Formerly attribute...   \n",
       "2             10.3  Frederick G. Smith; Artist: Formerly attribute...   \n",
       "3             10.4  Frederick G. Smith; Artist: Formerly attribute...   \n",
       "4            13.29                                     Walter Shirlaw   \n",
       "\n",
       "  classification      continent        country  \\\n",
       "0       Drawings         Europe        England   \n",
       "1       Drawings         Europe        England   \n",
       "2       Drawings         Europe        England   \n",
       "3       Drawings         Europe        England   \n",
       "4       Drawings  North America  United States   \n",
       "\n",
       "                                          creditline culture         dated  \\\n",
       "0  Gift of Mrs. C. J. Martin, in memory of Charle...     NaN     c.1888-89   \n",
       "1  Gift of Mrs. C. J. Martin, in memory of Charle...     NaN    c. 1888-89   \n",
       "2  Gift of Mrs. C. J. Martin, in memory of Charle...     NaN    c. 1888-89   \n",
       "3  Gift of Mrs. C. J. Martin, in memory of Charle...     NaN    c. 1888-89   \n",
       "4                   Gift of Mrs. Florence M. Shirlaw     NaN  19th century   \n",
       "\n",
       "            department  id       ...        \\\n",
       "0  Prints and Drawings   0       ...         \n",
       "1  Prints and Drawings   1       ...         \n",
       "2  Prints and Drawings   2       ...         \n",
       "3  Prints and Drawings   3       ...         \n",
       "4  Prints and Drawings   4       ...         \n",
       "\n",
       "                                          provenance         room  \\\n",
       "0  [Art dealer, London, acquired from \"an old hou...  Not on View   \n",
       "1  [Art dealer, London, acquired from \"an old hou...  Not on View   \n",
       "2  [Art dealer, London, acquired from \"an old hou...         G352   \n",
       "3  [Art dealer, London, acquired from \"an old hou...  Not on View   \n",
       "4                                                NaN  Not on View   \n",
       "\n",
       "          style                                     title  RBL   RB    X loan  \\\n",
       "0  19th century    Air, from the series The Four Elements  NaN  NaN  NaN  NaN   \n",
       "1  19th century  Earth, from the series The Four Elements  NaN  NaN  NaN  NaN   \n",
       "2  19th century   Fire, from the series The Four Elements  NaN  NaN  NaN  NaN   \n",
       "3  19th century  Water, from the series The Four Elements  NaN  NaN  NaN  NaN   \n",
       "4  19th century              Montana Indian Reservation I  NaN  NaN  NaN  NaN   \n",
       "\n",
       "  accession_year tableau_country  \n",
       "0             10  United Kingdom  \n",
       "1             10  United Kingdom  \n",
       "2             10  United Kingdom  \n",
       "3             10  United Kingdom  \n",
       "4             13   United States  \n",
       "\n",
       "[5 rows x 24 columns]"
      ]
     },
     "execution_count": 2,
     "metadata": {},
     "output_type": "execute_result"
    }
   ],
   "source": [
    "# Read in csv file\n",
    "input_file = 'resources/Mia_objects_country.csv'\n",
    "data = pd.read_csv(input_file, index_col='Unnamed: 0')\n",
    "\n",
    "data.head()"
   ]
  },
  {
   "cell_type": "markdown",
   "metadata": {},
   "source": [
    "# Data Analysis\n",
    "\n",
    "## Country Breakdown\n",
    "- Which country accounts for the most objects, the least?\n",
    "- What is the median number of gifts per country?\n",
    "- What kinds of bins can break down the numbers to best filter the data?\n"
   ]
  },
  {
   "cell_type": "code",
   "execution_count": 29,
   "metadata": {},
   "outputs": [
    {
     "data": {
      "text/html": [
       "<div>\n",
       "<style scoped>\n",
       "    .dataframe tbody tr th:only-of-type {\n",
       "        vertical-align: middle;\n",
       "    }\n",
       "\n",
       "    .dataframe tbody tr th {\n",
       "        vertical-align: top;\n",
       "    }\n",
       "\n",
       "    .dataframe thead th {\n",
       "        text-align: right;\n",
       "    }\n",
       "</style>\n",
       "<table border=\"1\" class=\"dataframe\">\n",
       "  <thead>\n",
       "    <tr style=\"text-align: right;\">\n",
       "      <th></th>\n",
       "      <th>country</th>\n",
       "      <th>count_objects</th>\n",
       "    </tr>\n",
       "  </thead>\n",
       "  <tbody>\n",
       "    <tr>\n",
       "      <th>0</th>\n",
       "      <td>Admiralty Islands</td>\n",
       "      <td>2</td>\n",
       "    </tr>\n",
       "    <tr>\n",
       "      <th>1</th>\n",
       "      <td>Afghanistan</td>\n",
       "      <td>54</td>\n",
       "    </tr>\n",
       "    <tr>\n",
       "      <th>2</th>\n",
       "      <td>Afghanistan or Uzbekistan</td>\n",
       "      <td>1</td>\n",
       "    </tr>\n",
       "    <tr>\n",
       "      <th>3</th>\n",
       "      <td>Africa</td>\n",
       "      <td>2</td>\n",
       "    </tr>\n",
       "    <tr>\n",
       "      <th>4</th>\n",
       "      <td>Albania</td>\n",
       "      <td>1</td>\n",
       "    </tr>\n",
       "  </tbody>\n",
       "</table>\n",
       "</div>"
      ],
      "text/plain": [
       "                     country  count_objects\n",
       "0          Admiralty Islands              2\n",
       "1                Afghanistan             54\n",
       "2  Afghanistan or Uzbekistan              1\n",
       "3                     Africa              2\n",
       "4                    Albania              1"
      ]
     },
     "execution_count": 29,
     "metadata": {},
     "output_type": "execute_result"
    }
   ],
   "source": [
    "# Group dataframe by country\n",
    "collection_country = data.groupby(['country'], as_index=False)['accession_number'].count().rename(columns = {'accession_number':'count_objects'})\n",
    "collection_country.head()"
   ]
  },
  {
   "cell_type": "code",
   "execution_count": 32,
   "metadata": {},
   "outputs": [
    {
     "name": "stdout",
     "output_type": "stream",
     "text": [
      "27404,1\n",
      "Median: 2.0\n"
     ]
    }
   ],
   "source": [
    "# Most and least values\n",
    "most = collection_country.count_objects.max()\n",
    "least = collection_country.count_objects.min()\n",
    "median = collection_country.count_objects.median()\n",
    "\n",
    "print(str(most) + \",\" + str(least))\n",
    "print('Median: ' + str(median))"
   ]
  },
  {
   "cell_type": "code",
   "execution_count": null,
   "metadata": {},
   "outputs": [],
   "source": [
    "import matplotlib.pyplot as plt\n",
    "%matplotlib inline\n",
    "plt.rcParams.update({'figure.figsize':(7,5), 'figure.dpi':100})\n",
    "plt.hist(ny.price, bins=100, range=(0, 1000))"
   ]
  },
  {
   "cell_type": "code",
   "execution_count": 62,
   "metadata": {
    "scrolled": true
   },
   "outputs": [
    {
     "data": {
      "text/plain": [
       "country          64\n",
       "count_objects    64\n",
       "dtype: int64"
      ]
     },
     "execution_count": 62,
     "metadata": {},
     "output_type": "execute_result"
    }
   ],
   "source": [
    "test = collection_country[collection_country['count_objects'] < 3]\n",
    "two_country = test[test['count_objects'] > 1]\n",
    "two_country.count()"
   ]
  },
  {
   "cell_type": "code",
   "execution_count": 63,
   "metadata": {},
   "outputs": [
    {
     "data": {
      "text/plain": [
       "array(['Admiralty Islands', 'Africa', 'Armenia or Syria', 'Azerbaijan',\n",
       "       'China or India', 'Cook Islands', 'Croatia', 'Czechoslovakia (?)',\n",
       "       \"Côte d'Ivoire or Liberia\", 'Dagestan',\n",
       "       'East Germany-Austria-Hungary', 'England and Switzerland',\n",
       "       'England or the Netherlands', 'France / Austria',\n",
       "       'France and Switzerland', 'France?', 'Germany (Saxony)',\n",
       "       'Germany (possibly)', 'Germany (probably)', 'Germany or Austria',\n",
       "       'Iran or India', 'Isle of Man', 'Israel (probably)',\n",
       "       'Italy or France', 'Italy or Sardinia', 'Italy or Spain',\n",
       "       'Jamaica', 'Kazakhstan', 'Laos and North Vietnam',\n",
       "       'Laos or Vietnam', 'Lombok Island', 'Macedonia', 'Malta',\n",
       "       'Marquesas Islands', 'Morocco (?)', 'Netherlands / Flanders',\n",
       "       'New Caledonia', 'Nigeria or Benin', 'Northern Italy',\n",
       "       'Northern Vietnam', 'Papua', 'Peru (?)', 'Phillipines',\n",
       "       'Ptolemaic Egypt', 'Rapa Nui (Easter Island)',\n",
       "       'Republic of South Sudan', 'Russia (probably)', 'Sardinia',\n",
       "       'Scotland (?)', 'Sicily or Italy', 'Society Islands',\n",
       "       'Southern Germany', 'Switzerland / France', 'Tajikistan',\n",
       "       'Tonga Islands', 'UNKNOWN', 'United States and England',\n",
       "       'United States or Great Britain', 'United states',\n",
       "       'Uzbekistan or Afghanistan', 'Uzbekistan or Tajikistan',\n",
       "       'Venezuela', 'Vietnam or Laos', 'Zimbabwe'], dtype=object)"
      ]
     },
     "execution_count": 63,
     "metadata": {},
     "output_type": "execute_result"
    }
   ],
   "source": [
    "two_country.country.unique()"
   ]
  },
  {
   "cell_type": "code",
   "execution_count": 60,
   "metadata": {},
   "outputs": [
    {
     "data": {
      "text/plain": [
       "country          447\n",
       "count_objects    447\n",
       "dtype: int64"
      ]
     },
     "execution_count": 60,
     "metadata": {},
     "output_type": "execute_result"
    }
   ],
   "source": [
    "collection_country.count()"
   ]
  },
  {
   "cell_type": "markdown",
   "metadata": {},
   "source": [
    "# Data Analysis\n",
    "\n",
    "## Year Breakdown\n",
    "- In which year were the most objects gifted, the least?\n",
    "- What is the median number of gifts per year?\n",
    "- What years were important for Mia in terms of large gifts?"
   ]
  },
  {
   "cell_type": "code",
   "execution_count": 23,
   "metadata": {},
   "outputs": [
    {
     "data": {
      "text/html": [
       "<div>\n",
       "<style scoped>\n",
       "    .dataframe tbody tr th:only-of-type {\n",
       "        vertical-align: middle;\n",
       "    }\n",
       "\n",
       "    .dataframe tbody tr th {\n",
       "        vertical-align: top;\n",
       "    }\n",
       "\n",
       "    .dataframe thead th {\n",
       "        text-align: right;\n",
       "    }\n",
       "</style>\n",
       "<table border=\"1\" class=\"dataframe\">\n",
       "  <thead>\n",
       "    <tr style=\"text-align: right;\">\n",
       "      <th></th>\n",
       "      <th>accession_year</th>\n",
       "      <th>count_objects</th>\n",
       "    </tr>\n",
       "  </thead>\n",
       "  <tbody>\n",
       "    <tr>\n",
       "      <th>0</th>\n",
       "      <td>6</td>\n",
       "      <td>2</td>\n",
       "    </tr>\n",
       "    <tr>\n",
       "      <th>1</th>\n",
       "      <td>8</td>\n",
       "      <td>2</td>\n",
       "    </tr>\n",
       "    <tr>\n",
       "      <th>2</th>\n",
       "      <td>9</td>\n",
       "      <td>105</td>\n",
       "    </tr>\n",
       "    <tr>\n",
       "      <th>3</th>\n",
       "      <td>10</td>\n",
       "      <td>5</td>\n",
       "    </tr>\n",
       "    <tr>\n",
       "      <th>4</th>\n",
       "      <td>11</td>\n",
       "      <td>2</td>\n",
       "    </tr>\n",
       "  </tbody>\n",
       "</table>\n",
       "</div>"
      ],
      "text/plain": [
       "   accession_year  count_objects\n",
       "0               6              2\n",
       "1               8              2\n",
       "2               9            105\n",
       "3              10              5\n",
       "4              11              2"
      ]
     },
     "execution_count": 23,
     "metadata": {},
     "output_type": "execute_result"
    }
   ],
   "source": [
    "# Group dataframe by year\n",
    "collection_year = data.groupby(['accession_year'], as_index=False)['accession_number'].count().rename(columns = {'accession_number':'count_objects'})\n",
    "collection_year.head()\n"
   ]
  },
  {
   "cell_type": "code",
   "execution_count": 39,
   "metadata": {},
   "outputs": [
    {
     "name": "stdout",
     "output_type": "stream",
     "text": [
      "8197, 2, 552.0, 871.433628318584\n"
     ]
    }
   ],
   "source": [
    "# Most and least values\n",
    "most_y = collection_year.count_objects.max()\n",
    "least_y = collection_year.count_objects.min()\n",
    "median_y = collection_year.count_objects.median()\n",
    "\n",
    "print(str(most_y) + \", \" + str(least_y) + ', ' + str(median_y))"
   ]
  },
  {
   "cell_type": "code",
   "execution_count": 43,
   "metadata": {
    "scrolled": true
   },
   "outputs": [
    {
     "data": {
      "text/plain": [
       "accession_year    56\n",
       "count_objects     56\n",
       "dtype: int64"
      ]
     },
     "execution_count": 43,
     "metadata": {},
     "output_type": "execute_result"
    }
   ],
   "source": [
    "# Pull out all years with more than 552 objects\n",
    "most_df = collection_year[collection_year['count_objects'] > 552]\n",
    "most_df.count()"
   ]
  },
  {
   "cell_type": "code",
   "execution_count": 46,
   "metadata": {},
   "outputs": [
    {
     "data": {
      "text/plain": [
       "Text(0, 0.5, 'Number of Objects')"
      ]
     },
     "execution_count": 46,
     "metadata": {},
     "output_type": "execute_result"
    },
    {
     "data": {
      "image/png": "[encoded data removed]",
      "text/plain": [
       "<Figure size 1440x576 with 1 Axes>"
      ]
     },
     "metadata": {
      "needs_background": "light"
     },
     "output_type": "display_data"
    }
   ],
   "source": [
    "# Create handles from accession_year values\n",
    "handles = most_df['accession_year'].values\n",
    "\n",
    "# Build the bar chart\n",
    "plt.figure(figsize=(20,8))\n",
    "x_axis = np.arange(0,len(handles))\n",
    "\n",
    "plt.bar(x_axis, most_df['count_objects'])\n",
    "plt.margins(x=0.01)\n",
    "plt.xticks(x_axis, labels=handles, rotation=45)\n",
    "plt.title(\"Objects Added to Mia's Collection by Year\")\n",
    "plt.xlabel(\"Year\")\n",
    "plt.ylabel('Number of Objects')"
   ]
  },
  {
   "cell_type": "code",
   "execution_count": 50,
   "metadata": {},
   "outputs": [
    {
     "data": {
      "text/plain": [
       "accession_year    56\n",
       "count_objects     56\n",
       "dtype: int64"
      ]
     },
     "execution_count": 50,
     "metadata": {},
     "output_type": "execute_result"
    }
   ],
   "source": [
    "# Pull out all years with less than 552 objects\n",
    "least_df = collection_year[collection_year['count_objects'] < 552]\n",
    "least_df.count()"
   ]
  },
  {
   "cell_type": "code",
   "execution_count": 51,
   "metadata": {},
   "outputs": [
    {
     "data": {
      "text/plain": [
       "Text(0, 0.5, 'Number of Objects')"
      ]
     },
     "execution_count": 51,
     "metadata": {},
     "output_type": "execute_result"
    },
    {
     "data": {
      "image/png": "[encoded data removed]",
      "text/plain": [
       "<Figure size 1440x576 with 1 Axes>"
      ]
     },
     "metadata": {
      "needs_background": "light"
     },
     "output_type": "display_data"
    }
   ],
   "source": [
    "# Create handles from accession_year values\n",
    "handles = least_df['accession_year'].values\n",
    "\n",
    "# Build the bar chart\n",
    "plt.figure(figsize=(20,8))\n",
    "x_axis = np.arange(0,len(handles))\n",
    "\n",
    "plt.bar(x_axis, least_df['count_objects'])\n",
    "plt.margins(x=0.01)\n",
    "plt.xticks(x_axis, labels=handles, rotation=45)\n",
    "plt.title(\"Objects Added to Mia's Collection by Year\")\n",
    "plt.xlabel(\"Year\")\n",
    "plt.ylabel('Number of Objects')"
   ]
  },
  {
   "cell_type": "code",
   "execution_count": 55,
   "metadata": {},
   "outputs": [
    {
     "data": {
      "text/html": [
       "<div>\n",
       "<style scoped>\n",
       "    .dataframe tbody tr th:only-of-type {\n",
       "        vertical-align: middle;\n",
       "    }\n",
       "\n",
       "    .dataframe tbody tr th {\n",
       "        vertical-align: top;\n",
       "    }\n",
       "\n",
       "    .dataframe thead th {\n",
       "        text-align: right;\n",
       "    }\n",
       "</style>\n",
       "<table border=\"1\" class=\"dataframe\">\n",
       "  <thead>\n",
       "    <tr style=\"text-align: right;\">\n",
       "      <th></th>\n",
       "      <th>accession_year</th>\n",
       "      <th>count_objects</th>\n",
       "    </tr>\n",
       "  </thead>\n",
       "  <tbody>\n",
       "    <tr>\n",
       "      <th>59</th>\n",
       "      <td>66</td>\n",
       "      <td>8197</td>\n",
       "    </tr>\n",
       "    <tr>\n",
       "      <th>92</th>\n",
       "      <td>99</td>\n",
       "      <td>6651</td>\n",
       "    </tr>\n",
       "    <tr>\n",
       "      <th>9</th>\n",
       "      <td>16</td>\n",
       "      <td>5457</td>\n",
       "    </tr>\n",
       "    <tr>\n",
       "      <th>17</th>\n",
       "      <td>24</td>\n",
       "      <td>3491</td>\n",
       "    </tr>\n",
       "    <tr>\n",
       "      <th>106</th>\n",
       "      <td>2013</td>\n",
       "      <td>3098</td>\n",
       "    </tr>\n",
       "    <tr>\n",
       "      <th>91</th>\n",
       "      <td>98</td>\n",
       "      <td>2871</td>\n",
       "    </tr>\n",
       "    <tr>\n",
       "      <th>96</th>\n",
       "      <td>2003</td>\n",
       "      <td>2555</td>\n",
       "    </tr>\n",
       "    <tr>\n",
       "      <th>100</th>\n",
       "      <td>2007</td>\n",
       "      <td>2292</td>\n",
       "    </tr>\n",
       "    <tr>\n",
       "      <th>67</th>\n",
       "      <td>74</td>\n",
       "      <td>2003</td>\n",
       "    </tr>\n",
       "    <tr>\n",
       "      <th>97</th>\n",
       "      <td>2004</td>\n",
       "      <td>2001</td>\n",
       "    </tr>\n",
       "  </tbody>\n",
       "</table>\n",
       "</div>"
      ],
      "text/plain": [
       "     accession_year  count_objects\n",
       "59               66           8197\n",
       "92               99           6651\n",
       "9                16           5457\n",
       "17               24           3491\n",
       "106            2013           3098\n",
       "91               98           2871\n",
       "96             2003           2555\n",
       "100            2007           2292\n",
       "67               74           2003\n",
       "97             2004           2001"
      ]
     },
     "execution_count": 55,
     "metadata": {},
     "output_type": "execute_result"
    }
   ],
   "source": [
    "# Pull out top 10 years for gifts\n",
    "collection_year.sort_values('count_objects', ascending=False).head(10)"
   ]
  },
  {
   "cell_type": "markdown",
   "metadata": {},
   "source": [
    "# Data Visualization\n",
    "\n",
    "- How many objects are gifted per year\n",
    "- How many objects are from each country\n",
    "- See how the number of objects by country changes over time"
   ]
  },
  {
   "cell_type": "code",
   "execution_count": 3,
   "metadata": {},
   "outputs": [
    {
     "data": {
      "text/html": [
       "<div>\n",
       "<style scoped>\n",
       "    .dataframe tbody tr th:only-of-type {\n",
       "        vertical-align: middle;\n",
       "    }\n",
       "\n",
       "    .dataframe tbody tr th {\n",
       "        vertical-align: top;\n",
       "    }\n",
       "\n",
       "    .dataframe thead th {\n",
       "        text-align: right;\n",
       "    }\n",
       "</style>\n",
       "<table border=\"1\" class=\"dataframe\">\n",
       "  <thead>\n",
       "    <tr style=\"text-align: right;\">\n",
       "      <th></th>\n",
       "      <th>accession_year</th>\n",
       "      <th>accession_number</th>\n",
       "    </tr>\n",
       "  </thead>\n",
       "  <tbody>\n",
       "    <tr>\n",
       "      <th>0</th>\n",
       "      <td>6</td>\n",
       "      <td>2</td>\n",
       "    </tr>\n",
       "    <tr>\n",
       "      <th>1</th>\n",
       "      <td>8</td>\n",
       "      <td>2</td>\n",
       "    </tr>\n",
       "    <tr>\n",
       "      <th>2</th>\n",
       "      <td>9</td>\n",
       "      <td>105</td>\n",
       "    </tr>\n",
       "    <tr>\n",
       "      <th>3</th>\n",
       "      <td>10</td>\n",
       "      <td>5</td>\n",
       "    </tr>\n",
       "    <tr>\n",
       "      <th>4</th>\n",
       "      <td>11</td>\n",
       "      <td>2</td>\n",
       "    </tr>\n",
       "  </tbody>\n",
       "</table>\n",
       "</div>"
      ],
      "text/plain": [
       "   accession_year  accession_number\n",
       "0               6                 2\n",
       "1               8                 2\n",
       "2               9               105\n",
       "3              10                 5\n",
       "4              11                 2"
      ]
     },
     "execution_count": 3,
     "metadata": {},
     "output_type": "execute_result"
    }
   ],
   "source": [
    "collection_year = data.groupby(['accession_year'], as_index=False)['accession_number'].count()\n",
    "collection_year.head()"
   ]
  },
  {
   "cell_type": "code",
   "execution_count": 23,
   "metadata": {},
   "outputs": [
    {
     "data": {
      "text/plain": [
       "113"
      ]
     },
     "execution_count": 23,
     "metadata": {},
     "output_type": "execute_result"
    }
   ],
   "source": [
    "len(collection_year['accession_year'].values)"
   ]
  },
  {
   "cell_type": "code",
   "execution_count": 25,
   "metadata": {},
   "outputs": [
    {
     "data": {
      "image/png": "[encoded data removed]",
      "text/plain": [
       "<Figure size 1440x576 with 1 Axes>"
      ]
     },
     "metadata": {
      "needs_background": "light"
     },
     "output_type": "display_data"
    }
   ],
   "source": [
    "# Create handles from accession_year values\n",
    "handles = collection_year['accession_year'].values\n",
    "\n",
    "# Build the bar chart\n",
    "plt.figure(figsize=(20,8))\n",
    "x_axis = np.arange(0,len(handles))\n",
    "\n",
    "plt.bar(x_axis, collection_year['accession_number'])\n",
    "plt.margins(x=0.01)\n",
    "plt.minorticks_on()\n",
    "plt.xticks(x_axis, labels=handles, rotation=45)\n",
    "plt.title(\"Objects Added to Mia's Collection by Year\")\n",
    "plt.xlabel(\"Year\")\n",
    "plt.ylabel('Number of Objects')\n",
    "\n",
    "# # Save the Figure\n",
    "# plt.savefig(\"Collection_by_Year.png\")\n",
    "\n",
    "\n",
    "# Show the Figure\n",
    "plt.show()"
   ]
  },
  {
   "cell_type": "code",
   "execution_count": 7,
   "metadata": {},
   "outputs": [
    {
     "data": {
      "text/html": [
       "<div>\n",
       "<style scoped>\n",
       "    .dataframe tbody tr th:only-of-type {\n",
       "        vertical-align: middle;\n",
       "    }\n",
       "\n",
       "    .dataframe tbody tr th {\n",
       "        vertical-align: top;\n",
       "    }\n",
       "\n",
       "    .dataframe thead th {\n",
       "        text-align: right;\n",
       "    }\n",
       "</style>\n",
       "<table border=\"1\" class=\"dataframe\">\n",
       "  <thead>\n",
       "    <tr style=\"text-align: right;\">\n",
       "      <th></th>\n",
       "      <th>tableau_country</th>\n",
       "      <th>accession_number</th>\n",
       "    </tr>\n",
       "  </thead>\n",
       "  <tbody>\n",
       "    <tr>\n",
       "      <th>0</th>\n",
       "      <td>Afghanistan</td>\n",
       "      <td>58</td>\n",
       "    </tr>\n",
       "    <tr>\n",
       "      <th>1</th>\n",
       "      <td>Afghanistan Or Pakistan</td>\n",
       "      <td>1</td>\n",
       "    </tr>\n",
       "    <tr>\n",
       "      <th>2</th>\n",
       "      <td>Afghanistan Or Uzbekistan</td>\n",
       "      <td>1</td>\n",
       "    </tr>\n",
       "    <tr>\n",
       "      <th>3</th>\n",
       "      <td>Africa</td>\n",
       "      <td>5</td>\n",
       "    </tr>\n",
       "    <tr>\n",
       "      <th>4</th>\n",
       "      <td>Albania</td>\n",
       "      <td>1</td>\n",
       "    </tr>\n",
       "  </tbody>\n",
       "</table>\n",
       "</div>"
      ],
      "text/plain": [
       "             tableau_country  accession_number\n",
       "0                Afghanistan                58\n",
       "1    Afghanistan Or Pakistan                 1\n",
       "2  Afghanistan Or Uzbekistan                 1\n",
       "3                     Africa                 5\n",
       "4                    Albania                 1"
      ]
     },
     "execution_count": 7,
     "metadata": {},
     "output_type": "execute_result"
    }
   ],
   "source": [
    "collection_country = data.groupby(['tableau_country'], as_index=False)['accession_number'].count()\n",
    "collection_country.head()"
   ]
  },
  {
   "cell_type": "code",
   "execution_count": 8,
   "metadata": {},
   "outputs": [
    {
     "data": {
      "text/html": [
       "<div>\n",
       "<style scoped>\n",
       "    .dataframe tbody tr th:only-of-type {\n",
       "        vertical-align: middle;\n",
       "    }\n",
       "\n",
       "    .dataframe tbody tr th {\n",
       "        vertical-align: top;\n",
       "    }\n",
       "\n",
       "    .dataframe thead th {\n",
       "        text-align: right;\n",
       "    }\n",
       "</style>\n",
       "<table border=\"1\" class=\"dataframe\">\n",
       "  <thead>\n",
       "    <tr style=\"text-align: right;\">\n",
       "      <th></th>\n",
       "      <th>tableau_country</th>\n",
       "      <th>accession_number</th>\n",
       "    </tr>\n",
       "  </thead>\n",
       "  <tbody>\n",
       "    <tr>\n",
       "      <th>409</th>\n",
       "      <td>United States</td>\n",
       "      <td>35945</td>\n",
       "    </tr>\n",
       "    <tr>\n",
       "      <th>116</th>\n",
       "      <td>France</td>\n",
       "      <td>17751</td>\n",
       "    </tr>\n",
       "    <tr>\n",
       "      <th>208</th>\n",
       "      <td>Japan</td>\n",
       "      <td>11218</td>\n",
       "    </tr>\n",
       "    <tr>\n",
       "      <th>51</th>\n",
       "      <td>China</td>\n",
       "      <td>9880</td>\n",
       "    </tr>\n",
       "    <tr>\n",
       "      <th>407</th>\n",
       "      <td>United Kingdom</td>\n",
       "      <td>9128</td>\n",
       "    </tr>\n",
       "  </tbody>\n",
       "</table>\n",
       "</div>"
      ],
      "text/plain": [
       "    tableau_country  accession_number\n",
       "409   United States             35945\n",
       "116          France             17751\n",
       "208           Japan             11218\n",
       "51            China              9880\n",
       "407  United Kingdom              9128"
      ]
     },
     "execution_count": 8,
     "metadata": {},
     "output_type": "execute_result"
    }
   ],
   "source": [
    "# Pull top 100 countries to chart\n",
    "collection_country_top = collection_country.nlargest(50, 'accession_number')\n",
    "collection_country_top.head()"
   ]
  },
  {
   "cell_type": "code",
   "execution_count": 10,
   "metadata": {},
   "outputs": [
    {
     "data": {
      "image/png": "[encoded data removed]",
      "text/plain": [
       "<Figure size 864x576 with 1 Axes>"
      ]
     },
     "metadata": {
      "needs_background": "light"
     },
     "output_type": "display_data"
    }
   ],
   "source": [
    "# Create handles from country values\n",
    "handles = collection_country_top['tableau_country'].values\n",
    "\n",
    "# Only pull top 7 values\n",
    "# Build the bar chart\n",
    "plt.figure(figsize=(12,8))\n",
    "x_axis = np.arange(0,7)\n",
    "\n",
    "plt.bar(x_axis, collection_country_top['accession_number'][0:7])\n",
    "plt.axhline(color=\"black\")\n",
    "plt.xticks(x_axis, labels=handles[0:7], rotation=45)\n",
    "plt.title(\"Top Ten Countries in Mia's Collection\")\n",
    "plt.xlabel(\"Country\")\n",
    "plt.ylabel('Number of Objects')\n",
    "\n",
    "# # Save the Figure\n",
    "# plt.savefig(\"Tumor_Growth.png\")\n",
    "\n",
    "\n",
    "# Show the Figure\n",
    "plt.show()"
   ]
  },
  {
   "cell_type": "code",
   "execution_count": 12,
   "metadata": {},
   "outputs": [
    {
     "data": {
      "image/png": "[encoded data removed]",
      "text/plain": [
       "<Figure size 1440x576 with 1 Axes>"
      ]
     },
     "metadata": {
      "needs_background": "light"
     },
     "output_type": "display_data"
    }
   ],
   "source": [
    "# Create handles from country values\n",
    "handles = collection_country_top['tableau_country'].values\n",
    "\n",
    "# Build the bar chart\n",
    "plt.figure(figsize=(20,8))\n",
    "x_axis = np.arange(0,43)\n",
    "\n",
    "plt.bar(x_axis, collection_country_top['accession_number'][7:50])\n",
    "plt.axhline(color=\"black\")\n",
    "plt.xticks(x_axis, labels=handles[7:50], rotation=45)\n",
    "plt.title(\"Objects in Mia's Collection\")\n",
    "plt.xlabel(\"Country\")\n",
    "plt.ylabel('Number of Objects')\n",
    "\n",
    "# # Save the Figure\n",
    "# plt.savefig(\"Tumor_Growth.png\")\n",
    "\n",
    "\n",
    "# Show the Figure\n",
    "plt.show()"
   ]
  },
  {
   "cell_type": "code",
   "execution_count": null,
   "metadata": {},
   "outputs": [],
   "source": []
  }
 ],
 "metadata": {
  "kernelspec": {
   "display_name": "Python 3",
   "language": "python",
   "name": "python3"
  },
  "language_info": {
   "codemirror_mode": {
    "name": "ipython",
    "version": 3
   },
   "file_extension": ".py",
   "mimetype": "text/x-python",
   "name": "python",
   "nbconvert_exporter": "python",
   "pygments_lexer": "ipython3",
   "version": "3.6.8"
  }
 },
 "nbformat": 4,
 "nbformat_minor": 2
}
