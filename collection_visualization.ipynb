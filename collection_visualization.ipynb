{
 "cells": [
  {
   "cell_type": "code",
   "execution_count": 1,
   "metadata": {},
   "outputs": [],
   "source": [
    "import pandas as pd\n",
    "import numpy as np\n",
    "import matplotlib.pyplot as plt"
   ]
  },
  {
   "cell_type": "code",
   "execution_count": 26,
   "metadata": {},
   "outputs": [
    {
     "name": "stderr",
     "output_type": "stream",
     "text": [
      "/anaconda3/envs/PythonData/lib/python3.6/site-packages/IPython/core/interactiveshell.py:2785: DtypeWarning: Columns (21) have mixed types. Specify dtype option on import or set low_memory=False.\n",
      "  interactivity=interactivity, compiler=compiler, result=result)\n"
     ]
    },
    {
     "data": {
      "text/html": [
       "<div>\n",
       "<style scoped>\n",
       "    .dataframe tbody tr th:only-of-type {\n",
       "        vertical-align: middle;\n",
       "    }\n",
       "\n",
       "    .dataframe tbody tr th {\n",
       "        vertical-align: top;\n",
       "    }\n",
       "\n",
       "    .dataframe thead th {\n",
       "        text-align: right;\n",
       "    }\n",
       "</style>\n",
       "<table border=\"1\" class=\"dataframe\">\n",
       "  <thead>\n",
       "    <tr style=\"text-align: right;\">\n",
       "      <th></th>\n",
       "      <th>accession_number</th>\n",
       "      <th>artist</th>\n",
       "      <th>classification</th>\n",
       "      <th>continent</th>\n",
       "      <th>country</th>\n",
       "      <th>creditline</th>\n",
       "      <th>culture</th>\n",
       "      <th>dated</th>\n",
       "      <th>department</th>\n",
       "      <th>id</th>\n",
       "      <th>...</th>\n",
       "      <th>style</th>\n",
       "      <th>title</th>\n",
       "      <th>RBL</th>\n",
       "      <th>RB</th>\n",
       "      <th>X</th>\n",
       "      <th>loan</th>\n",
       "      <th>accession_year</th>\n",
       "      <th>country_cleaned</th>\n",
       "      <th>country_status</th>\n",
       "      <th>tableau_country</th>\n",
       "    </tr>\n",
       "  </thead>\n",
       "  <tbody>\n",
       "    <tr>\n",
       "      <th>0</th>\n",
       "      <td>10.1</td>\n",
       "      <td>Frederick G. Smith; Artist: Formerly attribute...</td>\n",
       "      <td>Drawings</td>\n",
       "      <td>Europe</td>\n",
       "      <td>England</td>\n",
       "      <td>Gift of Mrs. C. J. Martin, in memory of Charle...</td>\n",
       "      <td>NaN</td>\n",
       "      <td>c.1888-89</td>\n",
       "      <td>Prints and Drawings</td>\n",
       "      <td>0</td>\n",
       "      <td>...</td>\n",
       "      <td>19th century</td>\n",
       "      <td>Air, from the series The Four Elements</td>\n",
       "      <td>NaN</td>\n",
       "      <td>NaN</td>\n",
       "      <td>NaN</td>\n",
       "      <td>NaN</td>\n",
       "      <td>10</td>\n",
       "      <td>England</td>\n",
       "      <td>clear</td>\n",
       "      <td>United Kingdom</td>\n",
       "    </tr>\n",
       "    <tr>\n",
       "      <th>1</th>\n",
       "      <td>10.2</td>\n",
       "      <td>Frederick G. Smith; Artist: Formerly attribute...</td>\n",
       "      <td>Drawings</td>\n",
       "      <td>Europe</td>\n",
       "      <td>England</td>\n",
       "      <td>Gift of Mrs. C. J. Martin, in memory of Charle...</td>\n",
       "      <td>NaN</td>\n",
       "      <td>c. 1888-89</td>\n",
       "      <td>Prints and Drawings</td>\n",
       "      <td>1</td>\n",
       "      <td>...</td>\n",
       "      <td>19th century</td>\n",
       "      <td>Earth, from the series The Four Elements</td>\n",
       "      <td>NaN</td>\n",
       "      <td>NaN</td>\n",
       "      <td>NaN</td>\n",
       "      <td>NaN</td>\n",
       "      <td>10</td>\n",
       "      <td>England</td>\n",
       "      <td>clear</td>\n",
       "      <td>United Kingdom</td>\n",
       "    </tr>\n",
       "    <tr>\n",
       "      <th>2</th>\n",
       "      <td>10.3</td>\n",
       "      <td>Frederick G. Smith; Artist: Formerly attribute...</td>\n",
       "      <td>Drawings</td>\n",
       "      <td>Europe</td>\n",
       "      <td>England</td>\n",
       "      <td>Gift of Mrs. C. J. Martin, in memory of Charle...</td>\n",
       "      <td>NaN</td>\n",
       "      <td>c. 1888-89</td>\n",
       "      <td>Prints and Drawings</td>\n",
       "      <td>2</td>\n",
       "      <td>...</td>\n",
       "      <td>19th century</td>\n",
       "      <td>Fire, from the series The Four Elements</td>\n",
       "      <td>NaN</td>\n",
       "      <td>NaN</td>\n",
       "      <td>NaN</td>\n",
       "      <td>NaN</td>\n",
       "      <td>10</td>\n",
       "      <td>England</td>\n",
       "      <td>clear</td>\n",
       "      <td>United Kingdom</td>\n",
       "    </tr>\n",
       "    <tr>\n",
       "      <th>3</th>\n",
       "      <td>10.4</td>\n",
       "      <td>Frederick G. Smith; Artist: Formerly attribute...</td>\n",
       "      <td>Drawings</td>\n",
       "      <td>Europe</td>\n",
       "      <td>England</td>\n",
       "      <td>Gift of Mrs. C. J. Martin, in memory of Charle...</td>\n",
       "      <td>NaN</td>\n",
       "      <td>c. 1888-89</td>\n",
       "      <td>Prints and Drawings</td>\n",
       "      <td>3</td>\n",
       "      <td>...</td>\n",
       "      <td>19th century</td>\n",
       "      <td>Water, from the series The Four Elements</td>\n",
       "      <td>NaN</td>\n",
       "      <td>NaN</td>\n",
       "      <td>NaN</td>\n",
       "      <td>NaN</td>\n",
       "      <td>10</td>\n",
       "      <td>England</td>\n",
       "      <td>clear</td>\n",
       "      <td>United Kingdom</td>\n",
       "    </tr>\n",
       "    <tr>\n",
       "      <th>4</th>\n",
       "      <td>13.29</td>\n",
       "      <td>Walter Shirlaw</td>\n",
       "      <td>Drawings</td>\n",
       "      <td>North America</td>\n",
       "      <td>United States</td>\n",
       "      <td>Gift of Mrs. Florence M. Shirlaw</td>\n",
       "      <td>NaN</td>\n",
       "      <td>19th century</td>\n",
       "      <td>Prints and Drawings</td>\n",
       "      <td>4</td>\n",
       "      <td>...</td>\n",
       "      <td>19th century</td>\n",
       "      <td>Montana Indian Reservation I</td>\n",
       "      <td>NaN</td>\n",
       "      <td>NaN</td>\n",
       "      <td>NaN</td>\n",
       "      <td>NaN</td>\n",
       "      <td>13</td>\n",
       "      <td>United States</td>\n",
       "      <td>clear</td>\n",
       "      <td>United States</td>\n",
       "    </tr>\n",
       "  </tbody>\n",
       "</table>\n",
       "<p>5 rows × 26 columns</p>\n",
       "</div>"
      ],
      "text/plain": [
       "  accession_number                                             artist  \\\n",
       "0             10.1  Frederick G. Smith; Artist: Formerly attribute...   \n",
       "1             10.2  Frederick G. Smith; Artist: Formerly attribute...   \n",
       "2             10.3  Frederick G. Smith; Artist: Formerly attribute...   \n",
       "3             10.4  Frederick G. Smith; Artist: Formerly attribute...   \n",
       "4            13.29                                     Walter Shirlaw   \n",
       "\n",
       "  classification      continent        country  \\\n",
       "0       Drawings         Europe        England   \n",
       "1       Drawings         Europe        England   \n",
       "2       Drawings         Europe        England   \n",
       "3       Drawings         Europe        England   \n",
       "4       Drawings  North America  United States   \n",
       "\n",
       "                                          creditline culture         dated  \\\n",
       "0  Gift of Mrs. C. J. Martin, in memory of Charle...     NaN     c.1888-89   \n",
       "1  Gift of Mrs. C. J. Martin, in memory of Charle...     NaN    c. 1888-89   \n",
       "2  Gift of Mrs. C. J. Martin, in memory of Charle...     NaN    c. 1888-89   \n",
       "3  Gift of Mrs. C. J. Martin, in memory of Charle...     NaN    c. 1888-89   \n",
       "4                   Gift of Mrs. Florence M. Shirlaw     NaN  19th century   \n",
       "\n",
       "            department  id       ...               style  \\\n",
       "0  Prints and Drawings   0       ...        19th century   \n",
       "1  Prints and Drawings   1       ...        19th century   \n",
       "2  Prints and Drawings   2       ...        19th century   \n",
       "3  Prints and Drawings   3       ...        19th century   \n",
       "4  Prints and Drawings   4       ...        19th century   \n",
       "\n",
       "                                      title  RBL   RB    X loan  \\\n",
       "0    Air, from the series The Four Elements  NaN  NaN  NaN  NaN   \n",
       "1  Earth, from the series The Four Elements  NaN  NaN  NaN  NaN   \n",
       "2   Fire, from the series The Four Elements  NaN  NaN  NaN  NaN   \n",
       "3  Water, from the series The Four Elements  NaN  NaN  NaN  NaN   \n",
       "4              Montana Indian Reservation I  NaN  NaN  NaN  NaN   \n",
       "\n",
       "  accession_year country_cleaned country_status tableau_country  \n",
       "0             10         England          clear  United Kingdom  \n",
       "1             10         England          clear  United Kingdom  \n",
       "2             10         England          clear  United Kingdom  \n",
       "3             10         England          clear  United Kingdom  \n",
       "4             13   United States          clear   United States  \n",
       "\n",
       "[5 rows x 26 columns]"
      ]
     },
     "execution_count": 26,
     "metadata": {},
     "output_type": "execute_result"
    }
   ],
   "source": [
    "# Read in csv file\n",
    "input_file = 'resources/Mia_objects_country.csv'\n",
    "df = pd.read_csv(input_file, index_col='Unnamed: 0')\n",
    "\n",
    "df.head()"
   ]
  },
  {
   "cell_type": "markdown",
   "metadata": {},
   "source": [
    "# Data Analysis"
   ]
  },
  {
   "cell_type": "markdown",
   "metadata": {},
   "source": [
    "## Object Information\n",
    "- How many objects are in Mia's collection?\n",
    "- How many lent? RBL/RB/X?"
   ]
  },
  {
   "cell_type": "code",
   "execution_count": 17,
   "metadata": {
    "scrolled": true
   },
   "outputs": [
    {
     "name": "stdout",
     "output_type": "stream",
     "text": [
      "Objects: 123686\n",
      "L    25214\n",
      "Name: loan, dtype: int64\n",
      "RBL    916\n",
      "Name: RBL, dtype: int64\n",
      "RB    1898\n",
      "Name: RB, dtype: int64\n",
      "X    1667\n",
      "Name: X, dtype: int64\n"
     ]
    }
   ],
   "source": [
    "# Check for loaned, RBL, X objects\n",
    "num_objects = len(df.id)\n",
    "print('Objects: ' + str(num_objects))\n",
    "num_lent = df.loan.value_counts()\n",
    "print(num_lent)\n",
    "num_RBL = df.RBL.value_counts()\n",
    "print(num_RBL)\n",
    "num_RB = df.RB.value_counts()\n",
    "print(num_RB)\n",
    "num_X = df.X.value_counts()\n",
    "print(num_X)"
   ]
  },
  {
   "cell_type": "code",
   "execution_count": null,
   "metadata": {},
   "outputs": [],
   "source": [
    "# Pie chart of objects by L/RBL/RB/X (?)"
   ]
  },
  {
   "cell_type": "code",
   "execution_count": 35,
   "metadata": {},
   "outputs": [],
   "source": [
    "# Filter out loaned, RBL, X objects\n",
    "df_nonLoan = df.loc[(df['loan'] != \"L\") & (df_nonLoan['RB'] != \"RB\") & (df_nonRB['X'] != 'X')]"
   ]
  },
  {
   "cell_type": "code",
   "execution_count": 63,
   "metadata": {},
   "outputs": [],
   "source": [
    "# Filter out 'unclear multiple' and 'unclear possible' countries\n",
    "country_filter = ['unclear_multiple', 'unclear_possible', 'unclear_continent']\n",
    "data = df_nonLoan.loc[~df_nonLoan['country_status'].isin(country_filter)]"
   ]
  },
  {
   "cell_type": "markdown",
   "metadata": {},
   "source": [
    "## Country Breakdown\n",
    "- How many countries are in Mia's collection?\n",
    "- Which country accounts for the most objects, the least?\n",
    "- What is the median number of gifts per country?\n",
    "- What kinds of bins can break down the numbers to best filter the data?\n"
   ]
  },
  {
   "cell_type": "code",
   "execution_count": 37,
   "metadata": {},
   "outputs": [
    {
     "data": {
      "text/html": [
       "<div>\n",
       "<style scoped>\n",
       "    .dataframe tbody tr th:only-of-type {\n",
       "        vertical-align: middle;\n",
       "    }\n",
       "\n",
       "    .dataframe tbody tr th {\n",
       "        vertical-align: top;\n",
       "    }\n",
       "\n",
       "    .dataframe thead th {\n",
       "        text-align: right;\n",
       "    }\n",
       "</style>\n",
       "<table border=\"1\" class=\"dataframe\">\n",
       "  <thead>\n",
       "    <tr style=\"text-align: right;\">\n",
       "      <th></th>\n",
       "      <th>country_cleaned</th>\n",
       "      <th>count_objects</th>\n",
       "    </tr>\n",
       "  </thead>\n",
       "  <tbody>\n",
       "    <tr>\n",
       "      <th>0</th>\n",
       "      <td>Admiralty Islands</td>\n",
       "      <td>2</td>\n",
       "    </tr>\n",
       "    <tr>\n",
       "      <th>1</th>\n",
       "      <td>Afghanistan</td>\n",
       "      <td>39</td>\n",
       "    </tr>\n",
       "    <tr>\n",
       "      <th>2</th>\n",
       "      <td>Albania</td>\n",
       "      <td>1</td>\n",
       "    </tr>\n",
       "    <tr>\n",
       "      <th>3</th>\n",
       "      <td>Algeria</td>\n",
       "      <td>9</td>\n",
       "    </tr>\n",
       "    <tr>\n",
       "      <th>4</th>\n",
       "      <td>Angola</td>\n",
       "      <td>20</td>\n",
       "    </tr>\n",
       "  </tbody>\n",
       "</table>\n",
       "</div>"
      ],
      "text/plain": [
       "     country_cleaned  count_objects\n",
       "0  Admiralty Islands              2\n",
       "1        Afghanistan             39\n",
       "2            Albania              1\n",
       "3            Algeria              9\n",
       "4             Angola             20"
      ]
     },
     "execution_count": 37,
     "metadata": {},
     "output_type": "execute_result"
    }
   ],
   "source": [
    "# Group dataframe by country\n",
    "collection_country = data.groupby(['country_cleaned'], as_index=False)['accession_number'].count().rename(columns = {'accession_number':'count_objects'})\n",
    "collection_country.head()"
   ]
  },
  {
   "cell_type": "code",
   "execution_count": 61,
   "metadata": {
    "scrolled": true
   },
   "outputs": [
    {
     "name": "stdout",
     "output_type": "stream",
     "text": [
      "Countries: 181\n",
      "Most objects: 27221\n",
      "Least objects: 1\n",
      "Median objects: 12.0\n"
     ]
    }
   ],
   "source": [
    "# Number of countries\n",
    "print('Countries: ' + str(len(collection_country)))\n",
    "\n",
    "# Most and least values\n",
    "print('Most objects: ' + str(collection_country.count_objects.max()))\n",
    "print('Least objects: ' + str(collection_country.count_objects.min()))\n",
    "print('Median objects: ' + str(collection_country.count_objects.median()))"
   ]
  },
  {
   "cell_type": "code",
   "execution_count": 72,
   "metadata": {
    "scrolled": true
   },
   "outputs": [
    {
     "data": {
      "text/html": [
       "<div>\n",
       "<style scoped>\n",
       "    .dataframe tbody tr th:only-of-type {\n",
       "        vertical-align: middle;\n",
       "    }\n",
       "\n",
       "    .dataframe tbody tr th {\n",
       "        vertical-align: top;\n",
       "    }\n",
       "\n",
       "    .dataframe thead th {\n",
       "        text-align: right;\n",
       "    }\n",
       "</style>\n",
       "<table border=\"1\" class=\"dataframe\">\n",
       "  <thead>\n",
       "    <tr style=\"text-align: right;\">\n",
       "      <th></th>\n",
       "      <th>country_cleaned</th>\n",
       "      <th>count_objects</th>\n",
       "    </tr>\n",
       "  </thead>\n",
       "  <tbody>\n",
       "    <tr>\n",
       "      <th>0</th>\n",
       "      <td>United States</td>\n",
       "      <td>27221</td>\n",
       "    </tr>\n",
       "    <tr>\n",
       "      <th>1</th>\n",
       "      <td>France</td>\n",
       "      <td>17012</td>\n",
       "    </tr>\n",
       "    <tr>\n",
       "      <th>2</th>\n",
       "      <td>Japan</td>\n",
       "      <td>8906</td>\n",
       "    </tr>\n",
       "    <tr>\n",
       "      <th>3</th>\n",
       "      <td>England</td>\n",
       "      <td>7936</td>\n",
       "    </tr>\n",
       "    <tr>\n",
       "      <th>4</th>\n",
       "      <td>China</td>\n",
       "      <td>7866</td>\n",
       "    </tr>\n",
       "    <tr>\n",
       "      <th>5</th>\n",
       "      <td>Germany</td>\n",
       "      <td>3662</td>\n",
       "    </tr>\n",
       "    <tr>\n",
       "      <th>6</th>\n",
       "      <td>Italy</td>\n",
       "      <td>2893</td>\n",
       "    </tr>\n",
       "    <tr>\n",
       "      <th>7</th>\n",
       "      <td>Netherlands</td>\n",
       "      <td>1732</td>\n",
       "    </tr>\n",
       "  </tbody>\n",
       "</table>\n",
       "</div>"
      ],
      "text/plain": [
       "  country_cleaned  count_objects\n",
       "0   United States          27221\n",
       "1          France          17012\n",
       "2           Japan           8906\n",
       "3         England           7936\n",
       "4           China           7866\n",
       "5         Germany           3662\n",
       "6           Italy           2893\n",
       "7     Netherlands           1732"
      ]
     },
     "execution_count": 72,
     "metadata": {},
     "output_type": "execute_result"
    }
   ],
   "source": [
    "# Pull out top 8 countries for gifts\n",
    "collection_country.sort_values('count_objects', ascending=False).reset_index(drop=True).head(8)"
   ]
  },
  {
   "cell_type": "code",
   "execution_count": null,
   "metadata": {},
   "outputs": [],
   "source": [
    "# Split data into bins for visualization purposes\n",
    "\n",
    "# import matplotlib.pyplot as plt\n",
    "# %matplotlib inline\n",
    "# plt.rcParams.update({'figure.figsize':(7,5), 'figure.dpi':100})\n",
    "# plt.hist(ny.price, bins=100, range=(0, 1000))"
   ]
  },
  {
   "cell_type": "code",
   "execution_count": null,
   "metadata": {},
   "outputs": [],
   "source": [
    "# Add column with an aggregate \"other\" to pull all countries under a \n",
    "    # certain number into one group to clean up graphing"
   ]
  },
  {
   "cell_type": "code",
   "execution_count": 71,
   "metadata": {},
   "outputs": [
    {
     "data": {
      "image/png": "[encoded data removed]",
      "text/plain": [
       "<Figure size 1440x576 with 1 Axes>"
      ]
     },
     "metadata": {
      "needs_background": "light"
     },
     "output_type": "display_data"
    }
   ],
   "source": [
    "##### Change to pie chart\n",
    "# Create handles from country values\n",
    "handles = collection_country['country_cleaned'].values\n",
    "\n",
    "# Build the bar chart\n",
    "plt.figure(figsize=(20,8))\n",
    "x_axis = np.arange(0,len(handles))\n",
    "\n",
    "plt.bar(x_axis, collection_country['count_objects'])\n",
    "plt.margins(x=0.01)\n",
    "plt.xticks(x_axis, labels=handles, rotation=45)\n",
    "plt.title(\"Objects in Mia's Collection\")\n",
    "plt.xlabel(\"Country\")\n",
    "plt.ylabel('Number of Objects')\n",
    "\n",
    "# # Save the Figure\n",
    "# plt.savefig(\"Tumor_Growth.png\")\n",
    "\n",
    "\n",
    "# Show the Figure\n",
    "plt.show()"
   ]
  },
  {
   "cell_type": "markdown",
   "metadata": {},
   "source": [
    "# Data Analysis\n",
    "\n",
    "## Year Breakdown\n",
    "- In which year were the most objects gifted, the least?\n",
    "- What is the median number of gifts per year?\n",
    "- What years were important for Mia in terms of large gifts?"
   ]
  },
  {
   "cell_type": "code",
   "execution_count": 73,
   "metadata": {},
   "outputs": [
    {
     "data": {
      "text/html": [
       "<div>\n",
       "<style scoped>\n",
       "    .dataframe tbody tr th:only-of-type {\n",
       "        vertical-align: middle;\n",
       "    }\n",
       "\n",
       "    .dataframe tbody tr th {\n",
       "        vertical-align: top;\n",
       "    }\n",
       "\n",
       "    .dataframe thead th {\n",
       "        text-align: right;\n",
       "    }\n",
       "</style>\n",
       "<table border=\"1\" class=\"dataframe\">\n",
       "  <thead>\n",
       "    <tr style=\"text-align: right;\">\n",
       "      <th></th>\n",
       "      <th>accession_year</th>\n",
       "      <th>count_objects</th>\n",
       "    </tr>\n",
       "  </thead>\n",
       "  <tbody>\n",
       "    <tr>\n",
       "      <th>0</th>\n",
       "      <td>6</td>\n",
       "      <td>2</td>\n",
       "    </tr>\n",
       "    <tr>\n",
       "      <th>1</th>\n",
       "      <td>8</td>\n",
       "      <td>2</td>\n",
       "    </tr>\n",
       "    <tr>\n",
       "      <th>2</th>\n",
       "      <td>9</td>\n",
       "      <td>105</td>\n",
       "    </tr>\n",
       "    <tr>\n",
       "      <th>3</th>\n",
       "      <td>10</td>\n",
       "      <td>5</td>\n",
       "    </tr>\n",
       "    <tr>\n",
       "      <th>4</th>\n",
       "      <td>11</td>\n",
       "      <td>2</td>\n",
       "    </tr>\n",
       "  </tbody>\n",
       "</table>\n",
       "</div>"
      ],
      "text/plain": [
       "   accession_year  count_objects\n",
       "0               6              2\n",
       "1               8              2\n",
       "2               9            105\n",
       "3              10              5\n",
       "4              11              2"
      ]
     },
     "execution_count": 73,
     "metadata": {},
     "output_type": "execute_result"
    }
   ],
   "source": [
    "# Group dataframe by year\n",
    "collection_year = data.groupby(['accession_year'], as_index=False)['accession_number'].count().rename(columns = {'accession_number':'count_objects'})\n",
    "collection_year.head()\n"
   ]
  },
  {
   "cell_type": "code",
   "execution_count": 74,
   "metadata": {},
   "outputs": [
    {
     "name": "stdout",
     "output_type": "stream",
     "text": [
      "8013, 2, 498.0\n"
     ]
    }
   ],
   "source": [
    "# Most and least values\n",
    "most_y = collection_year.count_objects.max()\n",
    "least_y = collection_year.count_objects.min()\n",
    "median_y = collection_year.count_objects.median()\n",
    "\n",
    "print(str(most_y) + \", \" + str(least_y) + ', ' + str(median_y))"
   ]
  },
  {
   "cell_type": "code",
   "execution_count": 76,
   "metadata": {
    "scrolled": true
   },
   "outputs": [
    {
     "data": {
      "text/plain": [
       "accession_year    56\n",
       "count_objects     56\n",
       "dtype: int64"
      ]
     },
     "execution_count": 76,
     "metadata": {},
     "output_type": "execute_result"
    }
   ],
   "source": [
    "# Pull out all years with more than 498 objects\n",
    "most_df = collection_year[collection_year['count_objects'] > 498]\n",
    "most_df.count()"
   ]
  },
  {
   "cell_type": "code",
   "execution_count": 77,
   "metadata": {},
   "outputs": [
    {
     "data": {
      "text/plain": [
       "Text(0, 0.5, 'Number of Objects')"
      ]
     },
     "execution_count": 77,
     "metadata": {},
     "output_type": "execute_result"
    },
    {
     "data": {
      "image/png": "[encoded data removed]",
      "text/plain": [
       "<Figure size 1440x576 with 1 Axes>"
      ]
     },
     "metadata": {
      "needs_background": "light"
     },
     "output_type": "display_data"
    }
   ],
   "source": [
    "# Create handles from accession_year values\n",
    "handles = most_df['accession_year'].values\n",
    "\n",
    "# Build the bar chart\n",
    "plt.figure(figsize=(20,8))\n",
    "x_axis = np.arange(0,len(handles))\n",
    "\n",
    "plt.bar(x_axis, most_df['count_objects'])\n",
    "plt.margins(x=0.01)\n",
    "plt.xticks(x_axis, labels=handles, rotation=45)\n",
    "plt.title(\"Objects Added to Mia's Collection by Year\")\n",
    "plt.xlabel(\"Year\")\n",
    "plt.ylabel('Number of Objects')"
   ]
  },
  {
   "cell_type": "code",
   "execution_count": 79,
   "metadata": {},
   "outputs": [
    {
     "data": {
      "text/plain": [
       "accession_year    56\n",
       "count_objects     56\n",
       "dtype: int64"
      ]
     },
     "execution_count": 79,
     "metadata": {},
     "output_type": "execute_result"
    }
   ],
   "source": [
    "# Pull out all years with less than 552 objects\n",
    "least_df = collection_year[collection_year['count_objects'] < 498]\n",
    "least_df.count()"
   ]
  },
  {
   "cell_type": "code",
   "execution_count": 80,
   "metadata": {},
   "outputs": [
    {
     "data": {
      "text/plain": [
       "Text(0, 0.5, 'Number of Objects')"
      ]
     },
     "execution_count": 80,
     "metadata": {},
     "output_type": "execute_result"
    },
    {
     "data": {
      "image/png": "[encoded data removed]",
      "text/plain": [
       "<Figure size 1440x576 with 1 Axes>"
      ]
     },
     "metadata": {
      "needs_background": "light"
     },
     "output_type": "display_data"
    }
   ],
   "source": [
    "# Create handles from accession_year values\n",
    "handles = least_df['accession_year'].values\n",
    "\n",
    "# Build the bar chart\n",
    "plt.figure(figsize=(20,8))\n",
    "x_axis = np.arange(0,len(handles))\n",
    "\n",
    "plt.bar(x_axis, least_df['count_objects'])\n",
    "plt.margins(x=0.01)\n",
    "plt.xticks(x_axis, labels=handles, rotation=45)\n",
    "plt.title(\"Objects Added to Mia's Collection by Year\")\n",
    "plt.xlabel(\"Year\")\n",
    "plt.ylabel('Number of Objects')"
   ]
  },
  {
   "cell_type": "code",
   "execution_count": 81,
   "metadata": {},
   "outputs": [
    {
     "data": {
      "text/html": [
       "<div>\n",
       "<style scoped>\n",
       "    .dataframe tbody tr th:only-of-type {\n",
       "        vertical-align: middle;\n",
       "    }\n",
       "\n",
       "    .dataframe tbody tr th {\n",
       "        vertical-align: top;\n",
       "    }\n",
       "\n",
       "    .dataframe thead th {\n",
       "        text-align: right;\n",
       "    }\n",
       "</style>\n",
       "<table border=\"1\" class=\"dataframe\">\n",
       "  <thead>\n",
       "    <tr style=\"text-align: right;\">\n",
       "      <th></th>\n",
       "      <th>accession_year</th>\n",
       "      <th>count_objects</th>\n",
       "    </tr>\n",
       "  </thead>\n",
       "  <tbody>\n",
       "    <tr>\n",
       "      <th>59</th>\n",
       "      <td>66</td>\n",
       "      <td>8013</td>\n",
       "    </tr>\n",
       "    <tr>\n",
       "      <th>92</th>\n",
       "      <td>99</td>\n",
       "      <td>6637</td>\n",
       "    </tr>\n",
       "    <tr>\n",
       "      <th>9</th>\n",
       "      <td>16</td>\n",
       "      <td>5456</td>\n",
       "    </tr>\n",
       "    <tr>\n",
       "      <th>17</th>\n",
       "      <td>24</td>\n",
       "      <td>3491</td>\n",
       "    </tr>\n",
       "    <tr>\n",
       "      <th>106</th>\n",
       "      <td>2013</td>\n",
       "      <td>3000</td>\n",
       "    </tr>\n",
       "    <tr>\n",
       "      <th>91</th>\n",
       "      <td>98</td>\n",
       "      <td>2854</td>\n",
       "    </tr>\n",
       "    <tr>\n",
       "      <th>96</th>\n",
       "      <td>2003</td>\n",
       "      <td>2434</td>\n",
       "    </tr>\n",
       "    <tr>\n",
       "      <th>100</th>\n",
       "      <td>2007</td>\n",
       "      <td>2163</td>\n",
       "    </tr>\n",
       "    <tr>\n",
       "      <th>97</th>\n",
       "      <td>2004</td>\n",
       "      <td>1942</td>\n",
       "    </tr>\n",
       "    <tr>\n",
       "      <th>67</th>\n",
       "      <td>74</td>\n",
       "      <td>1792</td>\n",
       "    </tr>\n",
       "  </tbody>\n",
       "</table>\n",
       "</div>"
      ],
      "text/plain": [
       "     accession_year  count_objects\n",
       "59               66           8013\n",
       "92               99           6637\n",
       "9                16           5456\n",
       "17               24           3491\n",
       "106            2013           3000\n",
       "91               98           2854\n",
       "96             2003           2434\n",
       "100            2007           2163\n",
       "97             2004           1942\n",
       "67               74           1792"
      ]
     },
     "execution_count": 81,
     "metadata": {},
     "output_type": "execute_result"
    }
   ],
   "source": [
    "# Pull out top 10 years for gifts\n",
    "collection_year.sort_values('count_objects', ascending=False).head(10)"
   ]
  },
  {
   "cell_type": "markdown",
   "metadata": {},
   "source": [
    "# Data Visualization\n",
    "\n",
    "- How many objects are gifted per year\n",
    "- How many objects are from each country\n",
    "- See how the number of objects by country changes over time"
   ]
  },
  {
   "cell_type": "code",
   "execution_count": 3,
   "metadata": {},
   "outputs": [
    {
     "data": {
      "text/html": [
       "<div>\n",
       "<style scoped>\n",
       "    .dataframe tbody tr th:only-of-type {\n",
       "        vertical-align: middle;\n",
       "    }\n",
       "\n",
       "    .dataframe tbody tr th {\n",
       "        vertical-align: top;\n",
       "    }\n",
       "\n",
       "    .dataframe thead th {\n",
       "        text-align: right;\n",
       "    }\n",
       "</style>\n",
       "<table border=\"1\" class=\"dataframe\">\n",
       "  <thead>\n",
       "    <tr style=\"text-align: right;\">\n",
       "      <th></th>\n",
       "      <th>accession_year</th>\n",
       "      <th>accession_number</th>\n",
       "    </tr>\n",
       "  </thead>\n",
       "  <tbody>\n",
       "    <tr>\n",
       "      <th>0</th>\n",
       "      <td>6</td>\n",
       "      <td>2</td>\n",
       "    </tr>\n",
       "    <tr>\n",
       "      <th>1</th>\n",
       "      <td>8</td>\n",
       "      <td>2</td>\n",
       "    </tr>\n",
       "    <tr>\n",
       "      <th>2</th>\n",
       "      <td>9</td>\n",
       "      <td>105</td>\n",
       "    </tr>\n",
       "    <tr>\n",
       "      <th>3</th>\n",
       "      <td>10</td>\n",
       "      <td>5</td>\n",
       "    </tr>\n",
       "    <tr>\n",
       "      <th>4</th>\n",
       "      <td>11</td>\n",
       "      <td>2</td>\n",
       "    </tr>\n",
       "  </tbody>\n",
       "</table>\n",
       "</div>"
      ],
      "text/plain": [
       "   accession_year  accession_number\n",
       "0               6                 2\n",
       "1               8                 2\n",
       "2               9               105\n",
       "3              10                 5\n",
       "4              11                 2"
      ]
     },
     "execution_count": 3,
     "metadata": {},
     "output_type": "execute_result"
    }
   ],
   "source": [
    "collection_year = data.groupby(['accession_year'], as_index=False)['accession_number'].count()\n",
    "collection_year.head()"
   ]
  },
  {
   "cell_type": "code",
   "execution_count": 23,
   "metadata": {},
   "outputs": [
    {
     "data": {
      "text/plain": [
       "113"
      ]
     },
     "execution_count": 23,
     "metadata": {},
     "output_type": "execute_result"
    }
   ],
   "source": [
    "len(collection_year['accession_year'].values)"
   ]
  },
  {
   "cell_type": "code",
   "execution_count": 25,
   "metadata": {},
   "outputs": [
    {
     "data": {
      "image/png": "[encoded data removed]",
      "text/plain": [
       "<Figure size 1440x576 with 1 Axes>"
      ]
     },
     "metadata": {
      "needs_background": "light"
     },
     "output_type": "display_data"
    }
   ],
   "source": [
    "# Create handles from accession_year values\n",
    "handles = collection_year['accession_year'].values\n",
    "\n",
    "# Build the bar chart\n",
    "plt.figure(figsize=(20,8))\n",
    "x_axis = np.arange(0,len(handles))\n",
    "\n",
    "plt.bar(x_axis, collection_year['accession_number'])\n",
    "plt.margins(x=0.01)\n",
    "plt.minorticks_on()\n",
    "plt.xticks(x_axis, labels=handles, rotation=45)\n",
    "plt.title(\"Objects Added to Mia's Collection by Year\")\n",
    "plt.xlabel(\"Year\")\n",
    "plt.ylabel('Number of Objects')\n",
    "\n",
    "# # Save the Figure\n",
    "# plt.savefig(\"Collection_by_Year.png\")\n",
    "\n",
    "\n",
    "# Show the Figure\n",
    "plt.show()"
   ]
  },
  {
   "cell_type": "code",
   "execution_count": null,
   "metadata": {},
   "outputs": [],
   "source": []
  }
 ],
 "metadata": {
  "kernelspec": {
   "display_name": "Python 3",
   "language": "python",
   "name": "python3"
  },
  "language_info": {
   "codemirror_mode": {
    "name": "ipython",
    "version": 3
   },
   "file_extension": ".py",
   "mimetype": "text/x-python",
   "name": "python",
   "nbconvert_exporter": "python",
   "pygments_lexer": "ipython3",
   "version": "3.6.8"
  }
 },
 "nbformat": 4,
 "nbformat_minor": 2
}
